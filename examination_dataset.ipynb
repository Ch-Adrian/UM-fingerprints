{
 "cells": [
  {
   "cell_type": "code",
   "execution_count": 75,
   "metadata": {},
   "outputs": [],
   "source": [
    "from skfp.datasets.moleculenet import load_bace, load_clintox, load_bbbp, load_esol, load_lipophilicity, load_muv, load_pcba, load_tox21, load_toxcast\n",
    "import pandas as pd\n",
    "import numpy as np\n",
    "import matplotlib.pyplot as plt"
   ]
  },
  {
   "cell_type": "code",
   "execution_count": null,
   "metadata": {},
   "outputs": [],
   "source": [
    "def null_na_values(column_nr, df):\n",
    "    print(f'For column {column_nr}:')\n",
    "    amount_of_null_values = df.loc[column_nr,:].isnull().sum().sum()\n",
    "    print(f\"\\tNull values: \", amount_of_null_values)\n",
    "    amount_of_na_values = df.loc[column_nr,:].isna().sum().sum()\n",
    "    print(f\"\\tNa values: \", amount_of_na_values)\n",
    "    return amount_of_null_values, amount_of_na_values\n",
    "\n",
    "def examine_dataset(ds, binary_classes=True):\n",
    "    df = pd.DataFrame(ds)\n",
    "    print(\"Dataset shape: \", df.shape)\n",
    "    amount_of_null_values0, amount_of_na_values0 = null_na_values(0, df)\n",
    "    print()\n",
    "    amount_of_null_values1, amount_of_na_values1 = null_na_values(1, df)\n",
    "\n",
    "    print(\"Data: \\n======================\\n\", df.head(), \"\\n======================\\n\")\n",
    "\n",
    "    if amount_of_na_values1 != 0:\n",
    "        df = df.fillna(0)\n",
    "\n",
    "    labels = df.loc[1,:]\n",
    "    if binary_classes:\n",
    "        label_classes = labels.unique()\n",
    "        print(\"Labels classes: \", label_classes)\n",
    "    else:\n",
    "        print(labels)\n",
    "        label_classes = np.sort(labels.unique())\n",
    "        print(f\"Len labels: {len(labels)}, len label classes: {len(label_classes)}\")\n",
    "        label_min = min(labels)\n",
    "        label_max = max(labels)\n",
    "        print(f\"Label stats: min: {label_min}, max: {label_max}, mean: {np.mean(labels)}, std: {np.std(labels)}\")\n",
    "        plt.hist(labels, bins=len(label_classes))\n",
    "        plt.show()\n",
    "        plt.boxplot(labels)\n",
    "        plt.show()\n",
    "\n",
    "        # print(\"Labels classes float: \", label_classes)"
   ]
  },
  {
   "cell_type": "code",
   "execution_count": 155,
   "metadata": {},
   "outputs": [
    {
     "name": "stdout",
     "output_type": "stream",
     "text": [
      "Dataset shape:  (2, 1513)\n",
      "For column 0:\n",
      "\tNull values:  0\n",
      "\tNa values:  0\n",
      "\n",
      "For column 1:\n",
      "\tNull values:  0\n",
      "\tNa values:  0\n",
      "Data: \n",
      "======================\n",
      " 0    O1CC[C@@H](NC(=O)[C@@H](Cc2cc3cc(ccc3nc2N)-c2c...\n",
      "1                                                    1\n",
      "Name: 0, dtype: object \n",
      "======================\n",
      "\n",
      "Labels classes:  [1 0]\n"
     ]
    }
   ],
   "source": [
    "examine_dataset(load_bace())"
   ]
  },
  {
   "cell_type": "code",
   "execution_count": 46,
   "metadata": {},
   "outputs": [
    {
     "name": "stdout",
     "output_type": "stream",
     "text": [
      "Dataset shape:  (2, 2039)\n",
      "Labels classes:  [1 0]\n",
      "Data: \n",
      "======================\n",
      " 0    [Cl].CC(C)NCC(O)COc1cccc2ccccc12\n",
      "1                                   1\n",
      "Name: 0, dtype: object \n",
      "======================\n",
      "\n",
      "For column 0:\n",
      "\tNull values:  0\n",
      "\tNa values:  0\n",
      "\n",
      "For column 1:\n",
      "\tNull values:  0\n",
      "\tNa values:  0\n"
     ]
    }
   ],
   "source": [
    "examine_dataset(load_bbbp())"
   ]
  },
  {
   "cell_type": "code",
   "execution_count": null,
   "metadata": {},
   "outputs": [
    {
     "name": "stdout",
     "output_type": "stream",
     "text": [
      "Dataset shape:  (2, 1477)\n",
      "1477 1477\n",
      "Labels classes left:  [0 1]\n",
      "Labels classes right:  [0 1]\n",
      "Data: \n",
      "======================\n",
      " 0    [C@@H]1([C@@H]([C@@H]([C@H]([C@@H]([C@@H]1Cl)C...\n",
      "1                                               [1, 0]\n",
      "Name: 0, dtype: object \n",
      "======================\n",
      "\n",
      "For column 0:\n",
      "\tNull values:  0\n",
      "\tNa values:  0\n",
      "\n",
      "For column 1:\n",
      "\tNull values:  0\n",
      "\tNa values:  0\n"
     ]
    }
   ],
   "source": [
    "def null_na_values(column_nr, df):\n",
    "    print(f'For column {column_nr}:')\n",
    "    amount_of_na_values = df.loc[column_nr,:].isna().sum().sum()\n",
    "    print(f\"\\tNa values: \", amount_of_na_values)\n",
    "\n",
    "def examine_dataset_clintox(ds):\n",
    "    df = pd.DataFrame(ds)\n",
    "    print(\"Dataset shape: \", df.shape)\n",
    "\n",
    "    labels = df.loc[1,:]\n",
    "    labels = list(labels)\n",
    "    labels = np.array(labels)\n",
    "    lab_left = labels[:, 0]\n",
    "    lab_right = labels[:, 1]\n",
    "    print(len(lab_left), len(lab_right))\n",
    "\n",
    "    label_classes_left = np.unique(lab_left)\n",
    "    label_classes_right = np.unique(lab_right)\n",
    "    print(\"Labels classes left: \", label_classes_left)\n",
    "    print(\"Labels classes right: \", label_classes_right)\n",
    "    \n",
    "    print(\"Data: \\n======================\\n\", df.loc[:,0], \"\\n======================\\n\")\n",
    "\n",
    "    null_na_values(0, df)\n",
    "    print()\n",
    "    null_na_values(1, df)\n",
    "\n",
    "examine_dataset_clintox(load_clintox())"
   ]
  },
  {
   "cell_type": "code",
   "execution_count": 97,
   "metadata": {},
   "outputs": [
    {
     "name": "stdout",
     "output_type": "stream",
     "text": [
      "Dataset shape:  (2, 1128)\n",
      "Len labels: 1128, len label classes: 734\n",
      "Label stats: min: -11.6, max: 1.58, mean: -3.0501019503546094, std: 2.0955117304559443\n"
     ]
    },
    {
     "data": {
      "image/png": "[encoded data removed]",
      "text/plain": [
       "<Figure size 640x480 with 1 Axes>"
      ]
     },
     "metadata": {},
     "output_type": "display_data"
    },
    {
     "data": {
      "image/png": "[encoded data removed]",
      "text/plain": [
       "<Figure size 640x480 with 1 Axes>"
      ]
     },
     "metadata": {},
     "output_type": "display_data"
    },
    {
     "name": "stdout",
     "output_type": "stream",
     "text": [
      "Data: \n",
      "======================\n",
      " 0    OCC3OC(OCC2OC(OC(C#N)c1ccccc1)C(O)C(O)C2O)C(O)...\n",
      "1                                                -0.77\n",
      "Name: 0, dtype: object \n",
      "======================\n",
      "\n",
      "For column 0:\n",
      "\tNull values:  0\n",
      "\tNa values:  0\n",
      "\n",
      "For column 1:\n",
      "\tNull values:  0\n",
      "\tNa values:  0\n"
     ]
    }
   ],
   "source": [
    "examine_dataset(load_esol(), False)"
   ]
  },
  {
   "cell_type": "code",
   "execution_count": 98,
   "metadata": {},
   "outputs": [
    {
     "name": "stdout",
     "output_type": "stream",
     "text": [
      "Dataset shape:  (2, 4200)\n",
      "Len labels: 4200, len label classes: 553\n",
      "Label stats: min: -1.5, max: 4.5, mean: 2.1863357142857165, std: 1.2028604901336188\n"
     ]
    },
    {
     "data": {
      "image/png": "[encoded data removed]",
      "text/plain": [
       "<Figure size 640x480 with 1 Axes>"
      ]
     },
     "metadata": {},
     "output_type": "display_data"
    },
    {
     "data": {
      "image/png": "[encoded data removed]",
      "text/plain": [
       "<Figure size 640x480 with 1 Axes>"
      ]
     },
     "metadata": {},
     "output_type": "display_data"
    },
    {
     "name": "stdout",
     "output_type": "stream",
     "text": [
      "Data: \n",
      "======================\n",
      " 0    Cn1c(CN2CCN(CC2)c3ccc(Cl)cc3)nc4ccccc14\n",
      "1                                       3.54\n",
      "Name: 0, dtype: object \n",
      "======================\n",
      "\n",
      "For column 0:\n",
      "\tNull values:  0\n",
      "\tNa values:  0\n",
      "\n",
      "For column 1:\n",
      "\tNull values:  0\n",
      "\tNa values:  0\n"
     ]
    }
   ],
   "source": [
    "examine_dataset(load_lipophilicity(), False)"
   ]
  },
  {
   "cell_type": "code",
   "execution_count": null,
   "metadata": {},
   "outputs": [],
   "source": [
    "def null_na_values(column_nr, df):\n",
    "    print(f'For column {column_nr}:')\n",
    "    amount_of_na_values = (np.isnan(list(df.loc[1,:])).sum(axis=1)).sum()\n",
    "    print(f\"\\tNa values: \", amount_of_na_values)\n",
    "    return amount_of_na_values\n",
    "\n",
    "def examine_dataset_for_list(ds, binary_classes=True):\n",
    "    df = pd.DataFrame(ds)\n",
    "    print(\"Dataset shape: \", df.shape)\n",
    "    amount_of_na_values0 = null_na_values(0, df)\n",
    "    print()\n",
    "    amount_of_na_values1 = null_na_values(1, df)\n",
    "\n",
    "    print(\"Data: \\n======================\\n\", df.loc[:,0], \"\\n======================\\n\")\n",
    "\n",
    "    values = set()\n",
    "    if amount_of_na_values1 != 0:\n",
    "        for row in df.loc[1,:]:\n",
    "            np.nan_to_num(row, copy=False)\n",
    "            for v in row:\n",
    "                values.add(v)\n",
    "\n",
    "    labels = np.array(values)\n",
    "    print(\"Values: \", labels)\n"
   ]
  },
  {
   "cell_type": "code",
   "execution_count": null,
   "metadata": {},
   "outputs": [
    {
     "name": "stdout",
     "output_type": "stream",
     "text": [
      "Dataset shape:  (2, 93087)\n",
      "For column 0:\n",
      "\tNa values:  1332593\n",
      "\n",
      "For column 1:\n",
      "\tNa values:  1332593\n",
      "Data: \n",
      "======================\n",
      " 0      Cc1cccc(N2CCN(C(=O)C34CC5CC(CC(C5)C3)C4)CC2)c1C\n",
      "1    [nan, nan, nan, nan, nan, nan, nan, 0.0, nan, ...\n",
      "Name: 0, dtype: object \n",
      "======================\n",
      "\n",
      "{0.0, 1.0}\n"
     ]
    }
   ],
   "source": [
    "examine_dataset_for_list(load_muv(), False)\n"
   ]
  },
  {
   "cell_type": "code",
   "execution_count": 182,
   "metadata": {},
   "outputs": [
    {
     "name": "stdout",
     "output_type": "stream",
     "text": [
      "Dataset shape:  (2, 437929)\n",
      "For column 0:\n",
      "\tNa values:  22037742\n",
      "\n",
      "For column 1:\n",
      "\tNa values:  22037742\n",
      "Data: \n",
      "======================\n",
      " 0                 CC(=O)N1CCC2(CC1)NC(=O)N(c1ccccc1)N2\n",
      "1    [0.0, 0.0, nan, 0.0, 0.0, 0.0, 0.0, 0.0, 0.0, ...\n",
      "Name: 0, dtype: object \n",
      "======================\n",
      "\n",
      "{0.0, 1.0}\n"
     ]
    }
   ],
   "source": [
    "examine_dataset_for_list(load_pcba())"
   ]
  },
  {
   "cell_type": "code",
   "execution_count": 183,
   "metadata": {},
   "outputs": [
    {
     "name": "stdout",
     "output_type": "stream",
     "text": [
      "Dataset shape:  (2, 7831)\n",
      "For column 0:\n",
      "\tNa values:  16026\n",
      "\n",
      "For column 1:\n",
      "\tNa values:  16026\n",
      "Data: \n",
      "======================\n",
      " 0                         CCOc1ccc2nc(S(N)(=O)=O)sc2c1\n",
      "1    [0.0, 0.0, 1.0, nan, nan, 0.0, 0.0, 1.0, 0.0, ...\n",
      "Name: 0, dtype: object \n",
      "======================\n",
      "\n",
      "{0.0, 1.0}\n"
     ]
    }
   ],
   "source": [
    "examine_dataset_for_list(load_tox21())"
   ]
  },
  {
   "cell_type": "code",
   "execution_count": 184,
   "metadata": {},
   "outputs": [
    {
     "name": "stdout",
     "output_type": "stream",
     "text": [
      "Dataset shape:  (2, 8576)\n",
      "For column 0:\n",
      "\tNa values:  3757732\n",
      "\n",
      "For column 1:\n",
      "\tNa values:  3757732\n",
      "Data: \n",
      "======================\n",
      " 0                          [O-][N+](=O)C1=CC=C(Cl)C=C1\n",
      "1    [0.0, 0.0, nan, nan, nan, nan, nan, nan, nan, ...\n",
      "Name: 0, dtype: object \n",
      "======================\n",
      "\n",
      "{0.0, 1.0}\n"
     ]
    }
   ],
   "source": [
    "examine_dataset_for_list(load_toxcast())"
   ]
  },
  {
   "cell_type": "markdown",
   "metadata": {},
   "source": [
    "# TDC"
   ]
  },
  {
   "cell_type": "code",
   "execution_count": 198,
   "metadata": {},
   "outputs": [],
   "source": [
    "def null_na_values(column_nr, df):\n",
    "    print(f'For column {column_nr}:')\n",
    "    amount_of_null_values = df.loc[column_nr,:].isnull().sum().sum()\n",
    "    print(f\"\\tNull values: \", amount_of_null_values)\n",
    "    amount_of_na_values = df.loc[column_nr,:].isna().sum().sum()\n",
    "    print(f\"\\tNa values: \", amount_of_na_values)\n",
    "    return amount_of_null_values, amount_of_na_values\n",
    "\n",
    "def examine_dataset_TDC(ds, binary_classes=True):\n",
    "    df = pd.DataFrame(ds)\n",
    "    print(\"Dataset shape: \", df.shape)\n",
    "    amount_of_null_values0, amount_of_na_values0 = null_na_values(0, df)\n",
    "    print()\n",
    "    amount_of_null_values1, amount_of_na_values1 = null_na_values(1, df)\n",
    "\n",
    "    print(\"Data: \\n======================\\n\", df.head(), \"\\n======================\\n\")\n",
    "\n",
    "    if amount_of_na_values1 != 0:\n",
    "        df = df.fillna(0)\n",
    "\n",
    "    labels = df['Y']\n",
    "    if binary_classes:\n",
    "        label_classes = labels.unique()\n",
    "        print(\"Labels classes: \", label_classes)\n",
    "    else:\n",
    "        print(labels)\n",
    "        label_classes = np.sort(labels.unique())\n",
    "        print(f\"Len labels: {len(labels)}, len label classes: {len(label_classes)}\")\n",
    "        label_min = min(labels)\n",
    "        label_max = max(labels)\n",
    "        print(f\"Label stats: min: {label_min}, max: {label_max}, mean: {np.mean(labels)}, std: {np.std(labels)}\")\n",
    "        plt.hist(labels, bins=len(label_classes))\n",
    "        plt.show()\n",
    "        plt.boxplot(labels)\n",
    "        plt.show()\n",
    "\n",
    "        # print(\"Labels classes float: \", label_classes)"
   ]
  },
  {
   "cell_type": "code",
   "execution_count": 199,
   "metadata": {},
   "outputs": [
    {
     "name": "stderr",
     "output_type": "stream",
     "text": [
      "Found local copy...\n",
      "Loading...\n",
      "Done!\n"
     ]
    }
   ],
   "source": [
    "from tdc.single_pred import ADME\n",
    "data = ADME(name = 'Caco2_Wang')\n",
    "split = data.get_split()\n",
    "train, valid, test = split['train'], split['valid'], split['test']"
   ]
  },
  {
   "cell_type": "code",
   "execution_count": 200,
   "metadata": {},
   "outputs": [
    {
     "name": "stdout",
     "output_type": "stream",
     "text": [
      "Dataset shape:  (637, 2)\n",
      "For column 0:\n",
      "\tNull values:  0\n",
      "\tNa values:  0\n",
      "\n",
      "For column 1:\n",
      "\tNull values:  0\n",
      "\tNa values:  0\n",
      "Data: \n",
      "======================\n",
      "                                                 Drug     Y\n",
      "0            Oc1cc(O)c2c(c1)OC(c1ccc(O)c(O)c1)C(O)C2 -6.22\n",
      "1                   C/C=C\\C#CCC/C=C\\C=C\\C(=O)NCC(C)C -3.86\n",
      "2  COc1ccc2c3c1O[C@H]1[C@@H](O)C=C[C@H]4[C@@H](C2... -4.09\n",
      "3  C#C[C@]1(O)CC[C@H]2[C@@H]3CCC4=Cc5oncc5C[C@]4(... -4.84\n",
      "4  C[C@@H]1C[C@H]2[C@@H]3CCC4=CC(=O)C=C[C@]4(C)[C... -6.12 \n",
      "======================\n",
      "\n",
      "0     -6.22\n",
      "1     -3.86\n",
      "2     -4.09\n",
      "3     -4.84\n",
      "4     -6.12\n",
      "       ... \n",
      "632   -5.36\n",
      "633   -5.32\n",
      "634   -5.97\n",
      "635   -4.95\n",
      "636   -4.84\n",
      "Name: Y, Length: 637, dtype: float64\n",
      "Len labels: 637, len label classes: 455\n",
      "Label stats: min: -7.619999900000002, max: -3.729485, mean: -5.251132117739403, std: 0.7827801163706717\n"
     ]
    },
    {
     "data": {
      "image/png": "[encoded data removed]",
      "text/plain": [
       "<Figure size 640x480 with 1 Axes>"
      ]
     },
     "metadata": {},
     "output_type": "display_data"
    },
    {
     "data": {
      "image/png": "[encoded data removed]",
      "text/plain": [
       "<Figure size 640x480 with 1 Axes>"
      ]
     },
     "metadata": {},
     "output_type": "display_data"
    }
   ],
   "source": [
    "ds = train.drop(columns=['Drug_ID'])\n",
    "examine_dataset_TDC(ds, False)"
   ]
  },
  {
   "cell_type": "code",
   "execution_count": null,
   "metadata": {},
   "outputs": [],
   "source": []
  }
 ],
 "metadata": {
  "kernelspec": {
   "display_name": ".venv",
   "language": "python",
   "name": "python3"
  },
  "language_info": {
   "codemirror_mode": {
    "name": "ipython",
    "version": 3
   },
   "file_extension": ".py",
   "mimetype": "text/x-python",
   "name": "python",
   "nbconvert_exporter": "python",
   "pygments_lexer": "ipython3",
   "version": "3.10.15"
  }
 },
 "nbformat": 4,
 "nbformat_minor": 2
}
