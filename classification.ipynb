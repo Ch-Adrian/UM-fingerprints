{
 "cells": [
  {
   "cell_type": "code",
   "execution_count": 6,
   "id": "084f550f-f817-45ae-89b0-ed6fbeba6222",
   "metadata": {},
   "outputs": [
    {
     "ename": "ImportError",
     "evalue": "dlopen(/Users/karol/miniconda/lib/python3.12/site-packages/torch/_C.cpython-312-darwin.so, 0x0002): Library not loaded: @loader_path/libtorch_cpu.dylib\n  Referenced from: <BF62FCCB-56C3-3F10-8807-63842A41DC44> /Users/karol/miniconda/lib/python3.12/site-packages/torch/lib/libtorch_python.dylib\n  Reason: tried: '/Users/karol/miniconda/lib/python3.12/site-packages/torch/lib/libtorch_cpu.dylib' (no such file), '/usr/local/lib/libtorch_cpu.dylib' (no such file), '/usr/lib/libtorch_cpu.dylib' (no such file, not in dyld cache)",
     "output_type": "error",
     "traceback": [
      "\u001b[0;31m---------------------------------------------------------------------------\u001b[0m",
      "\u001b[0;31mImportError\u001b[0m                               Traceback (most recent call last)",
      "Cell \u001b[0;32mIn[6], line 23\u001b[0m\n\u001b[1;32m     20\u001b[0m \u001b[38;5;28;01mimport\u001b[39;00m \u001b[38;5;21;01mnumpy\u001b[39;00m \u001b[38;5;28;01mas\u001b[39;00m \u001b[38;5;21;01mnp\u001b[39;00m\n\u001b[1;32m     21\u001b[0m \u001b[38;5;28;01mfrom\u001b[39;00m \u001b[38;5;21;01msklearn\u001b[39;00m\u001b[38;5;21;01m.\u001b[39;00m\u001b[38;5;21;01mmodel_selection\u001b[39;00m \u001b[38;5;28;01mimport\u001b[39;00m KFold\n\u001b[0;32m---> 23\u001b[0m \u001b[38;5;28;01mfrom\u001b[39;00m \u001b[38;5;21;01mdeepchem\u001b[39;00m\u001b[38;5;21;01m.\u001b[39;00m\u001b[38;5;21;01mfeat\u001b[39;00m\u001b[38;5;21;01m.\u001b[39;00m\u001b[38;5;21;01msmiles_tokenizer\u001b[39;00m \u001b[38;5;28;01mimport\u001b[39;00m SmilesTokenizer\n",
      "File \u001b[0;32m~/miniconda/lib/python3.12/site-packages/deepchem/__init__.py:8\u001b[0m\n\u001b[1;32m      5\u001b[0m \u001b[38;5;66;03m# If you push the tag, please remove `.dev`\u001b[39;00m\n\u001b[1;32m      6\u001b[0m __version__ \u001b[38;5;241m=\u001b[39m \u001b[38;5;124m'\u001b[39m\u001b[38;5;124m2.5.0\u001b[39m\u001b[38;5;124m'\u001b[39m\n\u001b[0;32m----> 8\u001b[0m \u001b[38;5;28;01mimport\u001b[39;00m \u001b[38;5;21;01mdeepchem\u001b[39;00m\u001b[38;5;21;01m.\u001b[39;00m\u001b[38;5;21;01mdata\u001b[39;00m\n\u001b[1;32m      9\u001b[0m \u001b[38;5;28;01mimport\u001b[39;00m \u001b[38;5;21;01mdeepchem\u001b[39;00m\u001b[38;5;21;01m.\u001b[39;00m\u001b[38;5;21;01mfeat\u001b[39;00m\n\u001b[1;32m     10\u001b[0m \u001b[38;5;28;01mimport\u001b[39;00m \u001b[38;5;21;01mdeepchem\u001b[39;00m\u001b[38;5;21;01m.\u001b[39;00m\u001b[38;5;21;01mhyper\u001b[39;00m\n",
      "File \u001b[0;32m~/miniconda/lib/python3.12/site-packages/deepchem/data/__init__.py:16\u001b[0m\n\u001b[1;32m     14\u001b[0m \u001b[38;5;28;01mfrom\u001b[39;00m \u001b[38;5;21;01mdeepchem\u001b[39;00m\u001b[38;5;21;01m.\u001b[39;00m\u001b[38;5;21;01mdata\u001b[39;00m\u001b[38;5;21;01m.\u001b[39;00m\u001b[38;5;21;01mdatasets\u001b[39;00m \u001b[38;5;28;01mimport\u001b[39;00m densify_features\n\u001b[1;32m     15\u001b[0m \u001b[38;5;28;01mfrom\u001b[39;00m \u001b[38;5;21;01mdeepchem\u001b[39;00m\u001b[38;5;21;01m.\u001b[39;00m\u001b[38;5;21;01mdata\u001b[39;00m\u001b[38;5;21;01m.\u001b[39;00m\u001b[38;5;21;01msupports\u001b[39;00m \u001b[38;5;28;01mimport\u001b[39;00m \u001b[38;5;241m*\u001b[39m\n\u001b[0;32m---> 16\u001b[0m \u001b[38;5;28;01mfrom\u001b[39;00m \u001b[38;5;21;01mdeepchem\u001b[39;00m\u001b[38;5;21;01m.\u001b[39;00m\u001b[38;5;21;01mdata\u001b[39;00m\u001b[38;5;21;01m.\u001b[39;00m\u001b[38;5;21;01mdata_loader\u001b[39;00m \u001b[38;5;28;01mimport\u001b[39;00m DataLoader\n\u001b[1;32m     17\u001b[0m \u001b[38;5;28;01mfrom\u001b[39;00m \u001b[38;5;21;01mdeepchem\u001b[39;00m\u001b[38;5;21;01m.\u001b[39;00m\u001b[38;5;21;01mdata\u001b[39;00m\u001b[38;5;21;01m.\u001b[39;00m\u001b[38;5;21;01mdata_loader\u001b[39;00m \u001b[38;5;28;01mimport\u001b[39;00m CSVLoader\n\u001b[1;32m     18\u001b[0m \u001b[38;5;28;01mfrom\u001b[39;00m \u001b[38;5;21;01mdeepchem\u001b[39;00m\u001b[38;5;21;01m.\u001b[39;00m\u001b[38;5;21;01mdata\u001b[39;00m\u001b[38;5;21;01m.\u001b[39;00m\u001b[38;5;21;01mdata_loader\u001b[39;00m \u001b[38;5;28;01mimport\u001b[39;00m UserCSVLoader\n",
      "File \u001b[0;32m~/miniconda/lib/python3.12/site-packages/deepchem/data/data_loader.py:18\u001b[0m\n\u001b[1;32m     16\u001b[0m \u001b[38;5;28;01mfrom\u001b[39;00m \u001b[38;5;21;01mdeepchem\u001b[39;00m\u001b[38;5;21;01m.\u001b[39;00m\u001b[38;5;21;01mutils\u001b[39;00m\u001b[38;5;21;01m.\u001b[39;00m\u001b[38;5;21;01mdata_utils\u001b[39;00m \u001b[38;5;28;01mimport\u001b[39;00m load_image_files, load_csv_files, load_json_files, load_sdf_files\n\u001b[1;32m     17\u001b[0m \u001b[38;5;28;01mfrom\u001b[39;00m \u001b[38;5;21;01mdeepchem\u001b[39;00m\u001b[38;5;21;01m.\u001b[39;00m\u001b[38;5;21;01mutils\u001b[39;00m\u001b[38;5;21;01m.\u001b[39;00m\u001b[38;5;21;01mgenomics_utils\u001b[39;00m \u001b[38;5;28;01mimport\u001b[39;00m encode_bio_sequence\n\u001b[0;32m---> 18\u001b[0m \u001b[38;5;28;01mfrom\u001b[39;00m \u001b[38;5;21;01mdeepchem\u001b[39;00m\u001b[38;5;21;01m.\u001b[39;00m\u001b[38;5;21;01mfeat\u001b[39;00m \u001b[38;5;28;01mimport\u001b[39;00m UserDefinedFeaturizer, Featurizer\n\u001b[1;32m     19\u001b[0m \u001b[38;5;28;01mfrom\u001b[39;00m \u001b[38;5;21;01mdeepchem\u001b[39;00m\u001b[38;5;21;01m.\u001b[39;00m\u001b[38;5;21;01mdata\u001b[39;00m \u001b[38;5;28;01mimport\u001b[39;00m Dataset, DiskDataset, NumpyDataset, ImageDataset\n\u001b[1;32m     21\u001b[0m logger \u001b[38;5;241m=\u001b[39m logging\u001b[38;5;241m.\u001b[39mgetLogger(\u001b[38;5;18m__name__\u001b[39m)\n",
      "File \u001b[0;32m~/miniconda/lib/python3.12/site-packages/deepchem/feat/__init__.py:65\u001b[0m\n\u001b[1;32m     62\u001b[0m \u001b[38;5;28;01mfrom\u001b[39;00m \u001b[38;5;21;01mdeepchem\u001b[39;00m\u001b[38;5;21;01m.\u001b[39;00m\u001b[38;5;21;01mfeat\u001b[39;00m\u001b[38;5;21;01m.\u001b[39;00m\u001b[38;5;21;01matomic_conformation\u001b[39;00m \u001b[38;5;28;01mimport\u001b[39;00m AtomicConformationFeaturizer\n\u001b[1;32m     64\u001b[0m \u001b[38;5;28;01mtry\u001b[39;00m:\n\u001b[0;32m---> 65\u001b[0m   \u001b[38;5;28;01mimport\u001b[39;00m \u001b[38;5;21;01mtransformers\u001b[39;00m\n\u001b[1;32m     66\u001b[0m   \u001b[38;5;28;01mfrom\u001b[39;00m \u001b[38;5;21;01mtransformers\u001b[39;00m \u001b[38;5;28;01mimport\u001b[39;00m BertTokenizer\n\u001b[1;32m     68\u001b[0m   \u001b[38;5;28;01mfrom\u001b[39;00m \u001b[38;5;21;01mdeepchem\u001b[39;00m\u001b[38;5;21;01m.\u001b[39;00m\u001b[38;5;21;01mfeat\u001b[39;00m\u001b[38;5;21;01m.\u001b[39;00m\u001b[38;5;21;01msmiles_tokenizer\u001b[39;00m \u001b[38;5;28;01mimport\u001b[39;00m SmilesTokenizer\n",
      "File \u001b[0;32m~/miniconda/lib/python3.12/site-packages/transformers/__init__.py:26\u001b[0m\n\u001b[1;32m     23\u001b[0m \u001b[38;5;28;01mfrom\u001b[39;00m \u001b[38;5;21;01mtyping\u001b[39;00m \u001b[38;5;28;01mimport\u001b[39;00m TYPE_CHECKING\n\u001b[1;32m     25\u001b[0m \u001b[38;5;66;03m# Check the dependencies satisfy the minimal versions required.\u001b[39;00m\n\u001b[0;32m---> 26\u001b[0m \u001b[38;5;28;01mfrom\u001b[39;00m \u001b[38;5;21;01m.\u001b[39;00m \u001b[38;5;28;01mimport\u001b[39;00m dependency_versions_check\n\u001b[1;32m     27\u001b[0m \u001b[38;5;28;01mfrom\u001b[39;00m \u001b[38;5;21;01m.\u001b[39;00m\u001b[38;5;21;01mutils\u001b[39;00m \u001b[38;5;28;01mimport\u001b[39;00m (\n\u001b[1;32m     28\u001b[0m     OptionalDependencyNotAvailable,\n\u001b[1;32m     29\u001b[0m     _LazyModule,\n\u001b[0;32m   (...)\u001b[0m\n\u001b[1;32m     48\u001b[0m     logging,\n\u001b[1;32m     49\u001b[0m )\n\u001b[1;32m     52\u001b[0m logger \u001b[38;5;241m=\u001b[39m logging\u001b[38;5;241m.\u001b[39mget_logger(\u001b[38;5;18m__name__\u001b[39m)  \u001b[38;5;66;03m# pylint: disable=invalid-name\u001b[39;00m\n",
      "File \u001b[0;32m~/miniconda/lib/python3.12/site-packages/transformers/dependency_versions_check.py:16\u001b[0m\n\u001b[1;32m      1\u001b[0m \u001b[38;5;66;03m# Copyright 2020 The HuggingFace Team. All rights reserved.\u001b[39;00m\n\u001b[1;32m      2\u001b[0m \u001b[38;5;66;03m#\u001b[39;00m\n\u001b[1;32m      3\u001b[0m \u001b[38;5;66;03m# Licensed under the Apache License, Version 2.0 (the \"License\");\u001b[39;00m\n\u001b[0;32m   (...)\u001b[0m\n\u001b[1;32m     12\u001b[0m \u001b[38;5;66;03m# See the License for the specific language governing permissions and\u001b[39;00m\n\u001b[1;32m     13\u001b[0m \u001b[38;5;66;03m# limitations under the License.\u001b[39;00m\n\u001b[1;32m     15\u001b[0m \u001b[38;5;28;01mfrom\u001b[39;00m \u001b[38;5;21;01m.\u001b[39;00m\u001b[38;5;21;01mdependency_versions_table\u001b[39;00m \u001b[38;5;28;01mimport\u001b[39;00m deps\n\u001b[0;32m---> 16\u001b[0m \u001b[38;5;28;01mfrom\u001b[39;00m \u001b[38;5;21;01m.\u001b[39;00m\u001b[38;5;21;01mutils\u001b[39;00m\u001b[38;5;21;01m.\u001b[39;00m\u001b[38;5;21;01mversions\u001b[39;00m \u001b[38;5;28;01mimport\u001b[39;00m require_version, require_version_core\n\u001b[1;32m     19\u001b[0m \u001b[38;5;66;03m# define which module versions we always want to check at run time\u001b[39;00m\n\u001b[1;32m     20\u001b[0m \u001b[38;5;66;03m# (usually the ones defined in `install_requires` in setup.py)\u001b[39;00m\n\u001b[1;32m     21\u001b[0m \u001b[38;5;66;03m#\u001b[39;00m\n\u001b[1;32m     22\u001b[0m \u001b[38;5;66;03m# order specific notes:\u001b[39;00m\n\u001b[1;32m     23\u001b[0m \u001b[38;5;66;03m# - tqdm must be checked before tokenizers\u001b[39;00m\n\u001b[1;32m     25\u001b[0m pkgs_to_check_at_runtime \u001b[38;5;241m=\u001b[39m [\n\u001b[1;32m     26\u001b[0m     \u001b[38;5;124m\"\u001b[39m\u001b[38;5;124mpython\u001b[39m\u001b[38;5;124m\"\u001b[39m,\n\u001b[1;32m     27\u001b[0m     \u001b[38;5;124m\"\u001b[39m\u001b[38;5;124mtqdm\u001b[39m\u001b[38;5;124m\"\u001b[39m,\n\u001b[0;32m   (...)\u001b[0m\n\u001b[1;32m     37\u001b[0m     \u001b[38;5;124m\"\u001b[39m\u001b[38;5;124mpyyaml\u001b[39m\u001b[38;5;124m\"\u001b[39m,\n\u001b[1;32m     38\u001b[0m ]\n",
      "File \u001b[0;32m~/miniconda/lib/python3.12/site-packages/transformers/utils/__init__.py:27\u001b[0m\n\u001b[1;32m     25\u001b[0m \u001b[38;5;28;01mfrom\u001b[39;00m \u001b[38;5;21;01m.\u001b[39;00m\u001b[38;5;21;01m.\u001b[39;00m \u001b[38;5;28;01mimport\u001b[39;00m __version__\n\u001b[1;32m     26\u001b[0m \u001b[38;5;28;01mfrom\u001b[39;00m \u001b[38;5;21;01m.\u001b[39;00m\u001b[38;5;21;01mbackbone_utils\u001b[39;00m \u001b[38;5;28;01mimport\u001b[39;00m BackboneConfigMixin, BackboneMixin\n\u001b[0;32m---> 27\u001b[0m \u001b[38;5;28;01mfrom\u001b[39;00m \u001b[38;5;21;01m.\u001b[39;00m\u001b[38;5;21;01mchat_template_utils\u001b[39;00m \u001b[38;5;28;01mimport\u001b[39;00m DocstringParsingException, TypeHintParsingException, get_json_schema\n\u001b[1;32m     28\u001b[0m \u001b[38;5;28;01mfrom\u001b[39;00m \u001b[38;5;21;01m.\u001b[39;00m\u001b[38;5;21;01mconstants\u001b[39;00m \u001b[38;5;28;01mimport\u001b[39;00m IMAGENET_DEFAULT_MEAN, IMAGENET_DEFAULT_STD, IMAGENET_STANDARD_MEAN, IMAGENET_STANDARD_STD\n\u001b[1;32m     29\u001b[0m \u001b[38;5;28;01mfrom\u001b[39;00m \u001b[38;5;21;01m.\u001b[39;00m\u001b[38;5;21;01mdoc\u001b[39;00m \u001b[38;5;28;01mimport\u001b[39;00m (\n\u001b[1;32m     30\u001b[0m     add_code_sample_docstrings,\n\u001b[1;32m     31\u001b[0m     add_end_docstrings,\n\u001b[0;32m   (...)\u001b[0m\n\u001b[1;32m     35\u001b[0m     replace_return_docstrings,\n\u001b[1;32m     36\u001b[0m )\n",
      "File \u001b[0;32m~/miniconda/lib/python3.12/site-packages/transformers/utils/chat_template_utils.py:39\u001b[0m\n\u001b[1;32m     36\u001b[0m     \u001b[38;5;28;01mfrom\u001b[39;00m \u001b[38;5;21;01mPIL\u001b[39;00m\u001b[38;5;21;01m.\u001b[39;00m\u001b[38;5;21;01mImage\u001b[39;00m \u001b[38;5;28;01mimport\u001b[39;00m Image\n\u001b[1;32m     38\u001b[0m \u001b[38;5;28;01mif\u001b[39;00m is_torch_available():\n\u001b[0;32m---> 39\u001b[0m     \u001b[38;5;28;01mfrom\u001b[39;00m \u001b[38;5;21;01mtorch\u001b[39;00m \u001b[38;5;28;01mimport\u001b[39;00m Tensor\n\u001b[1;32m     42\u001b[0m BASIC_TYPES \u001b[38;5;241m=\u001b[39m (\u001b[38;5;28mint\u001b[39m, \u001b[38;5;28mfloat\u001b[39m, \u001b[38;5;28mstr\u001b[39m, \u001b[38;5;28mbool\u001b[39m, Any, \u001b[38;5;28mtype\u001b[39m(\u001b[38;5;28;01mNone\u001b[39;00m), \u001b[38;5;241m.\u001b[39m\u001b[38;5;241m.\u001b[39m\u001b[38;5;241m.\u001b[39m)\n\u001b[1;32m     43\u001b[0m \u001b[38;5;66;03m# Extracts the initial segment of the docstring, containing the function description\u001b[39;00m\n",
      "File \u001b[0;32m~/miniconda/lib/python3.12/site-packages/torch/__init__.py:237\u001b[0m\n\u001b[1;32m    235\u001b[0m     \u001b[38;5;28;01mif\u001b[39;00m USE_GLOBAL_DEPS:\n\u001b[1;32m    236\u001b[0m         _load_global_deps()\n\u001b[0;32m--> 237\u001b[0m     \u001b[38;5;28;01mfrom\u001b[39;00m \u001b[38;5;21;01mtorch\u001b[39;00m\u001b[38;5;21;01m.\u001b[39;00m\u001b[38;5;21;01m_C\u001b[39;00m \u001b[38;5;28;01mimport\u001b[39;00m \u001b[38;5;241m*\u001b[39m  \u001b[38;5;66;03m# noqa: F403\u001b[39;00m\n\u001b[1;32m    239\u001b[0m \u001b[38;5;66;03m# Appease the type checker; ordinarily this binding is inserted by the\u001b[39;00m\n\u001b[1;32m    240\u001b[0m \u001b[38;5;66;03m# torch._C module initialization code in C\u001b[39;00m\n\u001b[1;32m    241\u001b[0m \u001b[38;5;28;01mif\u001b[39;00m TYPE_CHECKING:\n",
      "\u001b[0;31mImportError\u001b[0m: dlopen(/Users/karol/miniconda/lib/python3.12/site-packages/torch/_C.cpython-312-darwin.so, 0x0002): Library not loaded: @loader_path/libtorch_cpu.dylib\n  Referenced from: <BF62FCCB-56C3-3F10-8807-63842A41DC44> /Users/karol/miniconda/lib/python3.12/site-packages/torch/lib/libtorch_python.dylib\n  Reason: tried: '/Users/karol/miniconda/lib/python3.12/site-packages/torch/lib/libtorch_cpu.dylib' (no such file), '/usr/local/lib/libtorch_cpu.dylib' (no such file), '/usr/lib/libtorch_cpu.dylib' (no such file, not in dyld cache)"
     ]
    }
   ],
   "source": [
    "from skfp.datasets.moleculenet import load_bace, load_bbbp, load_clintox, load_muv, load_pcba, load_tox21, load_toxcast\n",
    "from skfp.model_selection import scaffold_train_test_split, butina_train_test_split#, maxmin_train_test_split, randomized_scaffold_train_test_split\n",
    "from skfp.fingerprints import ECFPFingerprint, MACCSFingerprint, RDKitFingerprint\n",
    "from skfp.preprocessing import MolFromSmilesTransformer\n",
    "from skfp.filters import BeyondRo5Filter, BMSFilter, BrenkFilter, FAF4DruglikeFilter, FAF4LeadlikeFilter, GhoseFilter, GlaxoFilter, GSKFilter\n",
    "from skfp.filters import HaoFilter, InpharmaticaFilter, LINTFilter, LipinskiFilter, MLSMRFilter, MolecularWeightFilter, NIBRFilter, NIHFilter\n",
    "from skfp.filters import OpreaFilter, PAINSFilter, PfizerFilter, REOSFilter, RuleOfFourFilter, RuleOfThreeFilter, RuleOfTwoFilter, RuleOfVeberFilter\n",
    "from skfp.filters import RuleOfXuFilter, SureChEMBLFilter, TiceHerbicidesFilter, TiceInsecticidesFilter, ValenceDiscoveryFilter, ZINCBasicFilter, ZINCDruglikeFilter\n",
    "\n",
    "from sklearn.ensemble import RandomForestClassifier, GradientBoostingClassifier\n",
    "from sklearn.linear_model import LogisticRegression\n",
    "from sklearn.pipeline import make_pipeline, make_union\n",
    "from sklearn.metrics import accuracy_score, classification_report, roc_auc_score, confusion_matrix, r2_score\n",
    "from sklearn.neighbors import KNeighborsClassifier\n",
    "from sklearn import svm\n",
    "from sklearn.naive_bayes import GaussianNB\n",
    "from sklearn import tree\n",
    "from sklearn.neural_network import MLPClassifier\n",
    "\n",
    "import numpy as np\n",
    "from sklearn.model_selection import KFold\n",
    "\n",
    "from deepchem.feat.smiles_tokenizer import SmilesTokenizer"
   ]
  },
  {
   "cell_type": "code",
   "execution_count": 2,
   "id": "e9ba70ac",
   "metadata": {},
   "outputs": [],
   "source": [
    "# SMILEs tokenizer\n",
    "#tokenizer = SmilesTokenizer(\"./vocab.txt\")\n",
    "#print(tokenizer.encode(\"CC(=O)OC1=CC=CC=C1C(=O)O\"))"
   ]
  },
  {
   "cell_type": "code",
   "execution_count": 7,
   "id": "e8f05a96",
   "metadata": {},
   "outputs": [],
   "source": [
    "\n",
    "# model for classification\n",
    "models = [\n",
    "    LogisticRegression(),\n",
    "    KNeighborsClassifier(),\n",
    "    GaussianNB(),\n",
    "    tree.DecisionTreeClassifier(),\n",
    "    RandomForestClassifier(),\n",
    "    GradientBoostingClassifier(),\n",
    "    MLPClassifier(solver='lbfgs', alpha=1e-5, hidden_layer_sizes=(5, 2), random_state=1),\n",
    "    svm.SVC(probability=True),\n",
    "    # svm.SVR(kernel='linear'),\n",
    "    # svm.SVR(kernel='poly'),\n",
    "    # svm.SVR(kernel='rbf'),\n",
    "    # svm.SVR(kernel='sigmoid'),\n",
    "]"
   ]
  },
  {
   "cell_type": "code",
   "execution_count": 8,
   "id": "b647a011",
   "metadata": {},
   "outputs": [],
   "source": [
    "fingerprints = [\n",
    "    ECFPFingerprint(),\n",
    "    MACCSFingerprint(),\n",
    "    RDKitFingerprint(),\n",
    "    BeyondRo5Filter(),\n",
    "]\n",
    "\n",
    "filters = [\n",
    "    BeyondRo5Filter, BMSFilter, BrenkFilter, FAF4DruglikeFilter, FAF4LeadlikeFilter, GhoseFilter, GlaxoFilter, GSKFilter,\n",
    "    HaoFilter, InpharmaticaFilter, LINTFilter, LipinskiFilter, MLSMRFilter, MolecularWeightFilter, NIBRFilter, NIHFilter,\n",
    "    OpreaFilter, PAINSFilter, PfizerFilter, REOSFilter, RuleOfFourFilter, RuleOfThreeFilter, RuleOfTwoFilter, RuleOfVeberFilter,\n",
    "    RuleOfXuFilter, SureChEMBLFilter, TiceHerbicidesFilter, TiceInsecticidesFilter, ValenceDiscoveryFilter, ZINCBasicFilter, ZINCDruglikeFilter\n",
    "]\n",
    "\n",
    "filter_names = []\n",
    "\n",
    "for filter in filters:\n",
    "    filter_names.append(filter.__name__)"
   ]
  },
  {
   "cell_type": "code",
   "execution_count": 9,
   "id": "9c9ee1df",
   "metadata": {},
   "outputs": [],
   "source": [
    "pipelines = {\n",
    "    \"baseline_pipeline\": make_pipeline(MolFromSmilesTransformer(), make_union(ECFPFingerprint(count=True), MACCSFingerprint()), LogisticRegression(max_iter=1000)),\n",
    "    \"rf_pipeline\": make_pipeline(MolFromSmilesTransformer(), make_union(ECFPFingerprint(count=True), MACCSFingerprint(), RDKitFingerprint()), RandomForestClassifier(random_state=41, class_weight='balanced')),\n",
    "    \"gb_pipeline\": make_pipeline(MolFromSmilesTransformer(), make_union(ECFPFingerprint(count=True), MACCSFingerprint(), RDKitFingerprint()), GradientBoostingClassifier()),\n",
    "    \"knc_pipeline\": make_pipeline(MolFromSmilesTransformer(), make_union(ECFPFingerprint(count=True), MACCSFingerprint(), RDKitFingerprint()), models[1]),\n",
    "    \"svm_pipeline\": make_pipeline(MolFromSmilesTransformer(), make_union(ECFPFingerprint(count=True), MACCSFingerprint(), RDKitFingerprint()), models[7]),\n",
    "    \"GNB_pipeline\": make_pipeline(MolFromSmilesTransformer(), make_union(ECFPFingerprint(count=True), MACCSFingerprint(), RDKitFingerprint()), models[2]),\n",
    "    \"mlp_pipeline\": make_pipeline(MolFromSmilesTransformer(), make_union(ECFPFingerprint(count=True), MACCSFingerprint(), RDKitFingerprint()), models[6]),\n",
    "}"
   ]
  },
  {
   "cell_type": "code",
   "execution_count": 10,
   "id": "b2e05f78",
   "metadata": {},
   "outputs": [],
   "source": [
    "def calculate_scores(y_test, y_pred, y_proba):\n",
    "    r2score = r2_score(y_test, y_pred)\n",
    "    # print(f\"R2 score for Linear regression model: {r2score:.4f}\")\n",
    "\n",
    "    accuracy = accuracy_score(y_test, y_pred)\n",
    "    # print(f\"Accuracy for Linear regression model: {accuracy:.4f}\")\n",
    "\n",
    "    roc_auc = roc_auc_score(y_test, y_proba[:, 1])\n",
    "    # print(f\"ROC-AUC score for Linear regression model: {roc_auc:.4f}\")\n",
    "    return r2score, accuracy, roc_auc"
   ]
  },
  {
   "cell_type": "markdown",
   "id": "24d5189f",
   "metadata": {},
   "source": [
    "## Applied filters"
   ]
  },
  {
   "cell_type": "code",
   "execution_count": 11,
   "id": "e0e8abd6",
   "metadata": {},
   "outputs": [
    {
     "name": "stdout",
     "output_type": "stream",
     "text": [
      "303\n",
      "Filtered params:  1198 1198 300\n",
      "Baseline: \n",
      "303 303 303\n",
      "Filtered: \n",
      "300 300 300\n",
      "Mixed params:  1198 1198 303\n",
      "Mixed: \n",
      "303 303 303\n",
      "Rest params:  1198 1198 15\n",
      "Rest: \n",
      "303 15 15\n"
     ]
    }
   ],
   "source": [
    "smiles_bace, labels_bace = load_bace()\n",
    "smiles_bace_train, smiles_bace_test, y_train, y_test = scaffold_train_test_split(\n",
    "    smiles_bace, labels_bace, test_size=0.2\n",
    ")\n",
    "\n",
    "pipelines['baseline_pipeline'].fit(smiles_bace_train, y_train)\n",
    "y_pred = pipelines['baseline_pipeline'].predict(smiles_bace_test)\n",
    "y_proba = pipelines['baseline_pipeline'].predict_proba(smiles_bace_test)\n",
    "print(len(smiles_bace_test))\n",
    "bace_mols_mapper = dict() # smile -> label\n",
    "for i in range(len(smiles_bace)):\n",
    "    bace_mols_mapper[smiles_bace[i]] = labels_bace[i]\n",
    "\n",
    "for idx, filter in enumerate(filters):\n",
    "    if idx == 1:\n",
    "        break\n",
    "\n",
    "    filter_f = filter()\n",
    "    filter_f.fit(smiles_bace, labels_bace)\n",
    "    filtered_mols = filter_f.transform(smiles_bace)\n",
    "    filtered_labels = [ bace_mols_mapper[mol] for mol in filtered_mols ]\n",
    "    rest_mols = [ mol for mol in smiles_bace if mol not in filtered_mols ]\n",
    "    rest_labels = [ bace_mols_mapper[mol] for mol in rest_mols ]\n",
    "\n",
    "    filtered_mols_bace_train, filtered_mols_bace_test, y_train_filtered, y_test_filtered = scaffold_train_test_split(\n",
    "        filtered_mols, filtered_labels, test_size=0.2\n",
    "    )\n",
    "    print(\"Filtered params: \", len(filtered_mols_bace_train) , len(y_train_filtered), len(filtered_mols_bace_test))\n",
    "\n",
    "    pipelines['baseline_pipeline'].fit(filtered_mols_bace_train, y_train_filtered)\n",
    "    y_pred_filtered = pipelines['baseline_pipeline'].predict(filtered_mols_bace_test)\n",
    "    y_proba_filtered = pipelines['baseline_pipeline'].predict_proba(filtered_mols_bace_test)\n",
    "\n",
    "    print(\"Baseline: \")\n",
    "    print(len(y_test), len(y_pred), len(y_proba))\n",
    "    roc_auc_baseline = calculate_scores(y_test, y_pred, y_proba)\n",
    "    print(\"Filtered: \")\n",
    "    print(len(y_test_filtered), len(y_pred_filtered), len(y_proba_filtered))\n",
    "    roc_auc_filtered = calculate_scores(y_test_filtered, y_pred_filtered, y_proba_filtered)\n",
    "\n",
    "    print(\"Mixed params: \", len(filtered_mols_bace_train), len(y_train_filtered), len(smiles_bace_test))\n",
    "    pipelines['baseline_pipeline'].fit(filtered_mols_bace_train, y_train_filtered)\n",
    "    y_pred_mixed = pipelines['baseline_pipeline'].predict(smiles_bace_test)\n",
    "    y_proba_mixed = pipelines['baseline_pipeline'].predict_proba(smiles_bace_test)\n",
    "\n",
    "    print(\"Mixed: \")\n",
    "    print(len(y_test), len(y_pred_mixed), len(y_proba_mixed))\n",
    "    roc_auc_mixed = calculate_scores(y_test, y_pred_mixed, y_proba_mixed)\n",
    "\n",
    "    print(\"Rest params: \", len(filtered_mols_bace_train), len(y_train_filtered), len(rest_mols))\n",
    "    pipelines['baseline_pipeline'].fit(filtered_mols_bace_train, y_train_filtered)\n",
    "    y_pred_rest = pipelines['baseline_pipeline'].predict(rest_mols)\n",
    "    y_proba_rest = pipelines['baseline_pipeline'].predict_proba(rest_mols)\n",
    "\n",
    "    print(\"Rest: \")\n",
    "    print(len(y_test), len(y_pred_rest), len(y_proba_rest))\n",
    "    roc_auc_mixed = calculate_scores(rest_labels, y_pred_rest, y_proba_rest)\n",
    "    "
   ]
  },
  {
   "cell_type": "code",
   "execution_count": null,
   "id": "cb9c2197",
   "metadata": {},
   "outputs": [],
   "source": [
    "import csv\n",
    "\n",
    "filename = \"results_for_classification.csv\"\n",
    "\n",
    "# with open(filename, \"a\") as file:\n",
    "    # writer = csv.writer(file, delimiter=\",\")\n",
    "    # writer.writerow([\"Dataset\", \"Model\", \"Filter type\", \"Metric\", \"Baseline value\", \"After filter application\", \"Improvement (%)\", \"Filter metric R2\", \"Filter metric Accuracy\", \"Baseline metric R2\", \"Baseline metric Accuracy\", \"Mixed metric R2\", \"Mixed metric Accuracy\", \"Mixed metric roc_auc\", \"Rest metric R2\", \"Rest metric Accuracy\", \"Rest metric roc_auc\",\"Notes\"])\n",
    "    # writer.writerow([\"bace222\", \"LogisticRegression\", \"-\", \"ROC-AUC\", 0.4753, -1, -1, \"None\"])"
   ]
  },
  {
   "cell_type": "code",
   "execution_count": 17,
   "id": "8c1abf77-beba-47cd-8391-65e28df40b6e",
   "metadata": {},
   "outputs": [],
   "source": [
    "import csv\n",
    "from rdkit import RDLogger\n",
    "\n",
    "RDLogger.DisableLog('rdApp.warning')\n",
    "\n",
    "def process_dataset(dataset_name, smiles, labels, pipelines, filters, filename=\"results.csv\"):\n",
    "    \"\"\"\n",
    "    Processes a dataset by applying molecule filters, training models, and saving results.\n",
    "    \n",
    "    Parameters:\n",
    "        dataset_name (str): Name of the dataset.\n",
    "        smiles (list): List of SMILES strings representing molecules.\n",
    "        labels (list): List of labels corresponding to the SMILES.\n",
    "        pipelines (dict): Dictionary of model pipelines to train and evaluate.\n",
    "        filters (list): List of filter classes to apply to the dataset.\n",
    "        filename (str): Name of the CSV file to save results.\n",
    "    \"\"\"\n",
    "    mols_mapper = {smile: label for smile, label in zip(smiles, labels)}\n",
    "\n",
    "    smiles_train, smiles_test, y_train, y_test = scaffold_train_test_split(\n",
    "        smiles, labels, test_size=0.2\n",
    "    )\n",
    "\n",
    "    for pipeline_name, model_name in pipelines.items():\n",
    "        pipelines[pipeline_name].fit(smiles_train, y_train)\n",
    "        y_pred = pipelines[pipeline_name].predict(smiles_test)\n",
    "        y_proba = pipelines[pipeline_name].predict_proba(smiles_test)\n",
    "\n",
    "        r2score_baseline, accuracy_baseline, roc_auc_baseline = calculate_scores(\n",
    "            y_test, y_pred, y_proba\n",
    "        )\n",
    "\n",
    "        print(f\"Model name: {model_name}\")\n",
    "        for idx, filter in enumerate(filters):\n",
    "            if model_name == \"LogisticRegression\" and idx <= 20:\n",
    "                continue\n",
    "            print(f\"\\tFilter name({idx}): {filter.__name__}\")\n",
    "            try:\n",
    "                filter_f = filter()\n",
    "                filter_f.fit(smiles, labels)\n",
    "                filtered_mols = filter_f.transform(smiles)\n",
    "                filtered_labels = [mols_mapper[mol] for mol in filtered_mols]\n",
    "                rest_mols = [mol for mol in smiles if mol not in filtered_mols]\n",
    "                rest_labels = [mols_mapper[mol] for mol in rest_mols]\n",
    "\n",
    "                (\n",
    "                    filtered_mols_train,\n",
    "                    filtered_mols_test,\n",
    "                    y_train_filtered,\n",
    "                    y_test_filtered,\n",
    "                ) = scaffold_train_test_split(\n",
    "                    filtered_mols, filtered_labels, test_size=0.2\n",
    "                )\n",
    "\n",
    "                pipelines[pipeline_name].fit(filtered_mols_train, y_train_filtered)\n",
    "                y_pred_filtered = pipelines[pipeline_name].predict(filtered_mols_test)\n",
    "                y_proba_filtered = pipelines[pipeline_name].predict_proba(filtered_mols_test)\n",
    "\n",
    "                r2score_filtered, accuracy_filtered, roc_auc_filtered = calculate_scores(\n",
    "                    y_test_filtered, y_pred_filtered, y_proba_filtered\n",
    "                )\n",
    "\n",
    "                pipelines[pipeline_name].fit(filtered_mols_train, y_train_filtered)\n",
    "                y_pred_mixed = pipelines[pipeline_name].predict(smiles_test)\n",
    "                y_proba_mixed = pipelines[pipeline_name].predict_proba(smiles_test)\n",
    "\n",
    "                r2score_mixed, accuracy_mixed, roc_auc_mixed = calculate_scores(\n",
    "                    y_test, y_pred_mixed, y_proba_mixed\n",
    "                )\n",
    "\n",
    "                pipelines[pipeline_name].fit(filtered_mols_train, y_train_filtered)\n",
    "                y_pred_rest = pipelines[pipeline_name].predict(rest_mols)\n",
    "                y_proba_rest = pipelines[pipeline_name].predict_proba(rest_mols)\n",
    "\n",
    "                r2score_rest, accuracy_rest, roc_auc_rest = calculate_scores(\n",
    "                    rest_labels, y_pred_rest, y_proba_rest\n",
    "                )\n",
    "\n",
    "                with open(filename, \"a\") as file:\n",
    "                    writer = csv.writer(file, delimiter=\",\")\n",
    "                    writer.writerow([\n",
    "                        dataset_name, model_name, filters[idx].__name__, \"ROC-AUC\",\n",
    "                        roc_auc_baseline, roc_auc_filtered, (roc_auc_filtered / roc_auc_baseline) * 100,\n",
    "                        r2score_filtered, accuracy_filtered, r2score_baseline, accuracy_baseline,\n",
    "                        r2score_mixed, accuracy_mixed, roc_auc_mixed, r2score_rest, accuracy_rest, roc_auc_rest, \"None\"\n",
    "                    ])\n",
    "            except Exception as e:\n",
    "                print(f\"Exception: {e} for filter: {filter.__name__}\")\n",
    "                continue"
   ]
  },
  {
   "cell_type": "markdown",
   "id": "a9a3bc0d-fc06-41d2-af25-456af7d9fa4b",
   "metadata": {},
   "source": [
    "## Classification with the Logistic regression and RFC based on the clintox dataset; wihout filtering molecules"
   ]
  },
  {
   "cell_type": "markdown",
   "id": "54597007-d28c-4edd-9190-8f640267bbf2",
   "metadata": {},
   "source": [
    "### Bace dataset split"
   ]
  },
  {
   "cell_type": "code",
   "execution_count": 21,
   "id": "3ef26b77-c706-4991-9d1f-40d3034fbc7e",
   "metadata": {},
   "outputs": [],
   "source": [
    "smiles_bace, labels_bace = load_bace()"
   ]
  },
  {
   "cell_type": "code",
   "execution_count": null,
   "id": "e8f93185",
   "metadata": {},
   "outputs": [
    {
     "name": "stdout",
     "output_type": "stream",
     "text": [
      "Fold 0:\n",
      "  Train: index=[ 757  758  759  760  761  762  763  764  765  766  767  768  769  770\n",
      "  771  772  773  774  775  776  777  778  779  780  781  782  783  784\n",
      "  785  786  787  788  789  790  791  792  793  794  795  796  797  798\n",
      "  799  800  801  802  803  804  805  806  807  808  809  810  811  812\n",
      "  813  814  815  816  817  818  819  820  821  822  823  824  825  826\n",
      "  827  828  829  830  831  832  833  834  835  836  837  838  839  840\n",
      "  841  842  843  844  845  846  847  848  849  850  851  852  853  854\n",
      "  855  856  857  858  859  860  861  862  863  864  865  866  867  868\n",
      "  869  870  871  872  873  874  875  876  877  878  879  880  881  882\n",
      "  883  884  885  886  887  888  889  890  891  892  893  894  895  896\n",
      "  897  898  899  900  901  902  903  904  905  906  907  908  909  910\n",
      "  911  912  913  914  915  916  917  918  919  920  921  922  923  924\n",
      "  925  926  927  928  929  930  931  932  933  934  935  936  937  938\n",
      "  939  940  941  942  943  944  945  946  947  948  949  950  951  952\n",
      "  953  954  955  956  957  958  959  960  961  962  963  964  965  966\n",
      "  967  968  969  970  971  972  973  974  975  976  977  978  979  980\n",
      "  981  982  983  984  985  986  987  988  989  990  991  992  993  994\n",
      "  995  996  997  998  999 1000 1001 1002 1003 1004 1005 1006 1007 1008\n",
      " 1009 1010 1011 1012 1013 1014 1015 1016 1017 1018 1019 1020 1021 1022\n",
      " 1023 1024 1025 1026 1027 1028 1029 1030 1031 1032 1033 1034 1035 1036\n",
      " 1037 1038 1039 1040 1041 1042 1043 1044 1045 1046 1047 1048 1049 1050\n",
      " 1051 1052 1053 1054 1055 1056 1057 1058 1059 1060 1061 1062 1063 1064\n",
      " 1065 1066 1067 1068 1069 1070 1071 1072 1073 1074 1075 1076 1077 1078\n",
      " 1079 1080 1081 1082 1083 1084 1085 1086 1087 1088 1089 1090 1091 1092\n",
      " 1093 1094 1095 1096 1097 1098 1099 1100 1101 1102 1103 1104 1105 1106\n",
      " 1107 1108 1109 1110 1111 1112 1113 1114 1115 1116 1117 1118 1119 1120\n",
      " 1121 1122 1123 1124 1125 1126 1127 1128 1129 1130 1131 1132 1133 1134\n",
      " 1135 1136 1137 1138 1139 1140 1141 1142 1143 1144 1145 1146 1147 1148\n",
      " 1149 1150 1151 1152 1153 1154 1155 1156 1157 1158 1159 1160 1161 1162\n",
      " 1163 1164 1165 1166 1167 1168 1169 1170 1171 1172 1173 1174 1175 1176\n",
      " 1177 1178 1179 1180 1181 1182 1183 1184 1185 1186 1187 1188 1189 1190\n",
      " 1191 1192 1193 1194 1195 1196 1197 1198 1199 1200 1201 1202 1203 1204\n",
      " 1205 1206 1207 1208 1209 1210 1211 1212 1213 1214 1215 1216 1217 1218\n",
      " 1219 1220 1221 1222 1223 1224 1225 1226 1227 1228 1229 1230 1231 1232\n",
      " 1233 1234 1235 1236 1237 1238 1239 1240 1241 1242 1243 1244 1245 1246\n",
      " 1247 1248 1249 1250 1251 1252 1253 1254 1255 1256 1257 1258 1259 1260\n",
      " 1261 1262 1263 1264 1265 1266 1267 1268 1269 1270 1271 1272 1273 1274\n",
      " 1275 1276 1277 1278 1279 1280 1281 1282 1283 1284 1285 1286 1287 1288\n",
      " 1289 1290 1291 1292 1293 1294 1295 1296 1297 1298 1299 1300 1301 1302\n",
      " 1303 1304 1305 1306 1307 1308 1309 1310 1311 1312 1313 1314 1315 1316\n",
      " 1317 1318 1319 1320 1321 1322 1323 1324 1325 1326 1327 1328 1329 1330\n",
      " 1331 1332 1333 1334 1335 1336 1337 1338 1339 1340 1341 1342 1343 1344\n",
      " 1345 1346 1347 1348 1349 1350 1351 1352 1353 1354 1355 1356 1357 1358\n",
      " 1359 1360 1361 1362 1363 1364 1365 1366 1367 1368 1369 1370 1371 1372\n",
      " 1373 1374 1375 1376 1377 1378 1379 1380 1381 1382 1383 1384 1385 1386\n",
      " 1387 1388 1389 1390 1391 1392 1393 1394 1395 1396 1397 1398 1399 1400\n",
      " 1401 1402 1403 1404 1405 1406 1407 1408 1409 1410 1411 1412 1413 1414\n",
      " 1415 1416 1417 1418 1419 1420 1421 1422 1423 1424 1425 1426 1427 1428\n",
      " 1429 1430 1431 1432 1433 1434 1435 1436 1437 1438 1439 1440 1441 1442\n",
      " 1443 1444 1445 1446 1447 1448 1449 1450 1451 1452 1453 1454 1455 1456\n",
      " 1457 1458 1459 1460 1461 1462 1463 1464 1465 1466 1467 1468 1469 1470\n",
      " 1471 1472 1473 1474 1475 1476 1477 1478 1479 1480 1481 1482 1483 1484\n",
      " 1485 1486 1487 1488 1489 1490 1491 1492 1493 1494 1495 1496 1497 1498\n",
      " 1499 1500 1501 1502 1503 1504 1505 1506 1507 1508 1509 1510 1511 1512]\n",
      "  Test:  index=[  0   1   2   3   4   5   6   7   8   9  10  11  12  13  14  15  16  17\n",
      "  18  19  20  21  22  23  24  25  26  27  28  29  30  31  32  33  34  35\n",
      "  36  37  38  39  40  41  42  43  44  45  46  47  48  49  50  51  52  53\n",
      "  54  55  56  57  58  59  60  61  62  63  64  65  66  67  68  69  70  71\n",
      "  72  73  74  75  76  77  78  79  80  81  82  83  84  85  86  87  88  89\n",
      "  90  91  92  93  94  95  96  97  98  99 100 101 102 103 104 105 106 107\n",
      " 108 109 110 111 112 113 114 115 116 117 118 119 120 121 122 123 124 125\n",
      " 126 127 128 129 130 131 132 133 134 135 136 137 138 139 140 141 142 143\n",
      " 144 145 146 147 148 149 150 151 152 153 154 155 156 157 158 159 160 161\n",
      " 162 163 164 165 166 167 168 169 170 171 172 173 174 175 176 177 178 179\n",
      " 180 181 182 183 184 185 186 187 188 189 190 191 192 193 194 195 196 197\n",
      " 198 199 200 201 202 203 204 205 206 207 208 209 210 211 212 213 214 215\n",
      " 216 217 218 219 220 221 222 223 224 225 226 227 228 229 230 231 232 233\n",
      " 234 235 236 237 238 239 240 241 242 243 244 245 246 247 248 249 250 251\n",
      " 252 253 254 255 256 257 258 259 260 261 262 263 264 265 266 267 268 269\n",
      " 270 271 272 273 274 275 276 277 278 279 280 281 282 283 284 285 286 287\n",
      " 288 289 290 291 292 293 294 295 296 297 298 299 300 301 302 303 304 305\n",
      " 306 307 308 309 310 311 312 313 314 315 316 317 318 319 320 321 322 323\n",
      " 324 325 326 327 328 329 330 331 332 333 334 335 336 337 338 339 340 341\n",
      " 342 343 344 345 346 347 348 349 350 351 352 353 354 355 356 357 358 359\n",
      " 360 361 362 363 364 365 366 367 368 369 370 371 372 373 374 375 376 377\n",
      " 378 379 380 381 382 383 384 385 386 387 388 389 390 391 392 393 394 395\n",
      " 396 397 398 399 400 401 402 403 404 405 406 407 408 409 410 411 412 413\n",
      " 414 415 416 417 418 419 420 421 422 423 424 425 426 427 428 429 430 431\n",
      " 432 433 434 435 436 437 438 439 440 441 442 443 444 445 446 447 448 449\n",
      " 450 451 452 453 454 455 456 457 458 459 460 461 462 463 464 465 466 467\n",
      " 468 469 470 471 472 473 474 475 476 477 478 479 480 481 482 483 484 485\n",
      " 486 487 488 489 490 491 492 493 494 495 496 497 498 499 500 501 502 503\n",
      " 504 505 506 507 508 509 510 511 512 513 514 515 516 517 518 519 520 521\n",
      " 522 523 524 525 526 527 528 529 530 531 532 533 534 535 536 537 538 539\n",
      " 540 541 542 543 544 545 546 547 548 549 550 551 552 553 554 555 556 557\n",
      " 558 559 560 561 562 563 564 565 566 567 568 569 570 571 572 573 574 575\n",
      " 576 577 578 579 580 581 582 583 584 585 586 587 588 589 590 591 592 593\n",
      " 594 595 596 597 598 599 600 601 602 603 604 605 606 607 608 609 610 611\n",
      " 612 613 614 615 616 617 618 619 620 621 622 623 624 625 626 627 628 629\n",
      " 630 631 632 633 634 635 636 637 638 639 640 641 642 643 644 645 646 647\n",
      " 648 649 650 651 652 653 654 655 656 657 658 659 660 661 662 663 664 665\n",
      " 666 667 668 669 670 671 672 673 674 675 676 677 678 679 680 681 682 683\n",
      " 684 685 686 687 688 689 690 691 692 693 694 695 696 697 698 699 700 701\n",
      " 702 703 704 705 706 707 708 709 710 711 712 713 714 715 716 717 718 719\n",
      " 720 721 722 723 724 725 726 727 728 729 730 731 732 733 734 735 736 737\n",
      " 738 739 740 741 742 743 744 745 746 747 748 749 750 751 752 753 754 755\n",
      " 756]\n",
      "Fold 1:\n",
      "  Train: index=[  0   1   2   3   4   5   6   7   8   9  10  11  12  13  14  15  16  17\n",
      "  18  19  20  21  22  23  24  25  26  27  28  29  30  31  32  33  34  35\n",
      "  36  37  38  39  40  41  42  43  44  45  46  47  48  49  50  51  52  53\n",
      "  54  55  56  57  58  59  60  61  62  63  64  65  66  67  68  69  70  71\n",
      "  72  73  74  75  76  77  78  79  80  81  82  83  84  85  86  87  88  89\n",
      "  90  91  92  93  94  95  96  97  98  99 100 101 102 103 104 105 106 107\n",
      " 108 109 110 111 112 113 114 115 116 117 118 119 120 121 122 123 124 125\n",
      " 126 127 128 129 130 131 132 133 134 135 136 137 138 139 140 141 142 143\n",
      " 144 145 146 147 148 149 150 151 152 153 154 155 156 157 158 159 160 161\n",
      " 162 163 164 165 166 167 168 169 170 171 172 173 174 175 176 177 178 179\n",
      " 180 181 182 183 184 185 186 187 188 189 190 191 192 193 194 195 196 197\n",
      " 198 199 200 201 202 203 204 205 206 207 208 209 210 211 212 213 214 215\n",
      " 216 217 218 219 220 221 222 223 224 225 226 227 228 229 230 231 232 233\n",
      " 234 235 236 237 238 239 240 241 242 243 244 245 246 247 248 249 250 251\n",
      " 252 253 254 255 256 257 258 259 260 261 262 263 264 265 266 267 268 269\n",
      " 270 271 272 273 274 275 276 277 278 279 280 281 282 283 284 285 286 287\n",
      " 288 289 290 291 292 293 294 295 296 297 298 299 300 301 302 303 304 305\n",
      " 306 307 308 309 310 311 312 313 314 315 316 317 318 319 320 321 322 323\n",
      " 324 325 326 327 328 329 330 331 332 333 334 335 336 337 338 339 340 341\n",
      " 342 343 344 345 346 347 348 349 350 351 352 353 354 355 356 357 358 359\n",
      " 360 361 362 363 364 365 366 367 368 369 370 371 372 373 374 375 376 377\n",
      " 378 379 380 381 382 383 384 385 386 387 388 389 390 391 392 393 394 395\n",
      " 396 397 398 399 400 401 402 403 404 405 406 407 408 409 410 411 412 413\n",
      " 414 415 416 417 418 419 420 421 422 423 424 425 426 427 428 429 430 431\n",
      " 432 433 434 435 436 437 438 439 440 441 442 443 444 445 446 447 448 449\n",
      " 450 451 452 453 454 455 456 457 458 459 460 461 462 463 464 465 466 467\n",
      " 468 469 470 471 472 473 474 475 476 477 478 479 480 481 482 483 484 485\n",
      " 486 487 488 489 490 491 492 493 494 495 496 497 498 499 500 501 502 503\n",
      " 504 505 506 507 508 509 510 511 512 513 514 515 516 517 518 519 520 521\n",
      " 522 523 524 525 526 527 528 529 530 531 532 533 534 535 536 537 538 539\n",
      " 540 541 542 543 544 545 546 547 548 549 550 551 552 553 554 555 556 557\n",
      " 558 559 560 561 562 563 564 565 566 567 568 569 570 571 572 573 574 575\n",
      " 576 577 578 579 580 581 582 583 584 585 586 587 588 589 590 591 592 593\n",
      " 594 595 596 597 598 599 600 601 602 603 604 605 606 607 608 609 610 611\n",
      " 612 613 614 615 616 617 618 619 620 621 622 623 624 625 626 627 628 629\n",
      " 630 631 632 633 634 635 636 637 638 639 640 641 642 643 644 645 646 647\n",
      " 648 649 650 651 652 653 654 655 656 657 658 659 660 661 662 663 664 665\n",
      " 666 667 668 669 670 671 672 673 674 675 676 677 678 679 680 681 682 683\n",
      " 684 685 686 687 688 689 690 691 692 693 694 695 696 697 698 699 700 701\n",
      " 702 703 704 705 706 707 708 709 710 711 712 713 714 715 716 717 718 719\n",
      " 720 721 722 723 724 725 726 727 728 729 730 731 732 733 734 735 736 737\n",
      " 738 739 740 741 742 743 744 745 746 747 748 749 750 751 752 753 754 755\n",
      " 756]\n",
      "  Test:  index=[ 757  758  759  760  761  762  763  764  765  766  767  768  769  770\n",
      "  771  772  773  774  775  776  777  778  779  780  781  782  783  784\n",
      "  785  786  787  788  789  790  791  792  793  794  795  796  797  798\n",
      "  799  800  801  802  803  804  805  806  807  808  809  810  811  812\n",
      "  813  814  815  816  817  818  819  820  821  822  823  824  825  826\n",
      "  827  828  829  830  831  832  833  834  835  836  837  838  839  840\n",
      "  841  842  843  844  845  846  847  848  849  850  851  852  853  854\n",
      "  855  856  857  858  859  860  861  862  863  864  865  866  867  868\n",
      "  869  870  871  872  873  874  875  876  877  878  879  880  881  882\n",
      "  883  884  885  886  887  888  889  890  891  892  893  894  895  896\n",
      "  897  898  899  900  901  902  903  904  905  906  907  908  909  910\n",
      "  911  912  913  914  915  916  917  918  919  920  921  922  923  924\n",
      "  925  926  927  928  929  930  931  932  933  934  935  936  937  938\n",
      "  939  940  941  942  943  944  945  946  947  948  949  950  951  952\n",
      "  953  954  955  956  957  958  959  960  961  962  963  964  965  966\n",
      "  967  968  969  970  971  972  973  974  975  976  977  978  979  980\n",
      "  981  982  983  984  985  986  987  988  989  990  991  992  993  994\n",
      "  995  996  997  998  999 1000 1001 1002 1003 1004 1005 1006 1007 1008\n",
      " 1009 1010 1011 1012 1013 1014 1015 1016 1017 1018 1019 1020 1021 1022\n",
      " 1023 1024 1025 1026 1027 1028 1029 1030 1031 1032 1033 1034 1035 1036\n",
      " 1037 1038 1039 1040 1041 1042 1043 1044 1045 1046 1047 1048 1049 1050\n",
      " 1051 1052 1053 1054 1055 1056 1057 1058 1059 1060 1061 1062 1063 1064\n",
      " 1065 1066 1067 1068 1069 1070 1071 1072 1073 1074 1075 1076 1077 1078\n",
      " 1079 1080 1081 1082 1083 1084 1085 1086 1087 1088 1089 1090 1091 1092\n",
      " 1093 1094 1095 1096 1097 1098 1099 1100 1101 1102 1103 1104 1105 1106\n",
      " 1107 1108 1109 1110 1111 1112 1113 1114 1115 1116 1117 1118 1119 1120\n",
      " 1121 1122 1123 1124 1125 1126 1127 1128 1129 1130 1131 1132 1133 1134\n",
      " 1135 1136 1137 1138 1139 1140 1141 1142 1143 1144 1145 1146 1147 1148\n",
      " 1149 1150 1151 1152 1153 1154 1155 1156 1157 1158 1159 1160 1161 1162\n",
      " 1163 1164 1165 1166 1167 1168 1169 1170 1171 1172 1173 1174 1175 1176\n",
      " 1177 1178 1179 1180 1181 1182 1183 1184 1185 1186 1187 1188 1189 1190\n",
      " 1191 1192 1193 1194 1195 1196 1197 1198 1199 1200 1201 1202 1203 1204\n",
      " 1205 1206 1207 1208 1209 1210 1211 1212 1213 1214 1215 1216 1217 1218\n",
      " 1219 1220 1221 1222 1223 1224 1225 1226 1227 1228 1229 1230 1231 1232\n",
      " 1233 1234 1235 1236 1237 1238 1239 1240 1241 1242 1243 1244 1245 1246\n",
      " 1247 1248 1249 1250 1251 1252 1253 1254 1255 1256 1257 1258 1259 1260\n",
      " 1261 1262 1263 1264 1265 1266 1267 1268 1269 1270 1271 1272 1273 1274\n",
      " 1275 1276 1277 1278 1279 1280 1281 1282 1283 1284 1285 1286 1287 1288\n",
      " 1289 1290 1291 1292 1293 1294 1295 1296 1297 1298 1299 1300 1301 1302\n",
      " 1303 1304 1305 1306 1307 1308 1309 1310 1311 1312 1313 1314 1315 1316\n",
      " 1317 1318 1319 1320 1321 1322 1323 1324 1325 1326 1327 1328 1329 1330\n",
      " 1331 1332 1333 1334 1335 1336 1337 1338 1339 1340 1341 1342 1343 1344\n",
      " 1345 1346 1347 1348 1349 1350 1351 1352 1353 1354 1355 1356 1357 1358\n",
      " 1359 1360 1361 1362 1363 1364 1365 1366 1367 1368 1369 1370 1371 1372\n",
      " 1373 1374 1375 1376 1377 1378 1379 1380 1381 1382 1383 1384 1385 1386\n",
      " 1387 1388 1389 1390 1391 1392 1393 1394 1395 1396 1397 1398 1399 1400\n",
      " 1401 1402 1403 1404 1405 1406 1407 1408 1409 1410 1411 1412 1413 1414\n",
      " 1415 1416 1417 1418 1419 1420 1421 1422 1423 1424 1425 1426 1427 1428\n",
      " 1429 1430 1431 1432 1433 1434 1435 1436 1437 1438 1439 1440 1441 1442\n",
      " 1443 1444 1445 1446 1447 1448 1449 1450 1451 1452 1453 1454 1455 1456\n",
      " 1457 1458 1459 1460 1461 1462 1463 1464 1465 1466 1467 1468 1469 1470\n",
      " 1471 1472 1473 1474 1475 1476 1477 1478 1479 1480 1481 1482 1483 1484\n",
      " 1485 1486 1487 1488 1489 1490 1491 1492 1493 1494 1495 1496 1497 1498\n",
      " 1499 1500 1501 1502 1503 1504 1505 1506 1507 1508 1509 1510 1511 1512]\n"
     ]
    }
   ],
   "source": [
    "kf = KFold(n_splits=2)\n",
    "kf.get_n_splits(smiles_bace)\n",
    "for i, (train_index, test_index) in enumerate(kf.split(smiles_bace)):\n",
    "    print(f\"Fold {i}:\")\n",
    "    print(f\"  Train: index={train_index}\")\n",
    "    print(f\"  Test:  index={test_index}\")\n",
    "    X_train, X_test, y_train, y_test = smiles_bace[train_index], smiles_bace[test_index], labels_bace[train_index], labels_bace[test_index]\n",
    "    classifier.fit(X_train, y_train)\n",
    "    y_pred = classifier.predict(X_test)\n",
    "    y_proba = classifier.predict_proba(X_test)\n",
    "    print(len(X_test))\n",
    "    calculate_scores(y_test, y_pred, y_proba)"
   ]
  },
  {
   "cell_type": "code",
   "execution_count": 8,
   "id": "62738f52",
   "metadata": {},
   "outputs": [
    {
     "name": "stdout",
     "output_type": "stream",
     "text": [
      "1513\n",
      "O1CC[C@@H](NC(=O)[C@@H](Cc2cc3cc(ccc3nc2N)-c2ccccc2C)C)CC1(C)C 1\n",
      "Fc1cc(cc(F)c1)C[C@H](NC(=O)[C@@H](N1CC[C@](NC(=O)C)(CC(C)C)C1=O)CCc1ccccc1)[C@H](O)[C@@H]1[NH2+]C[C@H](OCCC)C1 1\n"
     ]
    }
   ],
   "source": [
    "print(len(smiles_bace))\n",
    "print(smiles_bace[0], labels_bace[0])\n",
    "print(smiles_bace[1], labels_bace[1])"
   ]
  },
  {
   "cell_type": "code",
   "execution_count": 14,
   "id": "6bbc660c",
   "metadata": {},
   "outputs": [],
   "source": [
    "bace_mols_mapper = dict() # smile -> label\n",
    "for i in range(len(smiles_bace)):\n",
    "    bace_mols_mapper[smiles_bace[i]] = labels_bace[i]"
   ]
  },
  {
   "cell_type": "code",
   "execution_count": null,
   "id": "1523af48",
   "metadata": {},
   "outputs": [
    {
     "name": "stdout",
     "output_type": "stream",
     "text": [
      "395 1513\n",
      "O1CC[C@@H](NC(=O)[C@@H](Cc2cc3cc(ccc3nc2N)-c2ccccc2C)C)CC1(C)C 1\n"
     ]
    }
   ],
   "source": [
    "filter = MLSMRFilter()\n",
    "\n",
    "filter.fit(smiles_bace, labels_bace)\n",
    "# filtered_mols = filter.transform(smiles_bace)\n",
    "filtered_mols = filter.fit_transform(smiles_bace, labels_bace)\n",
    "print(len(filtered_mols), len(labels_bace))\n",
    "print(filtered_mols[0], labels_bace[0])"
   ]
  },
  {
   "cell_type": "code",
   "execution_count": 16,
   "id": "5984d38c",
   "metadata": {},
   "outputs": [
    {
     "name": "stdout",
     "output_type": "stream",
     "text": [
      "395\n"
     ]
    }
   ],
   "source": [
    "filtered_labels = [ bace_mols_mapper[mol] for mol in filtered_mols ]\n",
    "print(len(filtered_labels))"
   ]
  },
  {
   "cell_type": "code",
   "execution_count": 17,
   "id": "c1e1e315-a3e6-4bef-880e-2dfe58b82ffb",
   "metadata": {},
   "outputs": [],
   "source": [
    "smiles_bace_train, smiles_bace_test, y_train, y_test = scaffold_train_test_split(\n",
    "    filtered_mols, filtered_labels, test_size=0.2\n",
    ")"
   ]
  },
  {
   "cell_type": "markdown",
   "id": "076c9d67-e39c-4027-9c50-5f12efe21f20",
   "metadata": {},
   "source": [
    "### Checking the class distibution of the dataset "
   ]
  },
  {
   "cell_type": "code",
   "execution_count": 11,
   "id": "e554cfd1-1f4f-4e1c-929b-5a8232349482",
   "metadata": {},
   "outputs": [
    {
     "name": "stdout",
     "output_type": "stream",
     "text": [
      "Class distribution: [822 691]\n"
     ]
    }
   ],
   "source": [
    "print(f\"Class distribution: {np.bincount(labels_bace)}\")"
   ]
  },
  {
   "cell_type": "markdown",
   "id": "d30f769f-8a5e-4c26-88ea-377856c7ed2e",
   "metadata": {},
   "source": [
    "## Baseline with Logistic regression model"
   ]
  },
  {
   "cell_type": "code",
   "execution_count": 18,
   "id": "711a8593-2597-44cd-874e-fa8c3523da85",
   "metadata": {},
   "outputs": [],
   "source": [
    "pipelines['baseline_pipeline'].fit(smiles_bace_train, y_train)\n",
    "y_pred = pipelines['baseline_pipeline'].predict(smiles_bace_test)\n",
    "y_proba = pipelines['baseline_pipeline'].predict_proba(smiles_bace_test) "
   ]
  },
  {
   "cell_type": "code",
   "execution_count": 20,
   "id": "2d529fd1-717d-446a-a5fa-5db45827f4c7",
   "metadata": {},
   "outputs": [
    {
     "name": "stdout",
     "output_type": "stream",
     "text": [
      "R2 score for Linear regression model: -0.3657\n",
      "Accuracy for Linear regression model: 0.6709\n",
      "ROC-AUC score for Linear regression model: 0.7912\n"
     ]
    }
   ],
   "source": [
    "calculate_scores(y_test, y_pred, y_proba)"
   ]
  },
  {
   "cell_type": "code",
   "execution_count": null,
   "id": "af868161",
   "metadata": {},
   "outputs": [],
   "source": []
  },
  {
   "cell_type": "code",
   "execution_count": 22,
   "id": "97ddfe7f",
   "metadata": {},
   "outputs": [],
   "source": [
    "from skfp.datasets.moleculenet import load_bace\n",
    "from skfp.fingerprints import ECFPFingerprint\n",
    "from skfp.model_selection import FingerprintEstimatorGridSearch\n",
    "from sklearn.ensemble import RandomForestClassifier\n",
    "from sklearn.model_selection import GridSearchCV\n",
    "\n",
    "fp = ECFPFingerprint(n_jobs=-1)\n",
    "fp_params = {\"radius\": [2, 3]}\n",
    "clf = RandomForestClassifier(n_jobs=-1)\n",
    "clf_params = {\"min_samples_split\": [2, 3, 4]}\n",
    "clf_cv = GridSearchCV(clf, clf_params)\n",
    "fp_cv = FingerprintEstimatorGridSearch(fp, fp_params, clf_cv)"
   ]
  },
  {
   "cell_type": "code",
   "execution_count": 23,
   "id": "7e887bc3",
   "metadata": {},
   "outputs": [],
   "source": [
    "fp_cv.fit(smiles_bace_train, y_train)\n",
    "y_pred = fp_cv.predict(smiles_bace_test)\n",
    "y_proba = fp_cv.predict_proba(smiles_bace_test) "
   ]
  },
  {
   "cell_type": "code",
   "execution_count": 24,
   "id": "bb88041c",
   "metadata": {},
   "outputs": [
    {
     "name": "stdout",
     "output_type": "stream",
     "text": [
      "R2 score for Linear regression model: -1.4807\n",
      "Accuracy for Linear regression model: 0.3960\n",
      "ROC-AUC score for Linear regression model: 0.4112\n"
     ]
    }
   ],
   "source": [
    "calculate_scores(y_test, y_pred, y_proba)"
   ]
  },
  {
   "cell_type": "markdown",
   "id": "6b367b9b-7e9d-4acc-9de4-3fbfacdba3a2",
   "metadata": {},
   "source": [
    "## RF classifier"
   ]
  },
  {
   "cell_type": "code",
   "execution_count": 25,
   "id": "11a6a9c8-e96d-4e37-9342-716a3e69d791",
   "metadata": {},
   "outputs": [],
   "source": [
    "pipelines['rf_pipeline'].fit(smiles_bace_train, y_train)\n",
    "y_pred = pipelines['rf_pipeline'].predict(smiles_bace_test)\n",
    "y_proba = pipelines['rf_pipeline'].predict_proba(smiles_bace_test)  "
   ]
  },
  {
   "cell_type": "code",
   "execution_count": 26,
   "id": "311884eb-53a6-41db-bdd8-c9458df154c2",
   "metadata": {},
   "outputs": [
    {
     "name": "stdout",
     "output_type": "stream",
     "text": [
      "R2 score for Linear regression model: -1.4943\n",
      "Accuracy for Linear regression model: 0.3927\n",
      "ROC-AUC score for Linear regression model: 0.3990\n"
     ]
    }
   ],
   "source": [
    "calculate_scores(y_test, y_pred, y_proba)"
   ]
  },
  {
   "cell_type": "code",
   "execution_count": 66,
   "id": "1ff6b345",
   "metadata": {},
   "outputs": [
    {
     "name": "stdout",
     "output_type": "stream",
     "text": [
      "R2 score for Linear regression model: -1.3316\n",
      "Accuracy for Linear regression model: 0.4323\n",
      "ROC-AUC score for Linear regression model: 0.4265\n"
     ]
    }
   ],
   "source": [
    "pipelines['gb_pipeline'].fit(smiles_bace_train, y_train)\n",
    "y_pred = pipelines['gb_pipeline'].predict(smiles_bace_test)\n",
    "y_proba = pipelines['gb_pipeline'].predict_proba(smiles_bace_test)\n",
    "calculate_scores(y_test, y_pred, y_proba)"
   ]
  },
  {
   "cell_type": "code",
   "execution_count": 67,
   "id": "739ed580",
   "metadata": {},
   "outputs": [
    {
     "name": "stdout",
     "output_type": "stream",
     "text": [
      "R2 score for Linear regression model: -1.4265\n",
      "Accuracy for Linear regression model: 0.4092\n",
      "ROC-AUC score for Linear regression model: 0.4389\n"
     ]
    }
   ],
   "source": [
    "pipelines['knc_pipeline'].fit(smiles_bace_train, y_train)\n",
    "y_pred = pipelines['knc_pipeline'].predict(smiles_bace_test)\n",
    "y_proba = pipelines['knc_pipeline'].predict_proba(smiles_bace_test)\n",
    "calculate_scores(y_test, y_pred, y_proba)"
   ]
  },
  {
   "cell_type": "code",
   "execution_count": 68,
   "id": "747aa729",
   "metadata": {},
   "outputs": [
    {
     "name": "stdout",
     "output_type": "stream",
     "text": [
      "R2 score for Linear regression model: -1.3858\n",
      "Accuracy for Linear regression model: 0.4191\n",
      "ROC-AUC score for Linear regression model: 0.5000\n"
     ]
    }
   ],
   "source": [
    "pipelines['mlp_pipeline'].fit(smiles_bace_train, y_train)\n",
    "y_pred = pipelines['mlp_pipeline'].predict(smiles_bace_test)\n",
    "y_proba = pipelines['mlp_pipeline'].predict_proba(smiles_bace_test)\n",
    "calculate_scores(y_test, y_pred, y_proba)"
   ]
  },
  {
   "cell_type": "code",
   "execution_count": 69,
   "id": "429a04a5",
   "metadata": {},
   "outputs": [
    {
     "name": "stdout",
     "output_type": "stream",
     "text": [
      "R2 score for Linear regression model: -1.0334\n",
      "Accuracy for Linear regression model: 0.5050\n",
      "ROC-AUC score for Linear regression model: 0.4974\n"
     ]
    }
   ],
   "source": [
    "pipelines['GNB_pipeline'].fit(smiles_bace_train, y_train)\n",
    "y_pred = pipelines['GNB_pipeline'].predict(smiles_bace_test)\n",
    "y_proba = pipelines['GNB_pipeline'].predict_proba(smiles_bace_test)\n",
    "calculate_scores(y_test, y_pred, y_proba)"
   ]
  },
  {
   "cell_type": "code",
   "execution_count": 70,
   "id": "e60935a4",
   "metadata": {},
   "outputs": [
    {
     "name": "stdout",
     "output_type": "stream",
     "text": [
      "R2 score for Linear regression model: -1.4265\n",
      "Accuracy for Linear regression model: 0.4092\n",
      "ROC-AUC score for Linear regression model: 0.4565\n"
     ]
    }
   ],
   "source": [
    "pipelines['svm_pipeline'].fit(smiles_bace_train, y_train)\n",
    "y_pred = pipelines['svm_pipeline'].predict(smiles_bace_test)\n",
    "y_proba = pipelines['svm_pipeline'].predict_proba(smiles_bace_test)\n",
    "calculate_scores(y_test, y_pred, y_proba)"
   ]
  },
  {
   "cell_type": "code",
   "execution_count": 45,
   "id": "4659ee3a-6cdb-4fe8-a1ad-e53dc50bb2d0",
   "metadata": {},
   "outputs": [],
   "source": [
    "# filtering molecules from the test dataset \n",
    "\n",
    "from skfp.filters import PfizerFilter\n",
    "\n",
    "filt = PfizerFilter(allow_one_violation=True)"
   ]
  },
  {
   "cell_type": "code",
   "execution_count": 46,
   "id": "a14c074b-7f83-4385-a229-6517cba84bfe",
   "metadata": {},
   "outputs": [],
   "source": [
    "smiles_to_label = dict(zip(smiles_train, y_train))"
   ]
  },
  {
   "cell_type": "code",
   "execution_count": 47,
   "id": "4147786c-2bda-4f3f-ab75-e2852db38494",
   "metadata": {},
   "outputs": [],
   "source": [
    "filtered_smiles = filt.transform(smiles_train)\n",
    "filtered_labels = [smiles_to_label[smi] for smi in filtered_smiles]"
   ]
  },
  {
   "cell_type": "code",
   "execution_count": null,
   "id": "a71add14-15d5-4a77-b0d0-b8086987c942",
   "metadata": {},
   "outputs": [
    {
     "data": {
      "text/html": [
       "<style>#sk-container-id-2 {\n",
       "  /* Definition of color scheme common for light and dark mode */\n",
       "  --sklearn-color-text: black;\n",
       "  --sklearn-color-line: gray;\n",
       "  /* Definition of color scheme for unfitted estimators */\n",
       "  --sklearn-color-unfitted-level-0: #fff5e6;\n",
       "  --sklearn-color-unfitted-level-1: #f6e4d2;\n",
       "  --sklearn-color-unfitted-level-2: #ffe0b3;\n",
       "  --sklearn-color-unfitted-level-3: chocolate;\n",
       "  /* Definition of color scheme for fitted estimators */\n",
       "  --sklearn-color-fitted-level-0: #f0f8ff;\n",
       "  --sklearn-color-fitted-level-1: #d4ebff;\n",
       "  --sklearn-color-fitted-level-2: #b3dbfd;\n",
       "  --sklearn-color-fitted-level-3: cornflowerblue;\n",
       "\n",
       "  /* Specific color for light theme */\n",
       "  --sklearn-color-text-on-default-background: var(--sg-text-color, var(--theme-code-foreground, var(--jp-content-font-color1, black)));\n",
       "  --sklearn-color-background: var(--sg-background-color, var(--theme-background, var(--jp-layout-color0, white)));\n",
       "  --sklearn-color-border-box: var(--sg-text-color, var(--theme-code-foreground, var(--jp-content-font-color1, black)));\n",
       "  --sklearn-color-icon: #696969;\n",
       "\n",
       "  @media (prefers-color-scheme: dark) {\n",
       "    /* Redefinition of color scheme for dark theme */\n",
       "    --sklearn-color-text-on-default-background: var(--sg-text-color, var(--theme-code-foreground, var(--jp-content-font-color1, white)));\n",
       "    --sklearn-color-background: var(--sg-background-color, var(--theme-background, var(--jp-layout-color0, #111)));\n",
       "    --sklearn-color-border-box: var(--sg-text-color, var(--theme-code-foreground, var(--jp-content-font-color1, white)));\n",
       "    --sklearn-color-icon: #878787;\n",
       "  }\n",
       "}\n",
       "\n",
       "#sk-container-id-2 {\n",
       "  color: var(--sklearn-color-text);\n",
       "}\n",
       "\n",
       "#sk-container-id-2 pre {\n",
       "  padding: 0;\n",
       "}\n",
       "\n",
       "#sk-container-id-2 input.sk-hidden--visually {\n",
       "  border: 0;\n",
       "  clip: rect(1px 1px 1px 1px);\n",
       "  clip: rect(1px, 1px, 1px, 1px);\n",
       "  height: 1px;\n",
       "  margin: -1px;\n",
       "  overflow: hidden;\n",
       "  padding: 0;\n",
       "  position: absolute;\n",
       "  width: 1px;\n",
       "}\n",
       "\n",
       "#sk-container-id-2 div.sk-dashed-wrapped {\n",
       "  border: 1px dashed var(--sklearn-color-line);\n",
       "  margin: 0 0.4em 0.5em 0.4em;\n",
       "  box-sizing: border-box;\n",
       "  padding-bottom: 0.4em;\n",
       "  background-color: var(--sklearn-color-background);\n",
       "}\n",
       "\n",
       "#sk-container-id-2 div.sk-container {\n",
       "  /* jupyter's `normalize.less` sets `[hidden] { display: none; }`\n",
       "     but bootstrap.min.css set `[hidden] { display: none !important; }`\n",
       "     so we also need the `!important` here to be able to override the\n",
       "     default hidden behavior on the sphinx rendered scikit-learn.org.\n",
       "     See: https://github.com/scikit-learn/scikit-learn/issues/21755 */\n",
       "  display: inline-block !important;\n",
       "  position: relative;\n",
       "}\n",
       "\n",
       "#sk-container-id-2 div.sk-text-repr-fallback {\n",
       "  display: none;\n",
       "}\n",
       "\n",
       "div.sk-parallel-item,\n",
       "div.sk-serial,\n",
       "div.sk-item {\n",
       "  /* draw centered vertical line to link estimators */\n",
       "  background-image: linear-gradient(var(--sklearn-color-text-on-default-background), var(--sklearn-color-text-on-default-background));\n",
       "  background-size: 2px 100%;\n",
       "  background-repeat: no-repeat;\n",
       "  background-position: center center;\n",
       "}\n",
       "\n",
       "/* Parallel-specific style estimator block */\n",
       "\n",
       "#sk-container-id-2 div.sk-parallel-item::after {\n",
       "  content: \"\";\n",
       "  width: 100%;\n",
       "  border-bottom: 2px solid var(--sklearn-color-text-on-default-background);\n",
       "  flex-grow: 1;\n",
       "}\n",
       "\n",
       "#sk-container-id-2 div.sk-parallel {\n",
       "  display: flex;\n",
       "  align-items: stretch;\n",
       "  justify-content: center;\n",
       "  background-color: var(--sklearn-color-background);\n",
       "  position: relative;\n",
       "}\n",
       "\n",
       "#sk-container-id-2 div.sk-parallel-item {\n",
       "  display: flex;\n",
       "  flex-direction: column;\n",
       "}\n",
       "\n",
       "#sk-container-id-2 div.sk-parallel-item:first-child::after {\n",
       "  align-self: flex-end;\n",
       "  width: 50%;\n",
       "}\n",
       "\n",
       "#sk-container-id-2 div.sk-parallel-item:last-child::after {\n",
       "  align-self: flex-start;\n",
       "  width: 50%;\n",
       "}\n",
       "\n",
       "#sk-container-id-2 div.sk-parallel-item:only-child::after {\n",
       "  width: 0;\n",
       "}\n",
       "\n",
       "/* Serial-specific style estimator block */\n",
       "\n",
       "#sk-container-id-2 div.sk-serial {\n",
       "  display: flex;\n",
       "  flex-direction: column;\n",
       "  align-items: center;\n",
       "  background-color: var(--sklearn-color-background);\n",
       "  padding-right: 1em;\n",
       "  padding-left: 1em;\n",
       "}\n",
       "\n",
       "\n",
       "/* Toggleable style: style used for estimator/Pipeline/ColumnTransformer box that is\n",
       "clickable and can be expanded/collapsed.\n",
       "- Pipeline and ColumnTransformer use this feature and define the default style\n",
       "- Estimators will overwrite some part of the style using the `sk-estimator` class\n",
       "*/\n",
       "\n",
       "/* Pipeline and ColumnTransformer style (default) */\n",
       "\n",
       "#sk-container-id-2 div.sk-toggleable {\n",
       "  /* Default theme specific background. It is overwritten whether we have a\n",
       "  specific estimator or a Pipeline/ColumnTransformer */\n",
       "  background-color: var(--sklearn-color-background);\n",
       "}\n",
       "\n",
       "/* Toggleable label */\n",
       "#sk-container-id-2 label.sk-toggleable__label {\n",
       "  cursor: pointer;\n",
       "  display: block;\n",
       "  width: 100%;\n",
       "  margin-bottom: 0;\n",
       "  padding: 0.5em;\n",
       "  box-sizing: border-box;\n",
       "  text-align: center;\n",
       "}\n",
       "\n",
       "#sk-container-id-2 label.sk-toggleable__label-arrow:before {\n",
       "  /* Arrow on the left of the label */\n",
       "  content: \"▸\";\n",
       "  float: left;\n",
       "  margin-right: 0.25em;\n",
       "  color: var(--sklearn-color-icon);\n",
       "}\n",
       "\n",
       "#sk-container-id-2 label.sk-toggleable__label-arrow:hover:before {\n",
       "  color: var(--sklearn-color-text);\n",
       "}\n",
       "\n",
       "/* Toggleable content - dropdown */\n",
       "\n",
       "#sk-container-id-2 div.sk-toggleable__content {\n",
       "  max-height: 0;\n",
       "  max-width: 0;\n",
       "  overflow: hidden;\n",
       "  text-align: left;\n",
       "  /* unfitted */\n",
       "  background-color: var(--sklearn-color-unfitted-level-0);\n",
       "}\n",
       "\n",
       "#sk-container-id-2 div.sk-toggleable__content.fitted {\n",
       "  /* fitted */\n",
       "  background-color: var(--sklearn-color-fitted-level-0);\n",
       "}\n",
       "\n",
       "#sk-container-id-2 div.sk-toggleable__content pre {\n",
       "  margin: 0.2em;\n",
       "  border-radius: 0.25em;\n",
       "  color: var(--sklearn-color-text);\n",
       "  /* unfitted */\n",
       "  background-color: var(--sklearn-color-unfitted-level-0);\n",
       "}\n",
       "\n",
       "#sk-container-id-2 div.sk-toggleable__content.fitted pre {\n",
       "  /* unfitted */\n",
       "  background-color: var(--sklearn-color-fitted-level-0);\n",
       "}\n",
       "\n",
       "#sk-container-id-2 input.sk-toggleable__control:checked~div.sk-toggleable__content {\n",
       "  /* Expand drop-down */\n",
       "  max-height: 200px;\n",
       "  max-width: 100%;\n",
       "  overflow: auto;\n",
       "}\n",
       "\n",
       "#sk-container-id-2 input.sk-toggleable__control:checked~label.sk-toggleable__label-arrow:before {\n",
       "  content: \"▾\";\n",
       "}\n",
       "\n",
       "/* Pipeline/ColumnTransformer-specific style */\n",
       "\n",
       "#sk-container-id-2 div.sk-label input.sk-toggleable__control:checked~label.sk-toggleable__label {\n",
       "  color: var(--sklearn-color-text);\n",
       "  background-color: var(--sklearn-color-unfitted-level-2);\n",
       "}\n",
       "\n",
       "#sk-container-id-2 div.sk-label.fitted input.sk-toggleable__control:checked~label.sk-toggleable__label {\n",
       "  background-color: var(--sklearn-color-fitted-level-2);\n",
       "}\n",
       "\n",
       "/* Estimator-specific style */\n",
       "\n",
       "/* Colorize estimator box */\n",
       "#sk-container-id-2 div.sk-estimator input.sk-toggleable__control:checked~label.sk-toggleable__label {\n",
       "  /* unfitted */\n",
       "  background-color: var(--sklearn-color-unfitted-level-2);\n",
       "}\n",
       "\n",
       "#sk-container-id-2 div.sk-estimator.fitted input.sk-toggleable__control:checked~label.sk-toggleable__label {\n",
       "  /* fitted */\n",
       "  background-color: var(--sklearn-color-fitted-level-2);\n",
       "}\n",
       "\n",
       "#sk-container-id-2 div.sk-label label.sk-toggleable__label,\n",
       "#sk-container-id-2 div.sk-label label {\n",
       "  /* The background is the default theme color */\n",
       "  color: var(--sklearn-color-text-on-default-background);\n",
       "}\n",
       "\n",
       "/* On hover, darken the color of the background */\n",
       "#sk-container-id-2 div.sk-label:hover label.sk-toggleable__label {\n",
       "  color: var(--sklearn-color-text);\n",
       "  background-color: var(--sklearn-color-unfitted-level-2);\n",
       "}\n",
       "\n",
       "/* Label box, darken color on hover, fitted */\n",
       "#sk-container-id-2 div.sk-label.fitted:hover label.sk-toggleable__label.fitted {\n",
       "  color: var(--sklearn-color-text);\n",
       "  background-color: var(--sklearn-color-fitted-level-2);\n",
       "}\n",
       "\n",
       "/* Estimator label */\n",
       "\n",
       "#sk-container-id-2 div.sk-label label {\n",
       "  font-family: monospace;\n",
       "  font-weight: bold;\n",
       "  display: inline-block;\n",
       "  line-height: 1.2em;\n",
       "}\n",
       "\n",
       "#sk-container-id-2 div.sk-label-container {\n",
       "  text-align: center;\n",
       "}\n",
       "\n",
       "/* Estimator-specific */\n",
       "#sk-container-id-2 div.sk-estimator {\n",
       "  font-family: monospace;\n",
       "  border: 1px dotted var(--sklearn-color-border-box);\n",
       "  border-radius: 0.25em;\n",
       "  box-sizing: border-box;\n",
       "  margin-bottom: 0.5em;\n",
       "  /* unfitted */\n",
       "  background-color: var(--sklearn-color-unfitted-level-0);\n",
       "}\n",
       "\n",
       "#sk-container-id-2 div.sk-estimator.fitted {\n",
       "  /* fitted */\n",
       "  background-color: var(--sklearn-color-fitted-level-0);\n",
       "}\n",
       "\n",
       "/* on hover */\n",
       "#sk-container-id-2 div.sk-estimator:hover {\n",
       "  /* unfitted */\n",
       "  background-color: var(--sklearn-color-unfitted-level-2);\n",
       "}\n",
       "\n",
       "#sk-container-id-2 div.sk-estimator.fitted:hover {\n",
       "  /* fitted */\n",
       "  background-color: var(--sklearn-color-fitted-level-2);\n",
       "}\n",
       "\n",
       "/* Specification for estimator info (e.g. \"i\" and \"?\") */\n",
       "\n",
       "/* Common style for \"i\" and \"?\" */\n",
       "\n",
       ".sk-estimator-doc-link,\n",
       "a:link.sk-estimator-doc-link,\n",
       "a:visited.sk-estimator-doc-link {\n",
       "  float: right;\n",
       "  font-size: smaller;\n",
       "  line-height: 1em;\n",
       "  font-family: monospace;\n",
       "  background-color: var(--sklearn-color-background);\n",
       "  border-radius: 1em;\n",
       "  height: 1em;\n",
       "  width: 1em;\n",
       "  text-decoration: none !important;\n",
       "  margin-left: 1ex;\n",
       "  /* unfitted */\n",
       "  border: var(--sklearn-color-unfitted-level-1) 1pt solid;\n",
       "  color: var(--sklearn-color-unfitted-level-1);\n",
       "}\n",
       "\n",
       ".sk-estimator-doc-link.fitted,\n",
       "a:link.sk-estimator-doc-link.fitted,\n",
       "a:visited.sk-estimator-doc-link.fitted {\n",
       "  /* fitted */\n",
       "  border: var(--sklearn-color-fitted-level-1) 1pt solid;\n",
       "  color: var(--sklearn-color-fitted-level-1);\n",
       "}\n",
       "\n",
       "/* On hover */\n",
       "div.sk-estimator:hover .sk-estimator-doc-link:hover,\n",
       ".sk-estimator-doc-link:hover,\n",
       "div.sk-label-container:hover .sk-estimator-doc-link:hover,\n",
       ".sk-estimator-doc-link:hover {\n",
       "  /* unfitted */\n",
       "  background-color: var(--sklearn-color-unfitted-level-3);\n",
       "  color: var(--sklearn-color-background);\n",
       "  text-decoration: none;\n",
       "}\n",
       "\n",
       "div.sk-estimator.fitted:hover .sk-estimator-doc-link.fitted:hover,\n",
       ".sk-estimator-doc-link.fitted:hover,\n",
       "div.sk-label-container:hover .sk-estimator-doc-link.fitted:hover,\n",
       ".sk-estimator-doc-link.fitted:hover {\n",
       "  /* fitted */\n",
       "  background-color: var(--sklearn-color-fitted-level-3);\n",
       "  color: var(--sklearn-color-background);\n",
       "  text-decoration: none;\n",
       "}\n",
       "\n",
       "/* Span, style for the box shown on hovering the info icon */\n",
       ".sk-estimator-doc-link span {\n",
       "  display: none;\n",
       "  z-index: 9999;\n",
       "  position: relative;\n",
       "  font-weight: normal;\n",
       "  right: .2ex;\n",
       "  padding: .5ex;\n",
       "  margin: .5ex;\n",
       "  width: min-content;\n",
       "  min-width: 20ex;\n",
       "  max-width: 50ex;\n",
       "  color: var(--sklearn-color-text);\n",
       "  box-shadow: 2pt 2pt 4pt #999;\n",
       "  /* unfitted */\n",
       "  background: var(--sklearn-color-unfitted-level-0);\n",
       "  border: .5pt solid var(--sklearn-color-unfitted-level-3);\n",
       "}\n",
       "\n",
       ".sk-estimator-doc-link.fitted span {\n",
       "  /* fitted */\n",
       "  background: var(--sklearn-color-fitted-level-0);\n",
       "  border: var(--sklearn-color-fitted-level-3);\n",
       "}\n",
       "\n",
       ".sk-estimator-doc-link:hover span {\n",
       "  display: block;\n",
       "}\n",
       "\n",
       "/* \"?\"-specific style due to the `<a>` HTML tag */\n",
       "\n",
       "#sk-container-id-2 a.estimator_doc_link {\n",
       "  float: right;\n",
       "  font-size: 1rem;\n",
       "  line-height: 1em;\n",
       "  font-family: monospace;\n",
       "  background-color: var(--sklearn-color-background);\n",
       "  border-radius: 1rem;\n",
       "  height: 1rem;\n",
       "  width: 1rem;\n",
       "  text-decoration: none;\n",
       "  /* unfitted */\n",
       "  color: var(--sklearn-color-unfitted-level-1);\n",
       "  border: var(--sklearn-color-unfitted-level-1) 1pt solid;\n",
       "}\n",
       "\n",
       "#sk-container-id-2 a.estimator_doc_link.fitted {\n",
       "  /* fitted */\n",
       "  border: var(--sklearn-color-fitted-level-1) 1pt solid;\n",
       "  color: var(--sklearn-color-fitted-level-1);\n",
       "}\n",
       "\n",
       "/* On hover */\n",
       "#sk-container-id-2 a.estimator_doc_link:hover {\n",
       "  /* unfitted */\n",
       "  background-color: var(--sklearn-color-unfitted-level-3);\n",
       "  color: var(--sklearn-color-background);\n",
       "  text-decoration: none;\n",
       "}\n",
       "\n",
       "#sk-container-id-2 a.estimator_doc_link.fitted:hover {\n",
       "  /* fitted */\n",
       "  background-color: var(--sklearn-color-fitted-level-3);\n",
       "}\n",
       "</style><div id=\"sk-container-id-2\" class=\"sk-top-container\"><div class=\"sk-text-repr-fallback\"><pre>Pipeline(steps=[(&#x27;molfromsmilestransformer&#x27;, MolFromSmilesTransformer()),\n",
       "                (&#x27;featureunion&#x27;,\n",
       "                 FeatureUnion(transformer_list=[(&#x27;ecfpfingerprint&#x27;,\n",
       "                                                 ECFPFingerprint(count=True)),\n",
       "                                                (&#x27;maccsfingerprint&#x27;,\n",
       "                                                 MACCSFingerprint()),\n",
       "                                                (&#x27;rdkitfingerprint&#x27;,\n",
       "                                                 RDKitFingerprint())])),\n",
       "                (&#x27;randomforestclassifier&#x27;,\n",
       "                 RandomForestClassifier(class_weight=&#x27;balanced&#x27;,\n",
       "                                        random_state=0))])</pre><b>In a Jupyter environment, please rerun this cell to show the HTML representation or trust the notebook. <br />On GitHub, the HTML representation is unable to render, please try loading this page with nbviewer.org.</b></div><div class=\"sk-container\" hidden><div class=\"sk-item sk-dashed-wrapped\"><div class=\"sk-label-container\"><div class=\"sk-label fitted sk-toggleable\"><input class=\"sk-toggleable__control sk-hidden--visually\" id=\"sk-estimator-id-8\" type=\"checkbox\" ><label for=\"sk-estimator-id-8\" class=\"sk-toggleable__label fitted sk-toggleable__label-arrow fitted\">&nbsp;&nbsp;Pipeline<a class=\"sk-estimator-doc-link fitted\" rel=\"noreferrer\" target=\"_blank\" href=\"https://scikit-learn.org/1.5/modules/generated/sklearn.pipeline.Pipeline.html\">?<span>Documentation for Pipeline</span></a><span class=\"sk-estimator-doc-link fitted\">i<span>Fitted</span></span></label><div class=\"sk-toggleable__content fitted\"><pre>Pipeline(steps=[(&#x27;molfromsmilestransformer&#x27;, MolFromSmilesTransformer()),\n",
       "                (&#x27;featureunion&#x27;,\n",
       "                 FeatureUnion(transformer_list=[(&#x27;ecfpfingerprint&#x27;,\n",
       "                                                 ECFPFingerprint(count=True)),\n",
       "                                                (&#x27;maccsfingerprint&#x27;,\n",
       "                                                 MACCSFingerprint()),\n",
       "                                                (&#x27;rdkitfingerprint&#x27;,\n",
       "                                                 RDKitFingerprint())])),\n",
       "                (&#x27;randomforestclassifier&#x27;,\n",
       "                 RandomForestClassifier(class_weight=&#x27;balanced&#x27;,\n",
       "                                        random_state=0))])</pre></div> </div></div><div class=\"sk-serial\"><div class=\"sk-item\"><div class=\"sk-estimator fitted sk-toggleable\"><input class=\"sk-toggleable__control sk-hidden--visually\" id=\"sk-estimator-id-9\" type=\"checkbox\" ><label for=\"sk-estimator-id-9\" class=\"sk-toggleable__label fitted sk-toggleable__label-arrow fitted\">MolFromSmilesTransformer</label><div class=\"sk-toggleable__content fitted\"><pre>MolFromSmilesTransformer()</pre></div> </div></div><div class=\"sk-item sk-dashed-wrapped\"><div class=\"sk-label-container\"><div class=\"sk-label fitted sk-toggleable\"><input class=\"sk-toggleable__control sk-hidden--visually\" id=\"sk-estimator-id-10\" type=\"checkbox\" ><label for=\"sk-estimator-id-10\" class=\"sk-toggleable__label fitted sk-toggleable__label-arrow fitted\">&nbsp;featureunion: FeatureUnion<a class=\"sk-estimator-doc-link fitted\" rel=\"noreferrer\" target=\"_blank\" href=\"https://scikit-learn.org/1.5/modules/generated/sklearn.pipeline.FeatureUnion.html\">?<span>Documentation for featureunion: FeatureUnion</span></a></label><div class=\"sk-toggleable__content fitted\"><pre>FeatureUnion(transformer_list=[(&#x27;ecfpfingerprint&#x27;, ECFPFingerprint(count=True)),\n",
       "                               (&#x27;maccsfingerprint&#x27;, MACCSFingerprint()),\n",
       "                               (&#x27;rdkitfingerprint&#x27;, RDKitFingerprint())])</pre></div> </div></div><div class=\"sk-parallel\"><div class=\"sk-parallel-item\"><div class=\"sk-item\"><div class=\"sk-label-container\"><div class=\"sk-label fitted sk-toggleable\"><label>ecfpfingerprint</label></div></div><div class=\"sk-serial\"><div class=\"sk-item\"><div class=\"sk-estimator fitted sk-toggleable\"><input class=\"sk-toggleable__control sk-hidden--visually\" id=\"sk-estimator-id-11\" type=\"checkbox\" ><label for=\"sk-estimator-id-11\" class=\"sk-toggleable__label fitted sk-toggleable__label-arrow fitted\">ECFPFingerprint</label><div class=\"sk-toggleable__content fitted\"><pre>ECFPFingerprint(count=True)</pre></div> </div></div></div></div></div><div class=\"sk-parallel-item\"><div class=\"sk-item\"><div class=\"sk-label-container\"><div class=\"sk-label fitted sk-toggleable\"><label>maccsfingerprint</label></div></div><div class=\"sk-serial\"><div class=\"sk-item\"><div class=\"sk-estimator fitted sk-toggleable\"><input class=\"sk-toggleable__control sk-hidden--visually\" id=\"sk-estimator-id-12\" type=\"checkbox\" ><label for=\"sk-estimator-id-12\" class=\"sk-toggleable__label fitted sk-toggleable__label-arrow fitted\">MACCSFingerprint</label><div class=\"sk-toggleable__content fitted\"><pre>MACCSFingerprint()</pre></div> </div></div></div></div></div><div class=\"sk-parallel-item\"><div class=\"sk-item\"><div class=\"sk-label-container\"><div class=\"sk-label fitted sk-toggleable\"><label>rdkitfingerprint</label></div></div><div class=\"sk-serial\"><div class=\"sk-item\"><div class=\"sk-estimator fitted sk-toggleable\"><input class=\"sk-toggleable__control sk-hidden--visually\" id=\"sk-estimator-id-13\" type=\"checkbox\" ><label for=\"sk-estimator-id-13\" class=\"sk-toggleable__label fitted sk-toggleable__label-arrow fitted\">RDKitFingerprint</label><div class=\"sk-toggleable__content fitted\"><pre>RDKitFingerprint()</pre></div> </div></div></div></div></div></div></div><div class=\"sk-item\"><div class=\"sk-estimator fitted sk-toggleable\"><input class=\"sk-toggleable__control sk-hidden--visually\" id=\"sk-estimator-id-14\" type=\"checkbox\" ><label for=\"sk-estimator-id-14\" class=\"sk-toggleable__label fitted sk-toggleable__label-arrow fitted\">&nbsp;RandomForestClassifier<a class=\"sk-estimator-doc-link fitted\" rel=\"noreferrer\" target=\"_blank\" href=\"https://scikit-learn.org/1.5/modules/generated/sklearn.ensemble.RandomForestClassifier.html\">?<span>Documentation for RandomForestClassifier</span></a></label><div class=\"sk-toggleable__content fitted\"><pre>RandomForestClassifier(class_weight=&#x27;balanced&#x27;, random_state=0)</pre></div> </div></div></div></div></div></div>"
      ],
      "text/plain": [
       "Pipeline(steps=[('molfromsmilestransformer', MolFromSmilesTransformer()),\n",
       "                ('featureunion',\n",
       "                 FeatureUnion(transformer_list=[('ecfpfingerprint',\n",
       "                                                 ECFPFingerprint(count=True)),\n",
       "                                                ('maccsfingerprint',\n",
       "                                                 MACCSFingerprint()),\n",
       "                                                ('rdkitfingerprint',\n",
       "                                                 RDKitFingerprint())])),\n",
       "                ('randomforestclassifier',\n",
       "                 RandomForestClassifier(class_weight='balanced',\n",
       "                                        random_state=0))])"
      ]
     },
     "execution_count": 48,
     "metadata": {},
     "output_type": "execute_result"
    }
   ],
   "source": [
    "pipelines['rf_pipeline'].fit(filtered_smiles, filtered_labels)"
   ]
  },
  {
   "cell_type": "code",
   "execution_count": null,
   "id": "9ba4e5f2-9561-4495-84fa-a11a2bbfb92a",
   "metadata": {},
   "outputs": [],
   "source": [
    "y_pred = pipelines['rf_pipeline'].predict(smiles_test)\n",
    "y_proba = pipelines['rf_pipeline'].predict_proba(smiles_test)"
   ]
  },
  {
   "cell_type": "code",
   "execution_count": null,
   "id": "8a44db5f-fd49-4540-955f-05da04e130a2",
   "metadata": {},
   "outputs": [
    {
     "name": "stdout",
     "output_type": "stream",
     "text": [
      "R2 score for RF classifier: -0.4234\n",
      "Accuracy for RF classifier: 0.6535\n",
      "ROC-AUC score for RF classifier: 0.7345\n"
     ]
    }
   ],
   "source": [
    "calculate_scores(y_test, y_pred, y_proba)"
   ]
  },
  {
   "cell_type": "markdown",
   "id": "f05daf98",
   "metadata": {},
   "source": [
    "## CLINTOX"
   ]
  },
  {
   "cell_type": "code",
   "execution_count": 78,
   "id": "53c8f531",
   "metadata": {},
   "outputs": [],
   "source": [
    "smiles, labels = load_clintox()"
   ]
  },
  {
   "cell_type": "code",
   "execution_count": 79,
   "id": "a107d076",
   "metadata": {},
   "outputs": [
    {
     "name": "stdout",
     "output_type": "stream",
     "text": [
      "1477\n",
      "[C@@H]1([C@@H]([C@@H]([C@H]([C@@H]([C@@H]1Cl)Cl)Cl)Cl)Cl)Cl [1 0]\n",
      "[C@H]([C@@H]([C@@H](C(=O)[O-])O)O)([C@H](C(=O)[O-])O)O [1 0]\n"
     ]
    }
   ],
   "source": [
    "print(len(smiles))\n",
    "print(smiles[0], labels[0])\n",
    "print(smiles[1], labels[1])"
   ]
  },
  {
   "cell_type": "code",
   "execution_count": null,
   "id": "0c6f9788",
   "metadata": {},
   "outputs": [],
   "source": []
  },
  {
   "cell_type": "code",
   "execution_count": null,
   "id": "74e49c30",
   "metadata": {},
   "outputs": [],
   "source": [
    "pipelines['baseline_pipeline'].fit(smiles_train, y_train)\n",
    "y_pred = pipelines['baseline_pipeline'].predict(smiles_test)\n",
    "y_proba = pipelines['baseline_pipeline'].predict_proba(smiles_test) "
   ]
  },
  {
   "cell_type": "code",
   "execution_count": null,
   "id": "7b5d7293",
   "metadata": {},
   "outputs": [],
   "source": []
  },
  {
   "cell_type": "markdown",
   "id": "c4029bce",
   "metadata": {},
   "source": [
    "## BBBP"
   ]
  },
  {
   "cell_type": "code",
   "execution_count": 28,
   "id": "26b25dbb",
   "metadata": {},
   "outputs": [],
   "source": [
    "smiles_bbbp, labels_bbbp = load_bbbp()"
   ]
  },
  {
   "cell_type": "code",
   "execution_count": 29,
   "id": "93cb7c5b",
   "metadata": {},
   "outputs": [
    {
     "name": "stdout",
     "output_type": "stream",
     "text": [
      "2039\n",
      "[Cl].CC(C)NCC(O)COc1cccc2ccccc12 1\n",
      "C(=O)(OC(C)(C)C)CCCc1ccc(cc1)N(CCCl)CCCl 1\n"
     ]
    }
   ],
   "source": [
    "print(len(smiles_bbbp))\n",
    "print(smiles_bbbp[0], labels_bbbp[0])\n",
    "print(smiles_bbbp[1], labels_bbbp[1])"
   ]
  },
  {
   "cell_type": "code",
   "execution_count": 30,
   "id": "3a6f5f1f",
   "metadata": {},
   "outputs": [
    {
     "name": "stderr",
     "output_type": "stream",
     "text": [
      "[02:46:37] WARNING: not removing hydrogen atom without neighbors\n",
      "[02:46:37] WARNING: not removing hydrogen atom without neighbors\n",
      "[02:46:37] WARNING: not removing hydrogen atom without neighbors\n",
      "[02:46:37] WARNING: not removing hydrogen atom without neighbors\n",
      "[02:46:37] WARNING: not removing hydrogen atom without neighbors\n",
      "[02:46:37] WARNING: not removing hydrogen atom without neighbors\n",
      "[02:46:37] WARNING: not removing hydrogen atom without neighbors\n",
      "[02:46:37] WARNING: not removing hydrogen atom without neighbors\n",
      "[02:46:37] WARNING: not removing hydrogen atom without neighbors\n",
      "[02:46:37] WARNING: not removing hydrogen atom without neighbors\n",
      "[02:46:37] WARNING: not removing hydrogen atom without neighbors\n",
      "[02:46:37] WARNING: not removing hydrogen atom without neighbors\n",
      "[02:46:37] WARNING: not removing hydrogen atom without neighbors\n",
      "[02:46:37] WARNING: not removing hydrogen atom without neighbors\n",
      "[02:46:37] WARNING: not removing hydrogen atom without neighbors\n",
      "[02:46:37] WARNING: not removing hydrogen atom without neighbors\n",
      "[02:46:37] WARNING: not removing hydrogen atom without neighbors\n",
      "[02:46:37] WARNING: not removing hydrogen atom without neighbors\n",
      "[02:46:37] WARNING: not removing hydrogen atom without neighbors\n",
      "[02:46:37] WARNING: not removing hydrogen atom without neighbors\n",
      "[02:46:37] WARNING: not removing hydrogen atom without neighbors\n",
      "[02:46:37] WARNING: not removing hydrogen atom without neighbors\n",
      "[02:46:37] WARNING: not removing hydrogen atom without neighbors\n",
      "[02:46:37] WARNING: not removing hydrogen atom without neighbors\n",
      "[02:46:37] WARNING: not removing hydrogen atom without neighbors\n",
      "[02:46:37] WARNING: not removing hydrogen atom without neighbors\n",
      "[02:46:37] WARNING: not removing hydrogen atom without neighbors\n",
      "[02:46:37] WARNING: not removing hydrogen atom without neighbors\n",
      "[02:46:37] WARNING: not removing hydrogen atom without neighbors\n",
      "[02:46:37] WARNING: not removing hydrogen atom without neighbors\n",
      "[02:46:37] WARNING: not removing hydrogen atom without neighbors\n",
      "[02:46:37] WARNING: not removing hydrogen atom without neighbors\n",
      "[02:46:37] WARNING: not removing hydrogen atom without neighbors\n",
      "[02:46:37] WARNING: not removing hydrogen atom without neighbors\n",
      "[02:46:37] WARNING: not removing hydrogen atom without neighbors\n",
      "[02:46:37] WARNING: not removing hydrogen atom without neighbors\n",
      "[02:46:37] WARNING: not removing hydrogen atom without neighbors\n",
      "[02:46:37] WARNING: not removing hydrogen atom without neighbors\n",
      "[02:46:37] WARNING: not removing hydrogen atom without neighbors\n",
      "[02:46:37] WARNING: not removing hydrogen atom without neighbors\n"
     ]
    }
   ],
   "source": [
    "smiles_bbbp_train, smiles_bbbp_test, y_train, y_test = scaffold_train_test_split(\n",
    "    smiles_bbbp, labels_bbbp, test_size=0.2\n",
    ")"
   ]
  },
  {
   "cell_type": "code",
   "execution_count": 31,
   "id": "4b158a24",
   "metadata": {},
   "outputs": [
    {
     "name": "stdout",
     "output_type": "stream",
     "text": [
      "Class distribution: [ 479 1560]\n"
     ]
    }
   ],
   "source": [
    "print(f\"Class distribution: {np.bincount(labels_bbbp)}\")"
   ]
  },
  {
   "cell_type": "code",
   "execution_count": 32,
   "id": "a3dbb54b",
   "metadata": {},
   "outputs": [
    {
     "name": "stderr",
     "output_type": "stream",
     "text": [
      "[02:47:07] WARNING: not removing hydrogen atom without neighbors\n",
      "[02:47:07] WARNING: not removing hydrogen atom without neighbors\n",
      "[02:47:07] WARNING: not removing hydrogen atom without neighbors\n",
      "[02:47:07] WARNING: not removing hydrogen atom without neighbors\n",
      "[02:47:07] WARNING: not removing hydrogen atom without neighbors\n",
      "[02:47:07] WARNING: not removing hydrogen atom without neighbors\n",
      "[02:47:07] WARNING: not removing hydrogen atom without neighbors\n",
      "[02:47:07] WARNING: not removing hydrogen atom without neighbors\n",
      "[02:47:07] WARNING: not removing hydrogen atom without neighbors\n",
      "[02:47:07] WARNING: not removing hydrogen atom without neighbors\n",
      "[02:47:07] WARNING: not removing hydrogen atom without neighbors\n",
      "[02:47:07] WARNING: not removing hydrogen atom without neighbors\n",
      "[02:47:07] WARNING: not removing hydrogen atom without neighbors\n",
      "[02:47:07] WARNING: not removing hydrogen atom without neighbors\n",
      "[02:47:07] WARNING: not removing hydrogen atom without neighbors\n",
      "[02:47:07] WARNING: not removing hydrogen atom without neighbors\n",
      "[02:47:07] WARNING: not removing hydrogen atom without neighbors\n",
      "[02:47:07] WARNING: not removing hydrogen atom without neighbors\n",
      "[02:47:07] WARNING: not removing hydrogen atom without neighbors\n",
      "[02:47:07] WARNING: not removing hydrogen atom without neighbors\n",
      "[02:47:07] WARNING: not removing hydrogen atom without neighbors\n",
      "[02:47:07] WARNING: not removing hydrogen atom without neighbors\n",
      "[02:47:07] WARNING: not removing hydrogen atom without neighbors\n",
      "[02:47:07] WARNING: not removing hydrogen atom without neighbors\n",
      "[02:47:07] WARNING: not removing hydrogen atom without neighbors\n",
      "[02:47:07] WARNING: not removing hydrogen atom without neighbors\n",
      "[02:47:07] WARNING: not removing hydrogen atom without neighbors\n",
      "[02:47:07] WARNING: not removing hydrogen atom without neighbors\n",
      "[02:47:07] WARNING: not removing hydrogen atom without neighbors\n",
      "[02:47:07] WARNING: not removing hydrogen atom without neighbors\n",
      "[02:47:07] WARNING: not removing hydrogen atom without neighbors\n",
      "[02:47:07] WARNING: not removing hydrogen atom without neighbors\n",
      "[02:47:07] WARNING: not removing hydrogen atom without neighbors\n",
      "[02:47:07] WARNING: not removing hydrogen atom without neighbors\n",
      "[02:47:07] WARNING: not removing hydrogen atom without neighbors\n",
      "[02:47:12] WARNING: not removing hydrogen atom without neighbors\n",
      "[02:47:12] WARNING: not removing hydrogen atom without neighbors\n",
      "[02:47:12] WARNING: not removing hydrogen atom without neighbors\n",
      "[02:47:12] WARNING: not removing hydrogen atom without neighbors\n",
      "[02:47:12] WARNING: not removing hydrogen atom without neighbors\n",
      "[02:47:13] WARNING: not removing hydrogen atom without neighbors\n",
      "[02:47:13] WARNING: not removing hydrogen atom without neighbors\n",
      "[02:47:13] WARNING: not removing hydrogen atom without neighbors\n",
      "[02:47:13] WARNING: not removing hydrogen atom without neighbors\n",
      "[02:47:13] WARNING: not removing hydrogen atom without neighbors\n"
     ]
    }
   ],
   "source": [
    "pipelines['baseline_pipeline'].fit(smiles_bbbp_train, y_train)\n",
    "y_pred = pipelines['baseline_pipeline'].predict(smiles_bbbp_test)\n",
    "y_proba = pipelines['baseline_pipeline'].predict_proba(smiles_bbbp_test) "
   ]
  },
  {
   "cell_type": "code",
   "execution_count": null,
   "id": "68ca9d09",
   "metadata": {},
   "outputs": [
    {
     "name": "stdout",
     "output_type": "stream",
     "text": [
      "R2 score for Linear regression model: -0.9813\n",
      "Accuracy for Linear regression model: 0.5074\n",
      "ROC-AUC score for Linear regression model: 0.3868\n"
     ]
    }
   ],
   "source": [
    "calculate_scores(y_test, y_pred, y_proba)"
   ]
  },
  {
   "cell_type": "code",
   "execution_count": 36,
   "id": "5269ae73",
   "metadata": {},
   "outputs": [
    {
     "name": "stderr",
     "output_type": "stream",
     "text": [
      "[02:48:50] WARNING: not removing hydrogen atom without neighbors\n",
      "[02:48:50] WARNING: not removing hydrogen atom without neighbors\n",
      "[02:48:50] WARNING: not removing hydrogen atom without neighbors\n",
      "[02:48:50] WARNING: not removing hydrogen atom without neighbors\n",
      "[02:48:50] WARNING: not removing hydrogen atom without neighbors\n",
      "[02:48:50] WARNING: not removing hydrogen atom without neighbors\n",
      "[02:48:50] WARNING: not removing hydrogen atom without neighbors\n",
      "[02:48:50] WARNING: not removing hydrogen atom without neighbors\n",
      "[02:48:50] WARNING: not removing hydrogen atom without neighbors\n",
      "[02:48:50] WARNING: not removing hydrogen atom without neighbors\n",
      "[02:48:50] WARNING: not removing hydrogen atom without neighbors\n",
      "[02:48:50] WARNING: not removing hydrogen atom without neighbors\n",
      "[02:48:50] WARNING: not removing hydrogen atom without neighbors\n",
      "[02:48:50] WARNING: not removing hydrogen atom without neighbors\n",
      "[02:48:50] WARNING: not removing hydrogen atom without neighbors\n",
      "[02:48:50] WARNING: not removing hydrogen atom without neighbors\n",
      "[02:48:50] WARNING: not removing hydrogen atom without neighbors\n",
      "[02:48:50] WARNING: not removing hydrogen atom without neighbors\n",
      "[02:48:50] WARNING: not removing hydrogen atom without neighbors\n",
      "[02:48:50] WARNING: not removing hydrogen atom without neighbors\n",
      "[02:48:50] WARNING: not removing hydrogen atom without neighbors\n",
      "[02:48:50] WARNING: not removing hydrogen atom without neighbors\n",
      "[02:48:50] WARNING: not removing hydrogen atom without neighbors\n",
      "[02:48:50] WARNING: not removing hydrogen atom without neighbors\n",
      "[02:48:50] WARNING: not removing hydrogen atom without neighbors\n",
      "[02:48:50] WARNING: not removing hydrogen atom without neighbors\n",
      "[02:48:50] WARNING: not removing hydrogen atom without neighbors\n",
      "[02:48:50] WARNING: not removing hydrogen atom without neighbors\n",
      "[02:48:50] WARNING: not removing hydrogen atom without neighbors\n",
      "[02:48:50] WARNING: not removing hydrogen atom without neighbors\n",
      "[02:48:50] WARNING: not removing hydrogen atom without neighbors\n",
      "[02:48:50] WARNING: not removing hydrogen atom without neighbors\n",
      "[02:48:50] WARNING: not removing hydrogen atom without neighbors\n",
      "[02:48:50] WARNING: not removing hydrogen atom without neighbors\n",
      "[02:48:50] WARNING: not removing hydrogen atom without neighbors\n",
      "[02:48:58] WARNING: not removing hydrogen atom without neighbors\n",
      "[02:48:58] WARNING: not removing hydrogen atom without neighbors\n",
      "[02:48:58] WARNING: not removing hydrogen atom without neighbors\n",
      "[02:48:58] WARNING: not removing hydrogen atom without neighbors\n",
      "[02:48:58] WARNING: not removing hydrogen atom without neighbors\n",
      "[02:49:00] WARNING: not removing hydrogen atom without neighbors\n",
      "[02:49:00] WARNING: not removing hydrogen atom without neighbors\n",
      "[02:49:00] WARNING: not removing hydrogen atom without neighbors\n",
      "[02:49:00] WARNING: not removing hydrogen atom without neighbors\n",
      "[02:49:00] WARNING: not removing hydrogen atom without neighbors\n"
     ]
    }
   ],
   "source": [
    "pipelines['rf_pipeline'].fit(smiles_bbbp_train, y_train)\n",
    "y_pred = pipelines['rf_pipeline'].predict(smiles_bbbp_test)\n",
    "y_proba = pipelines['rf_pipeline'].predict_proba(smiles_bbbp_test) "
   ]
  },
  {
   "cell_type": "code",
   "execution_count": 37,
   "id": "187b7094",
   "metadata": {},
   "outputs": [
    {
     "name": "stdout",
     "output_type": "stream",
     "text": [
      "R2 score for Linear regression model: -0.8630\n",
      "Accuracy for Linear regression model: 0.5368\n",
      "ROC-AUC score for Linear regression model: 0.4356\n"
     ]
    }
   ],
   "source": [
    "calculate_scores(y_test, y_pred, y_proba)"
   ]
  },
  {
   "cell_type": "code",
   "execution_count": 38,
   "id": "1893e960",
   "metadata": {},
   "outputs": [
    {
     "name": "stderr",
     "output_type": "stream",
     "text": [
      "[02:49:27] WARNING: not removing hydrogen atom without neighbors\n",
      "[02:49:27] WARNING: not removing hydrogen atom without neighbors\n",
      "[02:49:27] WARNING: not removing hydrogen atom without neighbors\n",
      "[02:49:27] WARNING: not removing hydrogen atom without neighbors\n",
      "[02:49:27] WARNING: not removing hydrogen atom without neighbors\n",
      "[02:49:27] WARNING: not removing hydrogen atom without neighbors\n",
      "[02:49:27] WARNING: not removing hydrogen atom without neighbors\n",
      "[02:49:27] WARNING: not removing hydrogen atom without neighbors\n",
      "[02:49:27] WARNING: not removing hydrogen atom without neighbors\n",
      "[02:49:27] WARNING: not removing hydrogen atom without neighbors\n",
      "[02:49:27] WARNING: not removing hydrogen atom without neighbors\n",
      "[02:49:27] WARNING: not removing hydrogen atom without neighbors\n",
      "[02:49:27] WARNING: not removing hydrogen atom without neighbors\n",
      "[02:49:27] WARNING: not removing hydrogen atom without neighbors\n",
      "[02:49:27] WARNING: not removing hydrogen atom without neighbors\n",
      "[02:49:27] WARNING: not removing hydrogen atom without neighbors\n",
      "[02:49:27] WARNING: not removing hydrogen atom without neighbors\n",
      "[02:49:27] WARNING: not removing hydrogen atom without neighbors\n",
      "[02:49:27] WARNING: not removing hydrogen atom without neighbors\n",
      "[02:49:27] WARNING: not removing hydrogen atom without neighbors\n",
      "[02:49:27] WARNING: not removing hydrogen atom without neighbors\n",
      "[02:49:27] WARNING: not removing hydrogen atom without neighbors\n",
      "[02:49:27] WARNING: not removing hydrogen atom without neighbors\n",
      "[02:49:27] WARNING: not removing hydrogen atom without neighbors\n",
      "[02:49:27] WARNING: not removing hydrogen atom without neighbors\n",
      "[02:49:27] WARNING: not removing hydrogen atom without neighbors\n",
      "[02:49:27] WARNING: not removing hydrogen atom without neighbors\n",
      "[02:49:27] WARNING: not removing hydrogen atom without neighbors\n",
      "[02:49:27] WARNING: not removing hydrogen atom without neighbors\n",
      "[02:49:27] WARNING: not removing hydrogen atom without neighbors\n",
      "[02:49:27] WARNING: not removing hydrogen atom without neighbors\n",
      "[02:49:27] WARNING: not removing hydrogen atom without neighbors\n",
      "[02:49:27] WARNING: not removing hydrogen atom without neighbors\n",
      "[02:49:27] WARNING: not removing hydrogen atom without neighbors\n",
      "[02:49:27] WARNING: not removing hydrogen atom without neighbors\n",
      "[02:50:09] WARNING: not removing hydrogen atom without neighbors\n",
      "[02:50:09] WARNING: not removing hydrogen atom without neighbors\n",
      "[02:50:09] WARNING: not removing hydrogen atom without neighbors\n",
      "[02:50:09] WARNING: not removing hydrogen atom without neighbors\n",
      "[02:50:09] WARNING: not removing hydrogen atom without neighbors\n",
      "[02:50:10] WARNING: not removing hydrogen atom without neighbors\n",
      "[02:50:10] WARNING: not removing hydrogen atom without neighbors\n",
      "[02:50:10] WARNING: not removing hydrogen atom without neighbors\n",
      "[02:50:10] WARNING: not removing hydrogen atom without neighbors\n",
      "[02:50:10] WARNING: not removing hydrogen atom without neighbors\n"
     ]
    }
   ],
   "source": [
    "pipelines['gb_pipeline'].fit(smiles_bbbp_train, y_train)\n",
    "y_pred = pipelines['gb_pipeline'].predict(smiles_bbbp_test)\n",
    "y_proba = pipelines['gb_pipeline'].predict_proba(smiles_bbbp_test) "
   ]
  },
  {
   "cell_type": "code",
   "execution_count": 39,
   "id": "7a8d33c1",
   "metadata": {},
   "outputs": [
    {
     "name": "stdout",
     "output_type": "stream",
     "text": [
      "R2 score for Linear regression model: -0.8630\n",
      "Accuracy for Linear regression model: 0.5368\n",
      "ROC-AUC score for Linear regression model: 0.3970\n"
     ]
    }
   ],
   "source": [
    "calculate_scores(y_test, y_pred, y_proba)"
   ]
  },
  {
   "cell_type": "code",
   "execution_count": 43,
   "id": "62adf1c1",
   "metadata": {},
   "outputs": [
    {
     "name": "stderr",
     "output_type": "stream",
     "text": [
      "[02:53:35] WARNING: not removing hydrogen atom without neighbors\n",
      "[02:53:35] WARNING: not removing hydrogen atom without neighbors\n",
      "[02:53:35] WARNING: not removing hydrogen atom without neighbors\n",
      "[02:53:35] WARNING: not removing hydrogen atom without neighbors\n",
      "[02:53:35] WARNING: not removing hydrogen atom without neighbors\n",
      "[02:53:35] WARNING: not removing hydrogen atom without neighbors\n",
      "[02:53:35] WARNING: not removing hydrogen atom without neighbors\n",
      "[02:53:35] WARNING: not removing hydrogen atom without neighbors\n",
      "[02:53:35] WARNING: not removing hydrogen atom without neighbors\n",
      "[02:53:35] WARNING: not removing hydrogen atom without neighbors\n",
      "[02:53:35] WARNING: not removing hydrogen atom without neighbors\n",
      "[02:53:35] WARNING: not removing hydrogen atom without neighbors\n",
      "[02:53:35] WARNING: not removing hydrogen atom without neighbors\n",
      "[02:53:35] WARNING: not removing hydrogen atom without neighbors\n",
      "[02:53:35] WARNING: not removing hydrogen atom without neighbors\n",
      "[02:53:35] WARNING: not removing hydrogen atom without neighbors\n",
      "[02:53:35] WARNING: not removing hydrogen atom without neighbors\n",
      "[02:53:35] WARNING: not removing hydrogen atom without neighbors\n",
      "[02:53:35] WARNING: not removing hydrogen atom without neighbors\n",
      "[02:53:35] WARNING: not removing hydrogen atom without neighbors\n",
      "[02:53:35] WARNING: not removing hydrogen atom without neighbors\n",
      "[02:53:35] WARNING: not removing hydrogen atom without neighbors\n",
      "[02:53:35] WARNING: not removing hydrogen atom without neighbors\n",
      "[02:53:35] WARNING: not removing hydrogen atom without neighbors\n",
      "[02:53:35] WARNING: not removing hydrogen atom without neighbors\n",
      "[02:53:35] WARNING: not removing hydrogen atom without neighbors\n",
      "[02:53:35] WARNING: not removing hydrogen atom without neighbors\n",
      "[02:53:35] WARNING: not removing hydrogen atom without neighbors\n",
      "[02:53:35] WARNING: not removing hydrogen atom without neighbors\n",
      "[02:53:35] WARNING: not removing hydrogen atom without neighbors\n",
      "[02:53:35] WARNING: not removing hydrogen atom without neighbors\n",
      "[02:53:35] WARNING: not removing hydrogen atom without neighbors\n",
      "[02:53:35] WARNING: not removing hydrogen atom without neighbors\n",
      "[02:53:35] WARNING: not removing hydrogen atom without neighbors\n",
      "[02:53:35] WARNING: not removing hydrogen atom without neighbors\n",
      "[02:53:41] WARNING: not removing hydrogen atom without neighbors\n",
      "[02:53:41] WARNING: not removing hydrogen atom without neighbors\n",
      "[02:53:41] WARNING: not removing hydrogen atom without neighbors\n",
      "[02:53:41] WARNING: not removing hydrogen atom without neighbors\n",
      "[02:53:41] WARNING: not removing hydrogen atom without neighbors\n",
      "[02:53:43] WARNING: not removing hydrogen atom without neighbors\n",
      "[02:53:43] WARNING: not removing hydrogen atom without neighbors\n",
      "[02:53:43] WARNING: not removing hydrogen atom without neighbors\n",
      "[02:53:43] WARNING: not removing hydrogen atom without neighbors\n",
      "[02:53:43] WARNING: not removing hydrogen atom without neighbors\n"
     ]
    }
   ],
   "source": [
    "pipelines['knc_pipeline'].fit(smiles_bbbp_train, y_train)\n",
    "y_pred = pipelines['knc_pipeline'].predict(smiles_bbbp_test)\n",
    "y_proba = pipelines['knc_pipeline'].predict_proba(smiles_bbbp_test) "
   ]
  },
  {
   "cell_type": "code",
   "execution_count": 44,
   "id": "717ca0d5",
   "metadata": {},
   "outputs": [
    {
     "name": "stdout",
     "output_type": "stream",
     "text": [
      "R2 score for Linear regression model: -0.8433\n",
      "Accuracy for Linear regression model: 0.5417\n",
      "ROC-AUC score for Linear regression model: 0.4331\n"
     ]
    }
   ],
   "source": [
    "calculate_scores(y_test, y_pred, y_proba)"
   ]
  },
  {
   "cell_type": "code",
   "execution_count": 61,
   "id": "18aedde8",
   "metadata": {},
   "outputs": [
    {
     "name": "stderr",
     "output_type": "stream",
     "text": [
      "[03:03:48] WARNING: not removing hydrogen atom without neighbors\n",
      "[03:03:48] WARNING: not removing hydrogen atom without neighbors\n",
      "[03:03:48] WARNING: not removing hydrogen atom without neighbors\n",
      "[03:03:49] WARNING: not removing hydrogen atom without neighbors\n",
      "[03:03:49] WARNING: not removing hydrogen atom without neighbors\n",
      "[03:03:49] WARNING: not removing hydrogen atom without neighbors\n",
      "[03:03:49] WARNING: not removing hydrogen atom without neighbors\n",
      "[03:03:49] WARNING: not removing hydrogen atom without neighbors\n",
      "[03:03:49] WARNING: not removing hydrogen atom without neighbors\n",
      "[03:03:49] WARNING: not removing hydrogen atom without neighbors\n",
      "[03:03:49] WARNING: not removing hydrogen atom without neighbors\n",
      "[03:03:49] WARNING: not removing hydrogen atom without neighbors\n",
      "[03:03:49] WARNING: not removing hydrogen atom without neighbors\n",
      "[03:03:49] WARNING: not removing hydrogen atom without neighbors\n",
      "[03:03:49] WARNING: not removing hydrogen atom without neighbors\n",
      "[03:03:49] WARNING: not removing hydrogen atom without neighbors\n",
      "[03:03:49] WARNING: not removing hydrogen atom without neighbors\n",
      "[03:03:49] WARNING: not removing hydrogen atom without neighbors\n",
      "[03:03:49] WARNING: not removing hydrogen atom without neighbors\n",
      "[03:03:49] WARNING: not removing hydrogen atom without neighbors\n",
      "[03:03:49] WARNING: not removing hydrogen atom without neighbors\n",
      "[03:03:49] WARNING: not removing hydrogen atom without neighbors\n",
      "[03:03:49] WARNING: not removing hydrogen atom without neighbors\n",
      "[03:03:49] WARNING: not removing hydrogen atom without neighbors\n",
      "[03:03:49] WARNING: not removing hydrogen atom without neighbors\n",
      "[03:03:49] WARNING: not removing hydrogen atom without neighbors\n",
      "[03:03:49] WARNING: not removing hydrogen atom without neighbors\n",
      "[03:03:49] WARNING: not removing hydrogen atom without neighbors\n",
      "[03:03:49] WARNING: not removing hydrogen atom without neighbors\n",
      "[03:03:49] WARNING: not removing hydrogen atom without neighbors\n",
      "[03:03:49] WARNING: not removing hydrogen atom without neighbors\n",
      "[03:03:49] WARNING: not removing hydrogen atom without neighbors\n",
      "[03:03:49] WARNING: not removing hydrogen atom without neighbors\n",
      "[03:03:49] WARNING: not removing hydrogen atom without neighbors\n",
      "[03:03:49] WARNING: not removing hydrogen atom without neighbors\n",
      "[03:04:36] WARNING: not removing hydrogen atom without neighbors\n",
      "[03:04:36] WARNING: not removing hydrogen atom without neighbors\n",
      "[03:04:36] WARNING: not removing hydrogen atom without neighbors\n",
      "[03:04:36] WARNING: not removing hydrogen atom without neighbors\n",
      "[03:04:36] WARNING: not removing hydrogen atom without neighbors\n",
      "[03:04:40] WARNING: not removing hydrogen atom without neighbors\n",
      "[03:04:40] WARNING: not removing hydrogen atom without neighbors\n",
      "[03:04:40] WARNING: not removing hydrogen atom without neighbors\n",
      "[03:04:40] WARNING: not removing hydrogen atom without neighbors\n",
      "[03:04:40] WARNING: not removing hydrogen atom without neighbors\n"
     ]
    }
   ],
   "source": [
    "pipelines['svm_pipeline'].fit(smiles_bbbp_train, y_train)\n",
    "y_pred = pipelines['svm_pipeline'].predict(smiles_bbbp_test)\n",
    "y_proba = pipelines['svm_pipeline'].predict_proba(smiles_bbbp_test) "
   ]
  },
  {
   "cell_type": "code",
   "execution_count": 62,
   "id": "b8930fee",
   "metadata": {},
   "outputs": [
    {
     "name": "stdout",
     "output_type": "stream",
     "text": [
      "R2 score for Linear regression model: -0.8630\n",
      "Accuracy for Linear regression model: 0.5368\n",
      "ROC-AUC score for Linear regression model: 0.4393\n"
     ]
    }
   ],
   "source": [
    "calculate_scores(y_test, y_pred, y_proba)"
   ]
  },
  {
   "cell_type": "code",
   "execution_count": 52,
   "id": "3e1622cf",
   "metadata": {},
   "outputs": [
    {
     "name": "stderr",
     "output_type": "stream",
     "text": [
      "[02:57:13] WARNING: not removing hydrogen atom without neighbors\n",
      "[02:57:13] WARNING: not removing hydrogen atom without neighbors\n",
      "[02:57:13] WARNING: not removing hydrogen atom without neighbors\n",
      "[02:57:13] WARNING: not removing hydrogen atom without neighbors\n",
      "[02:57:13] WARNING: not removing hydrogen atom without neighbors\n",
      "[02:57:13] WARNING: not removing hydrogen atom without neighbors\n",
      "[02:57:13] WARNING: not removing hydrogen atom without neighbors\n",
      "[02:57:13] WARNING: not removing hydrogen atom without neighbors\n",
      "[02:57:13] WARNING: not removing hydrogen atom without neighbors\n",
      "[02:57:13] WARNING: not removing hydrogen atom without neighbors\n",
      "[02:57:13] WARNING: not removing hydrogen atom without neighbors\n",
      "[02:57:13] WARNING: not removing hydrogen atom without neighbors\n",
      "[02:57:13] WARNING: not removing hydrogen atom without neighbors\n",
      "[02:57:13] WARNING: not removing hydrogen atom without neighbors\n",
      "[02:57:13] WARNING: not removing hydrogen atom without neighbors\n",
      "[02:57:13] WARNING: not removing hydrogen atom without neighbors\n",
      "[02:57:13] WARNING: not removing hydrogen atom without neighbors\n",
      "[02:57:13] WARNING: not removing hydrogen atom without neighbors\n",
      "[02:57:13] WARNING: not removing hydrogen atom without neighbors\n",
      "[02:57:13] WARNING: not removing hydrogen atom without neighbors\n",
      "[02:57:13] WARNING: not removing hydrogen atom without neighbors\n",
      "[02:57:13] WARNING: not removing hydrogen atom without neighbors\n",
      "[02:57:13] WARNING: not removing hydrogen atom without neighbors\n",
      "[02:57:13] WARNING: not removing hydrogen atom without neighbors\n",
      "[02:57:13] WARNING: not removing hydrogen atom without neighbors\n",
      "[02:57:13] WARNING: not removing hydrogen atom without neighbors\n",
      "[02:57:13] WARNING: not removing hydrogen atom without neighbors\n",
      "[02:57:13] WARNING: not removing hydrogen atom without neighbors\n",
      "[02:57:13] WARNING: not removing hydrogen atom without neighbors\n",
      "[02:57:13] WARNING: not removing hydrogen atom without neighbors\n",
      "[02:57:13] WARNING: not removing hydrogen atom without neighbors\n",
      "[02:57:13] WARNING: not removing hydrogen atom without neighbors\n",
      "[02:57:13] WARNING: not removing hydrogen atom without neighbors\n",
      "[02:57:13] WARNING: not removing hydrogen atom without neighbors\n",
      "[02:57:13] WARNING: not removing hydrogen atom without neighbors\n",
      "[02:57:19] WARNING: not removing hydrogen atom without neighbors\n",
      "[02:57:19] WARNING: not removing hydrogen atom without neighbors\n",
      "[02:57:19] WARNING: not removing hydrogen atom without neighbors\n",
      "[02:57:19] WARNING: not removing hydrogen atom without neighbors\n",
      "[02:57:19] WARNING: not removing hydrogen atom without neighbors\n",
      "[02:57:21] WARNING: not removing hydrogen atom without neighbors\n",
      "[02:57:21] WARNING: not removing hydrogen atom without neighbors\n",
      "[02:57:21] WARNING: not removing hydrogen atom without neighbors\n",
      "[02:57:21] WARNING: not removing hydrogen atom without neighbors\n",
      "[02:57:21] WARNING: not removing hydrogen atom without neighbors\n"
     ]
    }
   ],
   "source": [
    "pipelines['GNB_pipeline'].fit(smiles_bbbp_train, y_train)\n",
    "y_pred = pipelines['GNB_pipeline'].predict(smiles_bbbp_test)\n",
    "y_proba = pipelines['GNB_pipeline'].predict_proba(smiles_bbbp_test) "
   ]
  },
  {
   "cell_type": "code",
   "execution_count": 53,
   "id": "020d225e",
   "metadata": {},
   "outputs": [
    {
     "name": "stdout",
     "output_type": "stream",
     "text": [
      "R2 score for Linear regression model: -1.0799\n",
      "Accuracy for Linear regression model: 0.4828\n",
      "ROC-AUC score for Linear regression model: 0.4579\n"
     ]
    }
   ],
   "source": [
    "calculate_scores(y_test, y_pred, y_proba)"
   ]
  },
  {
   "cell_type": "code",
   "execution_count": 56,
   "id": "2f5c86c3",
   "metadata": {},
   "outputs": [
    {
     "name": "stderr",
     "output_type": "stream",
     "text": [
      "[02:59:03] WARNING: not removing hydrogen atom without neighbors\n",
      "[02:59:03] WARNING: not removing hydrogen atom without neighbors\n",
      "[02:59:03] WARNING: not removing hydrogen atom without neighbors\n",
      "[02:59:03] WARNING: not removing hydrogen atom without neighbors\n",
      "[02:59:03] WARNING: not removing hydrogen atom without neighbors\n",
      "[02:59:03] WARNING: not removing hydrogen atom without neighbors\n",
      "[02:59:03] WARNING: not removing hydrogen atom without neighbors\n",
      "[02:59:03] WARNING: not removing hydrogen atom without neighbors\n",
      "[02:59:03] WARNING: not removing hydrogen atom without neighbors\n",
      "[02:59:03] WARNING: not removing hydrogen atom without neighbors\n",
      "[02:59:03] WARNING: not removing hydrogen atom without neighbors\n",
      "[02:59:03] WARNING: not removing hydrogen atom without neighbors\n",
      "[02:59:03] WARNING: not removing hydrogen atom without neighbors\n",
      "[02:59:03] WARNING: not removing hydrogen atom without neighbors\n",
      "[02:59:03] WARNING: not removing hydrogen atom without neighbors\n",
      "[02:59:03] WARNING: not removing hydrogen atom without neighbors\n",
      "[02:59:03] WARNING: not removing hydrogen atom without neighbors\n",
      "[02:59:03] WARNING: not removing hydrogen atom without neighbors\n",
      "[02:59:03] WARNING: not removing hydrogen atom without neighbors\n",
      "[02:59:03] WARNING: not removing hydrogen atom without neighbors\n",
      "[02:59:03] WARNING: not removing hydrogen atom without neighbors\n",
      "[02:59:03] WARNING: not removing hydrogen atom without neighbors\n",
      "[02:59:03] WARNING: not removing hydrogen atom without neighbors\n",
      "[02:59:03] WARNING: not removing hydrogen atom without neighbors\n",
      "[02:59:03] WARNING: not removing hydrogen atom without neighbors\n",
      "[02:59:03] WARNING: not removing hydrogen atom without neighbors\n",
      "[02:59:03] WARNING: not removing hydrogen atom without neighbors\n",
      "[02:59:03] WARNING: not removing hydrogen atom without neighbors\n",
      "[02:59:03] WARNING: not removing hydrogen atom without neighbors\n",
      "[02:59:03] WARNING: not removing hydrogen atom without neighbors\n",
      "[02:59:03] WARNING: not removing hydrogen atom without neighbors\n",
      "[02:59:03] WARNING: not removing hydrogen atom without neighbors\n",
      "[02:59:03] WARNING: not removing hydrogen atom without neighbors\n",
      "[02:59:03] WARNING: not removing hydrogen atom without neighbors\n",
      "[02:59:03] WARNING: not removing hydrogen atom without neighbors\n",
      "/home/adrian/anaconda3/envs/um-labs/lib/python3.12/site-packages/sklearn/neural_network/_multilayer_perceptron.py:545: ConvergenceWarning: lbfgs failed to converge (status=1):\n",
      "STOP: TOTAL NO. of ITERATIONS REACHED LIMIT.\n",
      "\n",
      "Increase the number of iterations (max_iter) or scale the data as shown in:\n",
      "    https://scikit-learn.org/stable/modules/preprocessing.html\n",
      "  self.n_iter_ = _check_optimize_result(\"lbfgs\", opt_res, self.max_iter)\n",
      "[02:59:43] WARNING: not removing hydrogen atom without neighbors\n",
      "[02:59:43] WARNING: not removing hydrogen atom without neighbors\n",
      "[02:59:43] WARNING: not removing hydrogen atom without neighbors\n",
      "[02:59:43] WARNING: not removing hydrogen atom without neighbors\n",
      "[02:59:43] WARNING: not removing hydrogen atom without neighbors\n",
      "[02:59:45] WARNING: not removing hydrogen atom without neighbors\n",
      "[02:59:45] WARNING: not removing hydrogen atom without neighbors\n",
      "[02:59:45] WARNING: not removing hydrogen atom without neighbors\n",
      "[02:59:45] WARNING: not removing hydrogen atom without neighbors\n",
      "[02:59:45] WARNING: not removing hydrogen atom without neighbors\n"
     ]
    }
   ],
   "source": [
    "pipelines['mlp_pipeline'].fit(smiles_bbbp_train, y_train)\n",
    "y_pred = pipelines['mlp_pipeline'].predict(smiles_bbbp_test)\n",
    "y_proba = pipelines['mlp_pipeline'].predict_proba(smiles_bbbp_test) "
   ]
  },
  {
   "cell_type": "code",
   "execution_count": 57,
   "id": "c8679d0e",
   "metadata": {},
   "outputs": [
    {
     "name": "stdout",
     "output_type": "stream",
     "text": [
      "R2 score for Linear regression model: -1.0306\n",
      "Accuracy for Linear regression model: 0.4951\n",
      "ROC-AUC score for Linear regression model: 0.4528\n"
     ]
    }
   ],
   "source": [
    "calculate_scores(y_test, y_pred, y_proba)"
   ]
  },
  {
   "cell_type": "markdown",
   "id": "68983643",
   "metadata": {},
   "source": [
    "## ESOL"
   ]
  },
  {
   "cell_type": "code",
   "execution_count": 66,
   "id": "7f157638",
   "metadata": {},
   "outputs": [],
   "source": [
    "smiles, labels = load_esol()"
   ]
  },
  {
   "cell_type": "code",
   "execution_count": 67,
   "id": "e4ee90a3",
   "metadata": {},
   "outputs": [
    {
     "name": "stdout",
     "output_type": "stream",
     "text": [
      "1128\n",
      "OCC3OC(OCC2OC(OC(C#N)c1ccccc1)C(O)C(O)C2O)C(O)C(O)C3O  -0.77\n",
      "Cc1occc1C(=O)Nc2ccccc2 -3.3\n"
     ]
    }
   ],
   "source": [
    "print(len(smiles))\n",
    "print(smiles[0], labels[0])\n",
    "print(smiles[1], labels[1])"
   ]
  },
  {
   "cell_type": "markdown",
   "id": "13848d56",
   "metadata": {},
   "source": [
    "## LIPOP"
   ]
  },
  {
   "cell_type": "code",
   "execution_count": 68,
   "id": "ee660e97",
   "metadata": {},
   "outputs": [],
   "source": [
    "smiles, labels = load_lipophilicity()"
   ]
  },
  {
   "cell_type": "code",
   "execution_count": 69,
   "id": "d373037f",
   "metadata": {},
   "outputs": [
    {
     "name": "stdout",
     "output_type": "stream",
     "text": [
      "4200\n",
      "Cn1c(CN2CCN(CC2)c3ccc(Cl)cc3)nc4ccccc14 3.54\n",
      "COc1cc(OC)c(cc1NC(=O)CSCC(=O)O)S(=O)(=O)N2C(C)CCc3ccccc23 -1.18\n"
     ]
    }
   ],
   "source": [
    "print(len(smiles))\n",
    "print(smiles[0], labels[0])\n",
    "print(smiles[1], labels[1])"
   ]
  },
  {
   "cell_type": "markdown",
   "id": "2846b357",
   "metadata": {},
   "source": [
    "## MUV"
   ]
  },
  {
   "cell_type": "code",
   "execution_count": 70,
   "id": "1be24ed3",
   "metadata": {},
   "outputs": [],
   "source": [
    "smiles, labels = load_muv()"
   ]
  },
  {
   "cell_type": "code",
   "execution_count": 71,
   "id": "04fa9c71",
   "metadata": {},
   "outputs": [
    {
     "name": "stdout",
     "output_type": "stream",
     "text": [
      "93087\n",
      "Cc1cccc(N2CCN(C(=O)C34CC5CC(CC(C5)C3)C4)CC2)c1C [nan nan nan nan nan nan nan  0. nan nan nan  0. nan nan nan nan nan]\n",
      "Cn1ccnc1SCC(=O)Nc1ccc(Oc2ccccc2)cc1 [ 0.  0. nan nan  0.  0.  0. nan nan nan  0. nan  0. nan nan  0.  0.]\n"
     ]
    }
   ],
   "source": [
    "print(len(smiles))\n",
    "print(smiles[0], labels[0])\n",
    "print(smiles[1], labels[1])"
   ]
  },
  {
   "cell_type": "markdown",
   "id": "14687f5a",
   "metadata": {},
   "source": [
    "## PCBA"
   ]
  },
  {
   "cell_type": "code",
   "execution_count": 72,
   "id": "43aee310",
   "metadata": {},
   "outputs": [],
   "source": [
    "smiles, labels = load_pcba()"
   ]
  },
  {
   "cell_type": "code",
   "execution_count": 73,
   "id": "6f2e0255",
   "metadata": {},
   "outputs": [
    {
     "name": "stdout",
     "output_type": "stream",
     "text": [
      "437929\n",
      "CC(=O)N1CCC2(CC1)NC(=O)N(c1ccccc1)N2 [ 0.  0. nan  0.  0.  0.  0.  0.  0.  0.  0.  0.  0.  0.  0.  0. nan  0.\n",
      "  0.  0. nan  0.  0.  0.  0.  0.  0.  0.  0.  0. nan  0.  0.  0.  0.  0.\n",
      "  0.  0.  0.  0.  0. nan  0.  0.  0. nan  0. nan  0.  0. nan  0.  0.  0.\n",
      "  0.  0.  0.  0. nan  0.  0.  0.  0.  0.  0.  0.  0.  0.  0.  0.  0.  0.\n",
      "  0.  0.  0.  0.  0.  0.  0.  0.  0.  0.  0. nan  0.  0.  0. nan  0.  0.\n",
      "  0.  0.  1. nan  0.  0. nan  0.  0.  0.  0.  0.  0.  0.  0.  0.  0.  0.\n",
      " nan nan nan nan nan nan nan nan nan nan nan nan nan nan nan nan nan nan\n",
      " nan nan]\n",
      "N#Cc1nnn(-c2ccc(Cl)cc2)c1N [ 0.  0. nan  0.  0. nan  0.  0.  0.  0.  0.  0.  0.  0.  0.  0.  0.  0.\n",
      "  0.  0.  0.  0.  0.  0.  0.  0.  0.  0.  0.  0. nan  0.  0.  0.  0.  0.\n",
      "  0.  0.  0.  0.  0.  0.  0.  0.  0. nan  0.  0.  0.  0.  0.  0.  0.  0.\n",
      "  0.  0.  0.  0. nan  0.  0.  0.  0.  0.  0.  0.  0.  0.  0.  0.  0.  0.\n",
      "  0.  0.  0.  0.  0.  0.  0.  0.  0.  0.  0.  0.  0.  0.  0.  0.  0.  0.\n",
      "  0.  0.  0.  0.  0.  0. nan  0.  0.  0. nan nan  0.  0.  0.  0.  0.  0.\n",
      " nan nan nan nan nan nan nan nan nan nan nan nan nan nan nan nan nan nan\n",
      " nan nan]\n"
     ]
    }
   ],
   "source": [
    "print(len(smiles))\n",
    "print(smiles[0], labels[0])\n",
    "print(smiles[1], labels[1])"
   ]
  },
  {
   "cell_type": "markdown",
   "id": "1b046baf",
   "metadata": {},
   "source": [
    "## TOX21"
   ]
  },
  {
   "cell_type": "code",
   "execution_count": 74,
   "id": "57213c2a",
   "metadata": {},
   "outputs": [],
   "source": [
    "smiles, labels = load_tox21()"
   ]
  },
  {
   "cell_type": "code",
   "execution_count": 75,
   "id": "0c3af677",
   "metadata": {},
   "outputs": [
    {
     "name": "stdout",
     "output_type": "stream",
     "text": [
      "7831\n",
      "CCOc1ccc2nc(S(N)(=O)=O)sc2c1 [ 0.  0.  1. nan nan  0.  0.  1.  0.  0.  0.  0.]\n",
      "CCN1C(=O)NC(c2ccccc2)C1=O [ 0.  0.  0.  0.  0.  0.  0. nan  0. nan  0.  0.]\n"
     ]
    }
   ],
   "source": [
    "print(len(smiles))\n",
    "print(smiles[0], labels[0])\n",
    "print(smiles[1], labels[1])"
   ]
  },
  {
   "cell_type": "markdown",
   "id": "18f3c104",
   "metadata": {},
   "source": [
    "## TOXCAST"
   ]
  },
  {
   "cell_type": "code",
   "execution_count": 76,
   "id": "0dd7d6ed",
   "metadata": {},
   "outputs": [],
   "source": [
    "smiles, labels = load_toxcast()"
   ]
  },
  {
   "cell_type": "code",
   "execution_count": 77,
   "id": "dc95fb03",
   "metadata": {},
   "outputs": [
    {
     "name": "stdout",
     "output_type": "stream",
     "text": [
      "8576\n",
      "[O-][N+](=O)C1=CC=C(Cl)C=C1 [ 0.  0. nan nan nan nan nan nan nan nan nan nan nan nan nan nan nan nan\n",
      " nan nan nan nan nan nan nan nan nan nan nan nan nan nan nan nan nan nan\n",
      " nan nan nan nan nan nan nan nan nan  0.  0.  0.  0.  0.  0.  0.  0.  0.\n",
      "  0.  0.  0.  0.  0.  0.  0.  0.  0.  0.  0.  0.  0.  0.  0.  0.  0.  0.\n",
      "  0.  0.  0.  0.  0.  0.  0.  0.  0.  0.  0.  0.  0.  0.  0.  0.  0.  0.\n",
      "  0.  0.  0.  0.  0.  0.  0.  0.  0.  0.  0.  0.  0.  0.  0.  0.  0.  0.\n",
      "  0.  0.  0.  0.  0.  0.  0.  0.  0.  0.  0.  0.  0.  0.  0.  0.  0.  0.\n",
      "  0.  0.  0.  0.  0.  0.  0.  0.  0.  0.  0.  0.  1.  0.  0.  0.  0.  0.\n",
      "  0.  0.  0.  0.  0.  0.  0.  0.  0.  0.  0.  0.  0.  0.  0.  0.  0.  0.\n",
      "  0.  0.  0.  0.  0.  0.  0.  0.  0.  0.  0.  0.  0.  0.  0.  0.  0.  0.\n",
      "  0.  0.  0.  0.  0.  0.  0.  0.  0.  0.  0.  0.  0.  0.  0.  0.  0.  0.\n",
      "  0.  0.  0.  0.  0.  0.  0.  0.  0.  0.  0.  0.  0.  0.  0.  0.  0.  0.\n",
      "  0.  0.  0.  0.  0.  0.  0.  0.  0.  0.  0.  0.  0.  0.  0.  0.  0.  0.\n",
      "  0.  0.  0.  0.  0.  0.  0.  0.  0.  0.  0.  0.  0.  0.  0.  0.  0.  0.\n",
      "  0.  0.  0.  0.  0.  0.  0.  0.  0.  0.  0.  0.  0.  0.  0.  0.  0.  0.\n",
      "  0.  0.  0.  0.  0.  0.  0.  0.  0.  0.  0.  0.  0.  0.  0.  0.  0.  0.\n",
      "  0.  0.  0.  0.  0.  0.  0.  0.  0.  0.  0.  0.  0.  0.  0.  0.  0.  0.\n",
      " nan nan nan nan nan nan nan nan nan nan nan nan nan nan nan nan nan nan\n",
      " nan nan nan nan nan nan nan nan nan nan nan nan nan nan nan nan nan nan\n",
      " nan nan nan nan nan nan nan nan nan nan nan nan nan nan nan  0.  0. nan\n",
      " nan  0. nan nan nan  0. nan nan nan nan nan nan nan  0. nan  1.  0. nan\n",
      "  1. nan  0. nan nan nan nan nan  0. nan  1. nan  0. nan nan nan nan nan\n",
      " nan nan nan nan nan nan nan nan nan nan nan nan nan nan nan nan nan nan\n",
      " nan nan nan nan nan nan nan nan nan nan nan nan nan nan nan nan nan nan\n",
      " nan nan nan nan nan nan nan nan nan nan nan nan nan nan nan nan nan nan\n",
      " nan nan nan nan nan nan nan nan nan  0. nan nan  0. nan nan nan  0. nan\n",
      " nan nan  0. nan nan nan nan nan nan nan nan  0. nan nan nan nan  0.  0.\n",
      "  0.  0.  0.  0.  0.  0.  0.  0.  0.  0.  0.  0.  0.  0.  0.  0.  0.  0.\n",
      "  0.  0.  0.  0.  0.  0.  0.  0.  0.  0.  0.  0.  0.  0.  0.  0.  0.  0.\n",
      "  0.  0.  0.  0.  0.  0.  0.  0.  0.  0.  0.  0.  0.  0.  0.  0.  0.  0.\n",
      "  0.  0.  0.  0.  0.  0.  0.  0.  0.  0.  0.  0.  0.  0.  0.  0.  0.  0.\n",
      "  0.  0.  0.  0.  0.  0.  0.  0.  0.  0.  0.  0.  0.  0.  0.  0.  0.  0.\n",
      "  0.  0.  0.  0.  0.  0.  0.  0.  1.  0.  1.  0.  0.  0.  0.  0.  0.  0.\n",
      "  0.  0.  0.  0.  0.  0.  0.  0.  0.  0.  0.  0.  0.  0.  0.  0.  0.  0.\n",
      "  0.  0.  0.  0.  0.]\n",
      "C[SiH](C)O[Si](C)(C)O[Si](C)(C)O[SiH](C)C [nan nan nan nan nan nan nan nan nan nan nan nan nan nan nan nan nan nan\n",
      " nan nan nan nan nan nan nan nan nan nan nan nan nan nan nan nan nan nan\n",
      " nan nan nan nan nan nan nan nan nan nan nan nan nan nan nan nan nan nan\n",
      " nan nan nan nan nan nan nan nan nan nan nan nan nan nan nan nan nan nan\n",
      " nan nan nan nan nan nan nan nan nan nan nan nan nan nan nan nan nan nan\n",
      " nan nan nan nan nan nan nan nan nan nan nan nan nan nan nan nan nan nan\n",
      " nan nan nan nan nan nan nan nan nan nan nan nan nan nan nan nan nan nan\n",
      " nan nan nan nan nan nan nan nan nan nan nan nan nan nan nan nan nan nan\n",
      " nan nan nan nan nan nan nan nan nan nan nan nan nan nan nan nan nan nan\n",
      " nan nan nan nan nan nan nan nan nan nan nan nan nan nan nan nan nan nan\n",
      " nan nan nan nan nan nan nan nan nan nan nan nan nan nan nan nan nan nan\n",
      " nan nan nan nan nan nan nan nan nan nan nan nan nan nan nan nan nan nan\n",
      " nan nan nan nan nan nan nan nan nan nan nan nan nan nan nan nan nan nan\n",
      " nan nan nan nan nan nan nan nan nan nan nan nan nan nan nan nan nan nan\n",
      " nan nan nan nan nan nan nan nan nan nan nan nan nan nan nan nan nan nan\n",
      " nan nan nan nan nan nan nan nan nan nan nan nan nan nan nan nan nan nan\n",
      " nan nan nan nan nan nan nan nan nan nan nan nan nan nan nan nan nan nan\n",
      " nan nan nan nan nan nan nan nan nan nan nan nan nan nan nan nan nan nan\n",
      " nan nan nan nan nan nan nan nan nan nan nan nan nan nan nan nan nan nan\n",
      " nan nan nan nan nan nan nan nan nan nan nan nan nan nan nan nan nan nan\n",
      " nan nan nan nan nan nan nan nan nan nan nan nan nan nan nan nan nan nan\n",
      " nan nan nan nan nan nan nan nan nan nan nan nan nan nan nan nan nan nan\n",
      " nan nan nan nan nan nan nan nan nan nan nan nan nan nan nan nan nan nan\n",
      " nan nan nan nan nan nan nan nan nan nan nan nan nan nan nan nan nan nan\n",
      " nan nan nan nan nan nan nan nan nan nan nan nan nan nan nan nan nan nan\n",
      " nan nan nan nan nan nan nan nan nan nan nan nan nan nan nan nan nan nan\n",
      " nan nan nan nan nan nan nan nan nan nan nan nan nan nan nan nan nan nan\n",
      " nan nan nan nan nan nan nan nan nan nan nan nan nan  0.  0.  0.  0.  0.\n",
      "  0.  0.  0.  0.  0.  0.  0.  0.  0.  0.  0.  0.  0.  0.  0.  0.  0.  0.\n",
      "  0.  0.  0.  0.  0.  0.  0.  0.  0.  0.  0.  0.  0.  0.  0.  0.  0.  0.\n",
      "  0.  0.  0.  0.  0.  0.  0.  0.  0.  0.  0.  0.  0.  0.  0.  0.  0.  0.\n",
      "  0.  0.  0.  0.  0.  0.  0.  0.  0.  0.  0.  0.  0.  0.  0.  0.  0.  0.\n",
      "  0.  0.  0.  0.  0.  0.  0.  0.  0.  0.  0.  0.  0.  0.  0.  0.  0.  0.\n",
      "  0.  0.  0.  0.  0. nan nan nan nan nan nan nan nan nan nan nan nan nan\n",
      " nan nan nan nan nan]\n"
     ]
    }
   ],
   "source": [
    "print(len(smiles))\n",
    "print(smiles[0], labels[0])\n",
    "print(smiles[1], labels[1])"
   ]
  },
  {
   "cell_type": "code",
   "execution_count": null,
   "id": "ad581e37",
   "metadata": {},
   "outputs": [],
   "source": []
  }
 ],
 "metadata": {
  "kernelspec": {
   "display_name": "Python 3 (ipykernel)",
   "language": "python",
   "name": "python3"
  },
  "language_info": {
   "codemirror_mode": {
    "name": "ipython",
    "version": 3
   },
   "file_extension": ".py",
   "mimetype": "text/x-python",
   "name": "python",
   "nbconvert_exporter": "python",
   "pygments_lexer": "ipython3",
   "version": "3.12.1"
  }
 },
 "nbformat": 4,
 "nbformat_minor": 5
}
