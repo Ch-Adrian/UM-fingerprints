{
 "cells": [
  {
   "cell_type": "code",
   "execution_count": 2,
   "id": "084f550f-f817-45ae-89b0-ed6fbeba6222",
   "metadata": {},
   "outputs": [
    {
     "name": "stderr",
     "output_type": "stream",
     "text": [
      "/home/adrian/dev/UM-fingerprints/.venv/lib64/python3.12/site-packages/tqdm/auto.py:21: TqdmWarning: IProgress not found. Please update jupyter and ipywidgets. See https://ipywidgets.readthedocs.io/en/stable/user_install.html\n",
      "  from .autonotebook import tqdm as notebook_tqdm\n",
      "<frozen importlib._bootstrap>:488: RuntimeWarning: to-Python converter for boost::shared_ptr<RDKit::FilterMatcherBase> already registered; second conversion method ignored.\n",
      "2024-12-09 11:34:14.202643: I external/local_xla/xla/tsl/cuda/cudart_stub.cc:32] Could not find cuda drivers on your machine, GPU will not be used.\n",
      "2024-12-09 11:34:14.309667: I external/local_xla/xla/tsl/cuda/cudart_stub.cc:32] Could not find cuda drivers on your machine, GPU will not be used.\n",
      "2024-12-09 11:34:14.375081: E external/local_xla/xla/stream_executor/cuda/cuda_fft.cc:477] Unable to register cuFFT factory: Attempting to register factory for plugin cuFFT when one has already been registered\n",
      "WARNING: All log messages before absl::InitializeLog() is called are written to STDERR\n",
      "E0000 00:00:1733740454.548801    5637 cuda_dnn.cc:8310] Unable to register cuDNN factory: Attempting to register factory for plugin cuDNN when one has already been registered\n",
      "E0000 00:00:1733740454.611885    5637 cuda_blas.cc:1418] Unable to register cuBLAS factory: Attempting to register factory for plugin cuBLAS when one has already been registered\n",
      "2024-12-09 11:34:14.917756: I tensorflow/core/platform/cpu_feature_guard.cc:210] This TensorFlow binary is optimized to use available CPU instructions in performance-critical operations.\n",
      "To enable the following instructions: AVX2 FMA, in other operations, rebuild TensorFlow with the appropriate compiler flags.\n"
     ]
    },
    {
     "name": "stdout",
     "output_type": "stream",
     "text": [
      "WARNING:tensorflow:From /home/adrian/dev/UM-fingerprints/.venv/lib64/python3.12/site-packages/tensorflow/python/util/deprecation.py:588: calling function (from tensorflow.python.eager.polymorphic_function.polymorphic_function) with experimental_relax_shapes is deprecated and will be removed in a future version.\n",
      "Instructions for updating:\n",
      "experimental_relax_shapes is deprecated, use reduce_retracing instead\n"
     ]
    }
   ],
   "source": [
    "from skfp.datasets.moleculenet import load_bace, load_bbbp, load_clintox, load_muv, load_pcba, load_tox21, load_toxcast\n",
    "from skfp.model_selection import scaffold_train_test_split, butina_train_test_split#, maxmin_train_test_split, randomized_scaffold_train_test_split\n",
    "from skfp.fingerprints import ECFPFingerprint, MACCSFingerprint, RDKitFingerprint\n",
    "from skfp.preprocessing import MolFromSmilesTransformer\n",
    "from skfp.filters import BeyondRo5Filter, BMSFilter, BrenkFilter, FAF4DruglikeFilter, FAF4LeadlikeFilter, GhoseFilter, GlaxoFilter, GSKFilter\n",
    "from skfp.filters import HaoFilter, InpharmaticaFilter, LINTFilter, LipinskiFilter, MLSMRFilter, MolecularWeightFilter, NIBRFilter, NIHFilter\n",
    "from skfp.filters import OpreaFilter, PAINSFilter, PfizerFilter, REOSFilter, RuleOfFourFilter, RuleOfThreeFilter, RuleOfTwoFilter, RuleOfVeberFilter\n",
    "from skfp.filters import RuleOfXuFilter, SureChEMBLFilter, TiceHerbicidesFilter, TiceInsecticidesFilter, ValenceDiscoveryFilter, ZINCBasicFilter, ZINCDruglikeFilter\n",
    "\n",
    "from sklearn.ensemble import RandomForestClassifier, GradientBoostingClassifier\n",
    "from sklearn.linear_model import LogisticRegression\n",
    "from sklearn.pipeline import make_pipeline, make_union\n",
    "from sklearn.metrics import accuracy_score, classification_report, roc_auc_score, confusion_matrix, r2_score\n",
    "from sklearn.neighbors import KNeighborsClassifier\n",
    "from sklearn import svm\n",
    "from sklearn.naive_bayes import GaussianNB\n",
    "from sklearn import tree\n",
    "from sklearn.neural_network import MLPClassifier\n",
    "\n",
    "import numpy as np\n",
    "\n",
    "from deepchem.feat.smiles_tokenizer import SmilesTokenizer"
   ]
  },
  {
   "cell_type": "code",
   "execution_count": 3,
   "id": "e9ba70ac",
   "metadata": {},
   "outputs": [],
   "source": [
    "# SMILEs tokenizer\n",
    "#tokenizer = SmilesTokenizer(\"./vocab.txt\")\n",
    "#print(tokenizer.encode(\"CC(=O)OC1=CC=CC=C1C(=O)O\"))"
   ]
  },
  {
   "cell_type": "code",
   "execution_count": 4,
   "id": "e8f05a96",
   "metadata": {},
   "outputs": [],
   "source": [
    "\n",
    "# model for classification\n",
    "models = [\n",
    "    LogisticRegression(),\n",
    "    KNeighborsClassifier(),\n",
    "    GaussianNB(),\n",
    "    tree.DecisionTreeClassifier(),\n",
    "    RandomForestClassifier(),\n",
    "    GradientBoostingClassifier(),\n",
    "    MLPClassifier(solver='lbfgs', alpha=1e-5, hidden_layer_sizes=(5, 2), random_state=1),\n",
    "    svm.SVC(probability=True),\n",
    "    # svm.SVR(kernel='linear'),\n",
    "    # svm.SVR(kernel='poly'),\n",
    "    # svm.SVR(kernel='rbf'),\n",
    "    # svm.SVR(kernel='sigmoid'),\n",
    "]"
   ]
  },
  {
   "cell_type": "code",
   "execution_count": 5,
   "id": "b647a011",
   "metadata": {},
   "outputs": [],
   "source": [
    "fingerprints = [\n",
    "    ECFPFingerprint(),\n",
    "    MACCSFingerprint(),\n",
    "    RDKitFingerprint(),\n",
    "    BeyondRo5Filter(),\n",
    "]\n",
    "\n",
    "filters = [\n",
    "    BeyondRo5Filter, BMSFilter, BrenkFilter, FAF4DruglikeFilter, FAF4LeadlikeFilter, GhoseFilter, GlaxoFilter, GSKFilter,\n",
    "    HaoFilter, InpharmaticaFilter, LINTFilter, LipinskiFilter, MLSMRFilter, MolecularWeightFilter, NIBRFilter, NIHFilter,\n",
    "    OpreaFilter, PAINSFilter, PfizerFilter, REOSFilter, RuleOfFourFilter, RuleOfThreeFilter, RuleOfTwoFilter, RuleOfVeberFilter,\n",
    "    RuleOfXuFilter, SureChEMBLFilter, TiceHerbicidesFilter, TiceInsecticidesFilter, ValenceDiscoveryFilter, ZINCBasicFilter, ZINCDruglikeFilter\n",
    "]\n",
    "\n",
    "filter_names = []\n",
    "\n",
    "for filter in filters:\n",
    "    filter_names.append(filter.__name__)"
   ]
  },
  {
   "cell_type": "code",
   "execution_count": 6,
   "id": "9c9ee1df",
   "metadata": {},
   "outputs": [],
   "source": [
    "pipelines = {\n",
    "    \"baseline_pipeline\": make_pipeline(MolFromSmilesTransformer(), make_union(ECFPFingerprint(count=True), MACCSFingerprint()), LogisticRegression(max_iter=1000)),\n",
    "    \"rf_pipeline\": make_pipeline(MolFromSmilesTransformer(), make_union(ECFPFingerprint(count=True), MACCSFingerprint(), RDKitFingerprint()), RandomForestClassifier(random_state=41, class_weight='balanced')),\n",
    "    \"gb_pipeline\": make_pipeline(MolFromSmilesTransformer(), make_union(ECFPFingerprint(count=True), MACCSFingerprint(), RDKitFingerprint()), GradientBoostingClassifier()),\n",
    "    \"knc_pipeline\": make_pipeline(MolFromSmilesTransformer(), make_union(ECFPFingerprint(count=True), MACCSFingerprint(), RDKitFingerprint()), models[1]),\n",
    "    \"svm_pipeline\": make_pipeline(MolFromSmilesTransformer(), make_union(ECFPFingerprint(count=True), MACCSFingerprint(), RDKitFingerprint()), models[7]),\n",
    "    \"GNB_pipeline\": make_pipeline(MolFromSmilesTransformer(), make_union(ECFPFingerprint(count=True), MACCSFingerprint(), RDKitFingerprint()), models[2]),\n",
    "    \"mlp_pipeline\": make_pipeline(MolFromSmilesTransformer(), make_union(ECFPFingerprint(count=True), MACCSFingerprint(), RDKitFingerprint()), models[6]),\n",
    "}"
   ]
  },
  {
   "cell_type": "code",
   "execution_count": null,
   "id": "b2e05f78",
   "metadata": {},
   "outputs": [],
   "source": [
    "def calculate_scores(y_test, y_pred, y_proba):\n",
    "    r2score = r2_score(y_test, y_pred)\n",
    "    print(f\"R2 score for Linear regression model: {r2score:.4f}\")\n",
    "\n",
    "    accuracy = accuracy_score(y_test, y_pred)\n",
    "    print(f\"Accuracy for Linear regression model: {accuracy:.4f}\")\n",
    "\n",
    "    roc_auc = roc_auc_score(y_test, y_proba[:, 1])\n",
    "    print(f\"ROC-AUC score for Linear regression model: {roc_auc:.4f}\")\n",
    "    return roc_auc"
   ]
  },
  {
   "cell_type": "markdown",
   "id": "24d5189f",
   "metadata": {},
   "source": [
    "## Applied filters"
   ]
  },
  {
   "cell_type": "code",
   "execution_count": 19,
   "id": "e0e8abd6",
   "metadata": {},
   "outputs": [
    {
     "name": "stdout",
     "output_type": "stream",
     "text": [
      "303\n",
      "1198 300 1198 300\n",
      "Baseline: \n",
      "303 303 303\n",
      "R2 score for Linear regression model: -0.1929\n",
      "Accuracy for Linear regression model: 0.7096\n",
      "ROC-AUC score for Linear regression model: 0.7980\n",
      "Filtered: \n",
      "300 300 300\n",
      "R2 score for Linear regression model: -0.1364\n",
      "Accuracy for Linear regression model: 0.7200\n",
      "ROC-AUC score for Linear regression model: 0.8042\n",
      "Mixed: \n",
      "R2 score for Linear regression model: -0.1929\n",
      "Accuracy for Linear regression model: 0.7096\n",
      "ROC-AUC score for Linear regression model: 0.7951\n",
      "Rest: \n"
     ]
    },
    {
     "ename": "ValueError",
     "evalue": "Found input variables with inconsistent numbers of samples: [303, 15]",
     "output_type": "error",
     "traceback": [
      "\u001b[0;31m---------------------------------------------------------------------------\u001b[0m",
      "\u001b[0;31mValueError\u001b[0m                                Traceback (most recent call last)",
      "Cell \u001b[0;32mIn[19], line 53\u001b[0m\n\u001b[1;32m     50\u001b[0m y_proba_rest \u001b[38;5;241m=\u001b[39m pipelines[\u001b[38;5;124m'\u001b[39m\u001b[38;5;124mbaseline_pipeline\u001b[39m\u001b[38;5;124m'\u001b[39m]\u001b[38;5;241m.\u001b[39mpredict_proba(rest_mols)\n\u001b[1;32m     52\u001b[0m \u001b[38;5;28mprint\u001b[39m(\u001b[38;5;124m\"\u001b[39m\u001b[38;5;124mRest: \u001b[39m\u001b[38;5;124m\"\u001b[39m)\n\u001b[0;32m---> 53\u001b[0m roc_auc_mixed \u001b[38;5;241m=\u001b[39m \u001b[43mcalculate_scores\u001b[49m\u001b[43m(\u001b[49m\u001b[43my_test\u001b[49m\u001b[43m,\u001b[49m\u001b[43m \u001b[49m\u001b[43my_pred_rest\u001b[49m\u001b[43m,\u001b[49m\u001b[43m \u001b[49m\u001b[43my_proba_rest\u001b[49m\u001b[43m)\u001b[49m\n",
      "Cell \u001b[0;32mIn[7], line 2\u001b[0m, in \u001b[0;36mcalculate_scores\u001b[0;34m(y_test, y_pred, y_proba)\u001b[0m\n\u001b[1;32m      1\u001b[0m \u001b[38;5;28;01mdef\u001b[39;00m \u001b[38;5;21mcalculate_scores\u001b[39m(y_test, y_pred, y_proba):\n\u001b[0;32m----> 2\u001b[0m     r2score \u001b[38;5;241m=\u001b[39m \u001b[43mr2_score\u001b[49m\u001b[43m(\u001b[49m\u001b[43my_test\u001b[49m\u001b[43m,\u001b[49m\u001b[43m \u001b[49m\u001b[43my_pred\u001b[49m\u001b[43m)\u001b[49m\n\u001b[1;32m      3\u001b[0m     \u001b[38;5;28mprint\u001b[39m(\u001b[38;5;124mf\u001b[39m\u001b[38;5;124m\"\u001b[39m\u001b[38;5;124mR2 score for Linear regression model: \u001b[39m\u001b[38;5;132;01m{\u001b[39;00mr2score\u001b[38;5;132;01m:\u001b[39;00m\u001b[38;5;124m.4f\u001b[39m\u001b[38;5;132;01m}\u001b[39;00m\u001b[38;5;124m\"\u001b[39m)\n\u001b[1;32m      5\u001b[0m     accuracy \u001b[38;5;241m=\u001b[39m accuracy_score(y_test, y_pred)\n",
      "File \u001b[0;32m~/dev/UM-fingerprints/.venv/lib64/python3.12/site-packages/sklearn/utils/_param_validation.py:213\u001b[0m, in \u001b[0;36mvalidate_params.<locals>.decorator.<locals>.wrapper\u001b[0;34m(*args, **kwargs)\u001b[0m\n\u001b[1;32m    207\u001b[0m \u001b[38;5;28;01mtry\u001b[39;00m:\n\u001b[1;32m    208\u001b[0m     \u001b[38;5;28;01mwith\u001b[39;00m config_context(\n\u001b[1;32m    209\u001b[0m         skip_parameter_validation\u001b[38;5;241m=\u001b[39m(\n\u001b[1;32m    210\u001b[0m             prefer_skip_nested_validation \u001b[38;5;129;01mor\u001b[39;00m global_skip_validation\n\u001b[1;32m    211\u001b[0m         )\n\u001b[1;32m    212\u001b[0m     ):\n\u001b[0;32m--> 213\u001b[0m         \u001b[38;5;28;01mreturn\u001b[39;00m \u001b[43mfunc\u001b[49m\u001b[43m(\u001b[49m\u001b[38;5;241;43m*\u001b[39;49m\u001b[43margs\u001b[49m\u001b[43m,\u001b[49m\u001b[43m \u001b[49m\u001b[38;5;241;43m*\u001b[39;49m\u001b[38;5;241;43m*\u001b[39;49m\u001b[43mkwargs\u001b[49m\u001b[43m)\u001b[49m\n\u001b[1;32m    214\u001b[0m \u001b[38;5;28;01mexcept\u001b[39;00m InvalidParameterError \u001b[38;5;28;01mas\u001b[39;00m e:\n\u001b[1;32m    215\u001b[0m     \u001b[38;5;66;03m# When the function is just a wrapper around an estimator, we allow\u001b[39;00m\n\u001b[1;32m    216\u001b[0m     \u001b[38;5;66;03m# the function to delegate validation to the estimator, but we replace\u001b[39;00m\n\u001b[1;32m    217\u001b[0m     \u001b[38;5;66;03m# the name of the estimator by the name of the function in the error\u001b[39;00m\n\u001b[1;32m    218\u001b[0m     \u001b[38;5;66;03m# message to avoid confusion.\u001b[39;00m\n\u001b[1;32m    219\u001b[0m     msg \u001b[38;5;241m=\u001b[39m re\u001b[38;5;241m.\u001b[39msub(\n\u001b[1;32m    220\u001b[0m         \u001b[38;5;124mr\u001b[39m\u001b[38;5;124m\"\u001b[39m\u001b[38;5;124mparameter of \u001b[39m\u001b[38;5;124m\\\u001b[39m\u001b[38;5;124mw+ must be\u001b[39m\u001b[38;5;124m\"\u001b[39m,\n\u001b[1;32m    221\u001b[0m         \u001b[38;5;124mf\u001b[39m\u001b[38;5;124m\"\u001b[39m\u001b[38;5;124mparameter of \u001b[39m\u001b[38;5;132;01m{\u001b[39;00mfunc\u001b[38;5;241m.\u001b[39m\u001b[38;5;18m__qualname__\u001b[39m\u001b[38;5;132;01m}\u001b[39;00m\u001b[38;5;124m must be\u001b[39m\u001b[38;5;124m\"\u001b[39m,\n\u001b[1;32m    222\u001b[0m         \u001b[38;5;28mstr\u001b[39m(e),\n\u001b[1;32m    223\u001b[0m     )\n",
      "File \u001b[0;32m~/dev/UM-fingerprints/.venv/lib64/python3.12/site-packages/sklearn/metrics/_regression.py:1204\u001b[0m, in \u001b[0;36mr2_score\u001b[0;34m(y_true, y_pred, sample_weight, multioutput, force_finite)\u001b[0m\n\u001b[1;32m   1198\u001b[0m xp, _, device_ \u001b[38;5;241m=\u001b[39m get_namespace_and_device(\n\u001b[1;32m   1199\u001b[0m     y_true, y_pred, sample_weight, multioutput\n\u001b[1;32m   1200\u001b[0m )\n\u001b[1;32m   1202\u001b[0m dtype \u001b[38;5;241m=\u001b[39m _find_matching_floating_dtype(y_true, y_pred, sample_weight, xp\u001b[38;5;241m=\u001b[39mxp)\n\u001b[0;32m-> 1204\u001b[0m _, y_true, y_pred, multioutput \u001b[38;5;241m=\u001b[39m \u001b[43m_check_reg_targets\u001b[49m\u001b[43m(\u001b[49m\n\u001b[1;32m   1205\u001b[0m \u001b[43m    \u001b[49m\u001b[43my_true\u001b[49m\u001b[43m,\u001b[49m\u001b[43m \u001b[49m\u001b[43my_pred\u001b[49m\u001b[43m,\u001b[49m\u001b[43m \u001b[49m\u001b[43mmultioutput\u001b[49m\u001b[43m,\u001b[49m\u001b[43m \u001b[49m\u001b[43mdtype\u001b[49m\u001b[38;5;241;43m=\u001b[39;49m\u001b[43mdtype\u001b[49m\u001b[43m,\u001b[49m\u001b[43m \u001b[49m\u001b[43mxp\u001b[49m\u001b[38;5;241;43m=\u001b[39;49m\u001b[43mxp\u001b[49m\n\u001b[1;32m   1206\u001b[0m \u001b[43m\u001b[49m\u001b[43m)\u001b[49m\n\u001b[1;32m   1207\u001b[0m check_consistent_length(y_true, y_pred, sample_weight)\n\u001b[1;32m   1209\u001b[0m \u001b[38;5;28;01mif\u001b[39;00m _num_samples(y_pred) \u001b[38;5;241m<\u001b[39m \u001b[38;5;241m2\u001b[39m:\n",
      "File \u001b[0;32m~/dev/UM-fingerprints/.venv/lib64/python3.12/site-packages/sklearn/metrics/_regression.py:111\u001b[0m, in \u001b[0;36m_check_reg_targets\u001b[0;34m(y_true, y_pred, multioutput, dtype, xp)\u001b[0m\n\u001b[1;32m     76\u001b[0m \u001b[38;5;250m\u001b[39m\u001b[38;5;124;03m\"\"\"Check that y_true and y_pred belong to the same regression task.\u001b[39;00m\n\u001b[1;32m     77\u001b[0m \n\u001b[1;32m     78\u001b[0m \u001b[38;5;124;03mParameters\u001b[39;00m\n\u001b[0;32m   (...)\u001b[0m\n\u001b[1;32m    107\u001b[0m \u001b[38;5;124;03m    correct keyword.\u001b[39;00m\n\u001b[1;32m    108\u001b[0m \u001b[38;5;124;03m\"\"\"\u001b[39;00m\n\u001b[1;32m    109\u001b[0m xp, _ \u001b[38;5;241m=\u001b[39m get_namespace(y_true, y_pred, multioutput, xp\u001b[38;5;241m=\u001b[39mxp)\n\u001b[0;32m--> 111\u001b[0m \u001b[43mcheck_consistent_length\u001b[49m\u001b[43m(\u001b[49m\u001b[43my_true\u001b[49m\u001b[43m,\u001b[49m\u001b[43m \u001b[49m\u001b[43my_pred\u001b[49m\u001b[43m)\u001b[49m\n\u001b[1;32m    112\u001b[0m y_true \u001b[38;5;241m=\u001b[39m check_array(y_true, ensure_2d\u001b[38;5;241m=\u001b[39m\u001b[38;5;28;01mFalse\u001b[39;00m, dtype\u001b[38;5;241m=\u001b[39mdtype)\n\u001b[1;32m    113\u001b[0m y_pred \u001b[38;5;241m=\u001b[39m check_array(y_pred, ensure_2d\u001b[38;5;241m=\u001b[39m\u001b[38;5;28;01mFalse\u001b[39;00m, dtype\u001b[38;5;241m=\u001b[39mdtype)\n",
      "File \u001b[0;32m~/dev/UM-fingerprints/.venv/lib64/python3.12/site-packages/sklearn/utils/validation.py:457\u001b[0m, in \u001b[0;36mcheck_consistent_length\u001b[0;34m(*arrays)\u001b[0m\n\u001b[1;32m    455\u001b[0m uniques \u001b[38;5;241m=\u001b[39m np\u001b[38;5;241m.\u001b[39munique(lengths)\n\u001b[1;32m    456\u001b[0m \u001b[38;5;28;01mif\u001b[39;00m \u001b[38;5;28mlen\u001b[39m(uniques) \u001b[38;5;241m>\u001b[39m \u001b[38;5;241m1\u001b[39m:\n\u001b[0;32m--> 457\u001b[0m     \u001b[38;5;28;01mraise\u001b[39;00m \u001b[38;5;167;01mValueError\u001b[39;00m(\n\u001b[1;32m    458\u001b[0m         \u001b[38;5;124m\"\u001b[39m\u001b[38;5;124mFound input variables with inconsistent numbers of samples: \u001b[39m\u001b[38;5;132;01m%r\u001b[39;00m\u001b[38;5;124m\"\u001b[39m\n\u001b[1;32m    459\u001b[0m         \u001b[38;5;241m%\u001b[39m [\u001b[38;5;28mint\u001b[39m(l) \u001b[38;5;28;01mfor\u001b[39;00m l \u001b[38;5;129;01min\u001b[39;00m lengths]\n\u001b[1;32m    460\u001b[0m     )\n",
      "\u001b[0;31mValueError\u001b[0m: Found input variables with inconsistent numbers of samples: [303, 15]"
     ]
    }
   ],
   "source": [
    "smiles_bace, labels_bace = load_bace()\n",
    "smiles_bace_train, smiles_bace_test, y_train, y_test = scaffold_train_test_split(\n",
    "    smiles_bace, labels_bace, test_size=0.2\n",
    ")\n",
    "\n",
    "pipelines['baseline_pipeline'].fit(smiles_bace_train, y_train)\n",
    "y_pred = pipelines['baseline_pipeline'].predict(smiles_bace_test)\n",
    "y_proba = pipelines['baseline_pipeline'].predict_proba(smiles_bace_test)\n",
    "print(len(smiles_bace_test))\n",
    "bace_mols_mapper = dict() # smile -> label\n",
    "for i in range(len(smiles_bace)):\n",
    "    bace_mols_mapper[smiles_bace[i]] = labels_bace[i]\n",
    "\n",
    "for idx, filter in enumerate(filters):\n",
    "    if idx == 1:\n",
    "        break\n",
    "\n",
    "    filter_f = filter()\n",
    "    filter_f.fit(smiles_bace, labels_bace)\n",
    "    filtered_mols = filter_f.transform(smiles_bace)\n",
    "    filtered_labels = [ bace_mols_mapper[mol] for mol in filtered_mols ]\n",
    "    rest_mols = [ mol for mol in smiles_bace if mol not in filtered_mols ]\n",
    "    rest_labels = [ bace_mols_mapper[mol] for mol in rest_mols ]\n",
    "\n",
    "    filtered_mols_bace_train, filtered_mols_bace_test, y_train_filtered, y_test_filtered = scaffold_train_test_split(\n",
    "        filtered_mols, filtered_labels, test_size=0.2\n",
    "    )\n",
    "    print(len(filtered_mols_bace_train) , len(filtered_mols_bace_test), len(y_train_filtered), len(y_test_filtered))\n",
    "\n",
    "    pipelines['baseline_pipeline'].fit(filtered_mols_bace_train, y_train_filtered)\n",
    "    y_pred_filtered = pipelines['baseline_pipeline'].predict(filtered_mols_bace_test)\n",
    "    y_proba_filtered = pipelines['baseline_pipeline'].predict_proba(filtered_mols_bace_test)\n",
    "\n",
    "    print(\"Baseline: \")\n",
    "    print(len(y_test), len(y_pred), len(y_proba))\n",
    "    roc_auc_baseline = calculate_scores(y_test, y_pred, y_proba)\n",
    "    print(\"Filtered: \")\n",
    "    print(len(y_test_filtered), len(y_pred_filtered), len(y_proba_filtered))\n",
    "    roc_auc_filtered = calculate_scores(y_test_filtered, y_pred_filtered, y_proba_filtered)\n",
    "\n",
    "    pipelines['baseline_pipeline'].fit(filtered_mols_bace_train, y_train_filtered)\n",
    "    y_pred_mixed= pipelines['baseline_pipeline'].predict(smiles_bace_test)\n",
    "    y_proba_mixed = pipelines['baseline_pipeline'].predict_proba(smiles_bace_test)\n",
    "\n",
    "    print(\"Mixed: \")\n",
    "    roc_auc_mixed = calculate_scores(y_test, y_pred_mixed, y_proba_mixed)\n",
    "\n",
    "    pipelines['baseline_pipeline'].fit(filtered_mols_bace_train, y_train_filtered)\n",
    "    y_pred_rest = pipelines['baseline_pipeline'].predict(rest_mols)\n",
    "    y_proba_rest = pipelines['baseline_pipeline'].predict_proba(rest_mols)\n",
    "\n",
    "    print(\"Rest: \")\n",
    "    roc_auc_mixed = calculate_scores(y_test, y_pred_rest, y_proba_rest)\n",
    "    "
   ]
  },
  {
   "cell_type": "markdown",
   "id": "a9a3bc0d-fc06-41d2-af25-456af7d9fa4b",
   "metadata": {},
   "source": [
    "## Classification with the Logistic regression and RFC based on the clintox dataset; wihout filtering molecules"
   ]
  },
  {
   "cell_type": "markdown",
   "id": "54597007-d28c-4edd-9190-8f640267bbf2",
   "metadata": {},
   "source": [
    "### Bace dataset split"
   ]
  },
  {
   "cell_type": "code",
   "execution_count": 7,
   "id": "3ef26b77-c706-4991-9d1f-40d3034fbc7e",
   "metadata": {},
   "outputs": [],
   "source": [
    "smiles_bace, labels_bace = load_bace()"
   ]
  },
  {
   "cell_type": "code",
   "execution_count": 8,
   "id": "62738f52",
   "metadata": {},
   "outputs": [
    {
     "name": "stdout",
     "output_type": "stream",
     "text": [
      "1513\n",
      "O1CC[C@@H](NC(=O)[C@@H](Cc2cc3cc(ccc3nc2N)-c2ccccc2C)C)CC1(C)C 1\n",
      "Fc1cc(cc(F)c1)C[C@H](NC(=O)[C@@H](N1CC[C@](NC(=O)C)(CC(C)C)C1=O)CCc1ccccc1)[C@H](O)[C@@H]1[NH2+]C[C@H](OCCC)C1 1\n"
     ]
    }
   ],
   "source": [
    "print(len(smiles_bace))\n",
    "print(smiles_bace[0], labels_bace[0])\n",
    "print(smiles_bace[1], labels_bace[1])"
   ]
  },
  {
   "cell_type": "code",
   "execution_count": 14,
   "id": "6bbc660c",
   "metadata": {},
   "outputs": [],
   "source": [
    "bace_mols_mapper = dict() # smile -> label\n",
    "for i in range(len(smiles_bace)):\n",
    "    bace_mols_mapper[smiles_bace[i]] = labels_bace[i]"
   ]
  },
  {
   "cell_type": "code",
   "execution_count": null,
   "id": "1523af48",
   "metadata": {},
   "outputs": [
    {
     "name": "stdout",
     "output_type": "stream",
     "text": [
      "395 1513\n",
      "O1CC[C@@H](NC(=O)[C@@H](Cc2cc3cc(ccc3nc2N)-c2ccccc2C)C)CC1(C)C 1\n"
     ]
    }
   ],
   "source": [
    "filter = MLSMRFilter()\n",
    "\n",
    "filter.fit(smiles_bace, labels_bace)\n",
    "# filtered_mols = filter.transform(smiles_bace)\n",
    "filtered_mols = filter.fit_transform(smiles_bace, labels_bace)\n",
    "print(len(filtered_mols), len(labels_bace))\n",
    "print(filtered_mols[0], labels_bace[0])"
   ]
  },
  {
   "cell_type": "code",
   "execution_count": 16,
   "id": "5984d38c",
   "metadata": {},
   "outputs": [
    {
     "name": "stdout",
     "output_type": "stream",
     "text": [
      "395\n"
     ]
    }
   ],
   "source": [
    "filtered_labels = [ bace_mols_mapper[mol] for mol in filtered_mols ]\n",
    "print(len(filtered_labels))"
   ]
  },
  {
   "cell_type": "code",
   "execution_count": 17,
   "id": "c1e1e315-a3e6-4bef-880e-2dfe58b82ffb",
   "metadata": {},
   "outputs": [],
   "source": [
    "smiles_bace_train, smiles_bace_test, y_train, y_test = scaffold_train_test_split(\n",
    "    filtered_mols, filtered_labels, test_size=0.2\n",
    ")"
   ]
  },
  {
   "cell_type": "markdown",
   "id": "076c9d67-e39c-4027-9c50-5f12efe21f20",
   "metadata": {},
   "source": [
    "### Checking the class distibution of the dataset "
   ]
  },
  {
   "cell_type": "code",
   "execution_count": 11,
   "id": "e554cfd1-1f4f-4e1c-929b-5a8232349482",
   "metadata": {},
   "outputs": [
    {
     "name": "stdout",
     "output_type": "stream",
     "text": [
      "Class distribution: [822 691]\n"
     ]
    }
   ],
   "source": [
    "print(f\"Class distribution: {np.bincount(labels_bace)}\")"
   ]
  },
  {
   "cell_type": "markdown",
   "id": "d30f769f-8a5e-4c26-88ea-377856c7ed2e",
   "metadata": {},
   "source": [
    "## Baseline with Logistic regression model"
   ]
  },
  {
   "cell_type": "code",
   "execution_count": 18,
   "id": "711a8593-2597-44cd-874e-fa8c3523da85",
   "metadata": {},
   "outputs": [],
   "source": [
    "pipelines['baseline_pipeline'].fit(smiles_bace_train, y_train)\n",
    "y_pred = pipelines['baseline_pipeline'].predict(smiles_bace_test)\n",
    "y_proba = pipelines['baseline_pipeline'].predict_proba(smiles_bace_test) "
   ]
  },
  {
   "cell_type": "code",
   "execution_count": 20,
   "id": "2d529fd1-717d-446a-a5fa-5db45827f4c7",
   "metadata": {},
   "outputs": [
    {
     "name": "stdout",
     "output_type": "stream",
     "text": [
      "R2 score for Linear regression model: -0.3657\n",
      "Accuracy for Linear regression model: 0.6709\n",
      "ROC-AUC score for Linear regression model: 0.7912\n"
     ]
    }
   ],
   "source": [
    "calculate_scores(y_test, y_pred, y_proba)"
   ]
  },
  {
   "cell_type": "code",
   "execution_count": null,
   "id": "af868161",
   "metadata": {},
   "outputs": [],
   "source": []
  },
  {
   "cell_type": "code",
   "execution_count": 22,
   "id": "97ddfe7f",
   "metadata": {},
   "outputs": [],
   "source": [
    "from skfp.datasets.moleculenet import load_bace\n",
    "from skfp.fingerprints import ECFPFingerprint\n",
    "from skfp.model_selection import FingerprintEstimatorGridSearch\n",
    "from sklearn.ensemble import RandomForestClassifier\n",
    "from sklearn.model_selection import GridSearchCV\n",
    "\n",
    "fp = ECFPFingerprint(n_jobs=-1)\n",
    "fp_params = {\"radius\": [2, 3]}\n",
    "clf = RandomForestClassifier(n_jobs=-1)\n",
    "clf_params = {\"min_samples_split\": [2, 3, 4]}\n",
    "clf_cv = GridSearchCV(clf, clf_params)\n",
    "fp_cv = FingerprintEstimatorGridSearch(fp, fp_params, clf_cv)"
   ]
  },
  {
   "cell_type": "code",
   "execution_count": 23,
   "id": "7e887bc3",
   "metadata": {},
   "outputs": [],
   "source": [
    "fp_cv.fit(smiles_bace_train, y_train)\n",
    "y_pred = fp_cv.predict(smiles_bace_test)\n",
    "y_proba = fp_cv.predict_proba(smiles_bace_test) "
   ]
  },
  {
   "cell_type": "code",
   "execution_count": 24,
   "id": "bb88041c",
   "metadata": {},
   "outputs": [
    {
     "name": "stdout",
     "output_type": "stream",
     "text": [
      "R2 score for Linear regression model: -1.4807\n",
      "Accuracy for Linear regression model: 0.3960\n",
      "ROC-AUC score for Linear regression model: 0.4112\n"
     ]
    }
   ],
   "source": [
    "calculate_scores(y_test, y_pred, y_proba)"
   ]
  },
  {
   "cell_type": "markdown",
   "id": "6b367b9b-7e9d-4acc-9de4-3fbfacdba3a2",
   "metadata": {},
   "source": [
    "## RF classifier"
   ]
  },
  {
   "cell_type": "code",
   "execution_count": 25,
   "id": "11a6a9c8-e96d-4e37-9342-716a3e69d791",
   "metadata": {},
   "outputs": [],
   "source": [
    "pipelines['rf_pipeline'].fit(smiles_bace_train, y_train)\n",
    "y_pred = pipelines['rf_pipeline'].predict(smiles_bace_test)\n",
    "y_proba = pipelines['rf_pipeline'].predict_proba(smiles_bace_test)  "
   ]
  },
  {
   "cell_type": "code",
   "execution_count": 26,
   "id": "311884eb-53a6-41db-bdd8-c9458df154c2",
   "metadata": {},
   "outputs": [
    {
     "name": "stdout",
     "output_type": "stream",
     "text": [
      "R2 score for Linear regression model: -1.4943\n",
      "Accuracy for Linear regression model: 0.3927\n",
      "ROC-AUC score for Linear regression model: 0.3990\n"
     ]
    }
   ],
   "source": [
    "calculate_scores(y_test, y_pred, y_proba)"
   ]
  },
  {
   "cell_type": "code",
   "execution_count": 66,
   "id": "1ff6b345",
   "metadata": {},
   "outputs": [
    {
     "name": "stdout",
     "output_type": "stream",
     "text": [
      "R2 score for Linear regression model: -1.3316\n",
      "Accuracy for Linear regression model: 0.4323\n",
      "ROC-AUC score for Linear regression model: 0.4265\n"
     ]
    }
   ],
   "source": [
    "pipelines['gb_pipeline'].fit(smiles_bace_train, y_train)\n",
    "y_pred = pipelines['gb_pipeline'].predict(smiles_bace_test)\n",
    "y_proba = pipelines['gb_pipeline'].predict_proba(smiles_bace_test)\n",
    "calculate_scores(y_test, y_pred, y_proba)"
   ]
  },
  {
   "cell_type": "code",
   "execution_count": 67,
   "id": "739ed580",
   "metadata": {},
   "outputs": [
    {
     "name": "stdout",
     "output_type": "stream",
     "text": [
      "R2 score for Linear regression model: -1.4265\n",
      "Accuracy for Linear regression model: 0.4092\n",
      "ROC-AUC score for Linear regression model: 0.4389\n"
     ]
    }
   ],
   "source": [
    "pipelines['knc_pipeline'].fit(smiles_bace_train, y_train)\n",
    "y_pred = pipelines['knc_pipeline'].predict(smiles_bace_test)\n",
    "y_proba = pipelines['knc_pipeline'].predict_proba(smiles_bace_test)\n",
    "calculate_scores(y_test, y_pred, y_proba)"
   ]
  },
  {
   "cell_type": "code",
   "execution_count": 68,
   "id": "747aa729",
   "metadata": {},
   "outputs": [
    {
     "name": "stdout",
     "output_type": "stream",
     "text": [
      "R2 score for Linear regression model: -1.3858\n",
      "Accuracy for Linear regression model: 0.4191\n",
      "ROC-AUC score for Linear regression model: 0.5000\n"
     ]
    }
   ],
   "source": [
    "pipelines['mlp_pipeline'].fit(smiles_bace_train, y_train)\n",
    "y_pred = pipelines['mlp_pipeline'].predict(smiles_bace_test)\n",
    "y_proba = pipelines['mlp_pipeline'].predict_proba(smiles_bace_test)\n",
    "calculate_scores(y_test, y_pred, y_proba)"
   ]
  },
  {
   "cell_type": "code",
   "execution_count": 69,
   "id": "429a04a5",
   "metadata": {},
   "outputs": [
    {
     "name": "stdout",
     "output_type": "stream",
     "text": [
      "R2 score for Linear regression model: -1.0334\n",
      "Accuracy for Linear regression model: 0.5050\n",
      "ROC-AUC score for Linear regression model: 0.4974\n"
     ]
    }
   ],
   "source": [
    "pipelines['GNB_pipeline'].fit(smiles_bace_train, y_train)\n",
    "y_pred = pipelines['GNB_pipeline'].predict(smiles_bace_test)\n",
    "y_proba = pipelines['GNB_pipeline'].predict_proba(smiles_bace_test)\n",
    "calculate_scores(y_test, y_pred, y_proba)"
   ]
  },
  {
   "cell_type": "code",
   "execution_count": 70,
   "id": "e60935a4",
   "metadata": {},
   "outputs": [
    {
     "name": "stdout",
     "output_type": "stream",
     "text": [
      "R2 score for Linear regression model: -1.4265\n",
      "Accuracy for Linear regression model: 0.4092\n",
      "ROC-AUC score for Linear regression model: 0.4565\n"
     ]
    }
   ],
   "source": [
    "pipelines['svm_pipeline'].fit(smiles_bace_train, y_train)\n",
    "y_pred = pipelines['svm_pipeline'].predict(smiles_bace_test)\n",
    "y_proba = pipelines['svm_pipeline'].predict_proba(smiles_bace_test)\n",
    "calculate_scores(y_test, y_pred, y_proba)"
   ]
  },
  {
   "cell_type": "code",
   "execution_count": 45,
   "id": "4659ee3a-6cdb-4fe8-a1ad-e53dc50bb2d0",
   "metadata": {},
   "outputs": [],
   "source": [
    "# filtering molecules from the test dataset \n",
    "\n",
    "from skfp.filters import PfizerFilter\n",
    "\n",
    "filt = PfizerFilter(allow_one_violation=True)"
   ]
  },
  {
   "cell_type": "code",
   "execution_count": 46,
   "id": "a14c074b-7f83-4385-a229-6517cba84bfe",
   "metadata": {},
   "outputs": [],
   "source": [
    "smiles_to_label = dict(zip(smiles_train, y_train))"
   ]
  },
  {
   "cell_type": "code",
   "execution_count": 47,
   "id": "4147786c-2bda-4f3f-ab75-e2852db38494",
   "metadata": {},
   "outputs": [],
   "source": [
    "filtered_smiles = filt.transform(smiles_train)\n",
    "filtered_labels = [smiles_to_label[smi] for smi in filtered_smiles]"
   ]
  },
  {
   "cell_type": "code",
   "execution_count": null,
   "id": "a71add14-15d5-4a77-b0d0-b8086987c942",
   "metadata": {},
   "outputs": [
    {
     "data": {
      "text/html": [
       "<style>#sk-container-id-2 {\n",
       "  /* Definition of color scheme common for light and dark mode */\n",
       "  --sklearn-color-text: black;\n",
       "  --sklearn-color-line: gray;\n",
       "  /* Definition of color scheme for unfitted estimators */\n",
       "  --sklearn-color-unfitted-level-0: #fff5e6;\n",
       "  --sklearn-color-unfitted-level-1: #f6e4d2;\n",
       "  --sklearn-color-unfitted-level-2: #ffe0b3;\n",
       "  --sklearn-color-unfitted-level-3: chocolate;\n",
       "  /* Definition of color scheme for fitted estimators */\n",
       "  --sklearn-color-fitted-level-0: #f0f8ff;\n",
       "  --sklearn-color-fitted-level-1: #d4ebff;\n",
       "  --sklearn-color-fitted-level-2: #b3dbfd;\n",
       "  --sklearn-color-fitted-level-3: cornflowerblue;\n",
       "\n",
       "  /* Specific color for light theme */\n",
       "  --sklearn-color-text-on-default-background: var(--sg-text-color, var(--theme-code-foreground, var(--jp-content-font-color1, black)));\n",
       "  --sklearn-color-background: var(--sg-background-color, var(--theme-background, var(--jp-layout-color0, white)));\n",
       "  --sklearn-color-border-box: var(--sg-text-color, var(--theme-code-foreground, var(--jp-content-font-color1, black)));\n",
       "  --sklearn-color-icon: #696969;\n",
       "\n",
       "  @media (prefers-color-scheme: dark) {\n",
       "    /* Redefinition of color scheme for dark theme */\n",
       "    --sklearn-color-text-on-default-background: var(--sg-text-color, var(--theme-code-foreground, var(--jp-content-font-color1, white)));\n",
       "    --sklearn-color-background: var(--sg-background-color, var(--theme-background, var(--jp-layout-color0, #111)));\n",
       "    --sklearn-color-border-box: var(--sg-text-color, var(--theme-code-foreground, var(--jp-content-font-color1, white)));\n",
       "    --sklearn-color-icon: #878787;\n",
       "  }\n",
       "}\n",
       "\n",
       "#sk-container-id-2 {\n",
       "  color: var(--sklearn-color-text);\n",
       "}\n",
       "\n",
       "#sk-container-id-2 pre {\n",
       "  padding: 0;\n",
       "}\n",
       "\n",
       "#sk-container-id-2 input.sk-hidden--visually {\n",
       "  border: 0;\n",
       "  clip: rect(1px 1px 1px 1px);\n",
       "  clip: rect(1px, 1px, 1px, 1px);\n",
       "  height: 1px;\n",
       "  margin: -1px;\n",
       "  overflow: hidden;\n",
       "  padding: 0;\n",
       "  position: absolute;\n",
       "  width: 1px;\n",
       "}\n",
       "\n",
       "#sk-container-id-2 div.sk-dashed-wrapped {\n",
       "  border: 1px dashed var(--sklearn-color-line);\n",
       "  margin: 0 0.4em 0.5em 0.4em;\n",
       "  box-sizing: border-box;\n",
       "  padding-bottom: 0.4em;\n",
       "  background-color: var(--sklearn-color-background);\n",
       "}\n",
       "\n",
       "#sk-container-id-2 div.sk-container {\n",
       "  /* jupyter's `normalize.less` sets `[hidden] { display: none; }`\n",
       "     but bootstrap.min.css set `[hidden] { display: none !important; }`\n",
       "     so we also need the `!important` here to be able to override the\n",
       "     default hidden behavior on the sphinx rendered scikit-learn.org.\n",
       "     See: https://github.com/scikit-learn/scikit-learn/issues/21755 */\n",
       "  display: inline-block !important;\n",
       "  position: relative;\n",
       "}\n",
       "\n",
       "#sk-container-id-2 div.sk-text-repr-fallback {\n",
       "  display: none;\n",
       "}\n",
       "\n",
       "div.sk-parallel-item,\n",
       "div.sk-serial,\n",
       "div.sk-item {\n",
       "  /* draw centered vertical line to link estimators */\n",
       "  background-image: linear-gradient(var(--sklearn-color-text-on-default-background), var(--sklearn-color-text-on-default-background));\n",
       "  background-size: 2px 100%;\n",
       "  background-repeat: no-repeat;\n",
       "  background-position: center center;\n",
       "}\n",
       "\n",
       "/* Parallel-specific style estimator block */\n",
       "\n",
       "#sk-container-id-2 div.sk-parallel-item::after {\n",
       "  content: \"\";\n",
       "  width: 100%;\n",
       "  border-bottom: 2px solid var(--sklearn-color-text-on-default-background);\n",
       "  flex-grow: 1;\n",
       "}\n",
       "\n",
       "#sk-container-id-2 div.sk-parallel {\n",
       "  display: flex;\n",
       "  align-items: stretch;\n",
       "  justify-content: center;\n",
       "  background-color: var(--sklearn-color-background);\n",
       "  position: relative;\n",
       "}\n",
       "\n",
       "#sk-container-id-2 div.sk-parallel-item {\n",
       "  display: flex;\n",
       "  flex-direction: column;\n",
       "}\n",
       "\n",
       "#sk-container-id-2 div.sk-parallel-item:first-child::after {\n",
       "  align-self: flex-end;\n",
       "  width: 50%;\n",
       "}\n",
       "\n",
       "#sk-container-id-2 div.sk-parallel-item:last-child::after {\n",
       "  align-self: flex-start;\n",
       "  width: 50%;\n",
       "}\n",
       "\n",
       "#sk-container-id-2 div.sk-parallel-item:only-child::after {\n",
       "  width: 0;\n",
       "}\n",
       "\n",
       "/* Serial-specific style estimator block */\n",
       "\n",
       "#sk-container-id-2 div.sk-serial {\n",
       "  display: flex;\n",
       "  flex-direction: column;\n",
       "  align-items: center;\n",
       "  background-color: var(--sklearn-color-background);\n",
       "  padding-right: 1em;\n",
       "  padding-left: 1em;\n",
       "}\n",
       "\n",
       "\n",
       "/* Toggleable style: style used for estimator/Pipeline/ColumnTransformer box that is\n",
       "clickable and can be expanded/collapsed.\n",
       "- Pipeline and ColumnTransformer use this feature and define the default style\n",
       "- Estimators will overwrite some part of the style using the `sk-estimator` class\n",
       "*/\n",
       "\n",
       "/* Pipeline and ColumnTransformer style (default) */\n",
       "\n",
       "#sk-container-id-2 div.sk-toggleable {\n",
       "  /* Default theme specific background. It is overwritten whether we have a\n",
       "  specific estimator or a Pipeline/ColumnTransformer */\n",
       "  background-color: var(--sklearn-color-background);\n",
       "}\n",
       "\n",
       "/* Toggleable label */\n",
       "#sk-container-id-2 label.sk-toggleable__label {\n",
       "  cursor: pointer;\n",
       "  display: block;\n",
       "  width: 100%;\n",
       "  margin-bottom: 0;\n",
       "  padding: 0.5em;\n",
       "  box-sizing: border-box;\n",
       "  text-align: center;\n",
       "}\n",
       "\n",
       "#sk-container-id-2 label.sk-toggleable__label-arrow:before {\n",
       "  /* Arrow on the left of the label */\n",
       "  content: \"▸\";\n",
       "  float: left;\n",
       "  margin-right: 0.25em;\n",
       "  color: var(--sklearn-color-icon);\n",
       "}\n",
       "\n",
       "#sk-container-id-2 label.sk-toggleable__label-arrow:hover:before {\n",
       "  color: var(--sklearn-color-text);\n",
       "}\n",
       "\n",
       "/* Toggleable content - dropdown */\n",
       "\n",
       "#sk-container-id-2 div.sk-toggleable__content {\n",
       "  max-height: 0;\n",
       "  max-width: 0;\n",
       "  overflow: hidden;\n",
       "  text-align: left;\n",
       "  /* unfitted */\n",
       "  background-color: var(--sklearn-color-unfitted-level-0);\n",
       "}\n",
       "\n",
       "#sk-container-id-2 div.sk-toggleable__content.fitted {\n",
       "  /* fitted */\n",
       "  background-color: var(--sklearn-color-fitted-level-0);\n",
       "}\n",
       "\n",
       "#sk-container-id-2 div.sk-toggleable__content pre {\n",
       "  margin: 0.2em;\n",
       "  border-radius: 0.25em;\n",
       "  color: var(--sklearn-color-text);\n",
       "  /* unfitted */\n",
       "  background-color: var(--sklearn-color-unfitted-level-0);\n",
       "}\n",
       "\n",
       "#sk-container-id-2 div.sk-toggleable__content.fitted pre {\n",
       "  /* unfitted */\n",
       "  background-color: var(--sklearn-color-fitted-level-0);\n",
       "}\n",
       "\n",
       "#sk-container-id-2 input.sk-toggleable__control:checked~div.sk-toggleable__content {\n",
       "  /* Expand drop-down */\n",
       "  max-height: 200px;\n",
       "  max-width: 100%;\n",
       "  overflow: auto;\n",
       "}\n",
       "\n",
       "#sk-container-id-2 input.sk-toggleable__control:checked~label.sk-toggleable__label-arrow:before {\n",
       "  content: \"▾\";\n",
       "}\n",
       "\n",
       "/* Pipeline/ColumnTransformer-specific style */\n",
       "\n",
       "#sk-container-id-2 div.sk-label input.sk-toggleable__control:checked~label.sk-toggleable__label {\n",
       "  color: var(--sklearn-color-text);\n",
       "  background-color: var(--sklearn-color-unfitted-level-2);\n",
       "}\n",
       "\n",
       "#sk-container-id-2 div.sk-label.fitted input.sk-toggleable__control:checked~label.sk-toggleable__label {\n",
       "  background-color: var(--sklearn-color-fitted-level-2);\n",
       "}\n",
       "\n",
       "/* Estimator-specific style */\n",
       "\n",
       "/* Colorize estimator box */\n",
       "#sk-container-id-2 div.sk-estimator input.sk-toggleable__control:checked~label.sk-toggleable__label {\n",
       "  /* unfitted */\n",
       "  background-color: var(--sklearn-color-unfitted-level-2);\n",
       "}\n",
       "\n",
       "#sk-container-id-2 div.sk-estimator.fitted input.sk-toggleable__control:checked~label.sk-toggleable__label {\n",
       "  /* fitted */\n",
       "  background-color: var(--sklearn-color-fitted-level-2);\n",
       "}\n",
       "\n",
       "#sk-container-id-2 div.sk-label label.sk-toggleable__label,\n",
       "#sk-container-id-2 div.sk-label label {\n",
       "  /* The background is the default theme color */\n",
       "  color: var(--sklearn-color-text-on-default-background);\n",
       "}\n",
       "\n",
       "/* On hover, darken the color of the background */\n",
       "#sk-container-id-2 div.sk-label:hover label.sk-toggleable__label {\n",
       "  color: var(--sklearn-color-text);\n",
       "  background-color: var(--sklearn-color-unfitted-level-2);\n",
       "}\n",
       "\n",
       "/* Label box, darken color on hover, fitted */\n",
       "#sk-container-id-2 div.sk-label.fitted:hover label.sk-toggleable__label.fitted {\n",
       "  color: var(--sklearn-color-text);\n",
       "  background-color: var(--sklearn-color-fitted-level-2);\n",
       "}\n",
       "\n",
       "/* Estimator label */\n",
       "\n",
       "#sk-container-id-2 div.sk-label label {\n",
       "  font-family: monospace;\n",
       "  font-weight: bold;\n",
       "  display: inline-block;\n",
       "  line-height: 1.2em;\n",
       "}\n",
       "\n",
       "#sk-container-id-2 div.sk-label-container {\n",
       "  text-align: center;\n",
       "}\n",
       "\n",
       "/* Estimator-specific */\n",
       "#sk-container-id-2 div.sk-estimator {\n",
       "  font-family: monospace;\n",
       "  border: 1px dotted var(--sklearn-color-border-box);\n",
       "  border-radius: 0.25em;\n",
       "  box-sizing: border-box;\n",
       "  margin-bottom: 0.5em;\n",
       "  /* unfitted */\n",
       "  background-color: var(--sklearn-color-unfitted-level-0);\n",
       "}\n",
       "\n",
       "#sk-container-id-2 div.sk-estimator.fitted {\n",
       "  /* fitted */\n",
       "  background-color: var(--sklearn-color-fitted-level-0);\n",
       "}\n",
       "\n",
       "/* on hover */\n",
       "#sk-container-id-2 div.sk-estimator:hover {\n",
       "  /* unfitted */\n",
       "  background-color: var(--sklearn-color-unfitted-level-2);\n",
       "}\n",
       "\n",
       "#sk-container-id-2 div.sk-estimator.fitted:hover {\n",
       "  /* fitted */\n",
       "  background-color: var(--sklearn-color-fitted-level-2);\n",
       "}\n",
       "\n",
       "/* Specification for estimator info (e.g. \"i\" and \"?\") */\n",
       "\n",
       "/* Common style for \"i\" and \"?\" */\n",
       "\n",
       ".sk-estimator-doc-link,\n",
       "a:link.sk-estimator-doc-link,\n",
       "a:visited.sk-estimator-doc-link {\n",
       "  float: right;\n",
       "  font-size: smaller;\n",
       "  line-height: 1em;\n",
       "  font-family: monospace;\n",
       "  background-color: var(--sklearn-color-background);\n",
       "  border-radius: 1em;\n",
       "  height: 1em;\n",
       "  width: 1em;\n",
       "  text-decoration: none !important;\n",
       "  margin-left: 1ex;\n",
       "  /* unfitted */\n",
       "  border: var(--sklearn-color-unfitted-level-1) 1pt solid;\n",
       "  color: var(--sklearn-color-unfitted-level-1);\n",
       "}\n",
       "\n",
       ".sk-estimator-doc-link.fitted,\n",
       "a:link.sk-estimator-doc-link.fitted,\n",
       "a:visited.sk-estimator-doc-link.fitted {\n",
       "  /* fitted */\n",
       "  border: var(--sklearn-color-fitted-level-1) 1pt solid;\n",
       "  color: var(--sklearn-color-fitted-level-1);\n",
       "}\n",
       "\n",
       "/* On hover */\n",
       "div.sk-estimator:hover .sk-estimator-doc-link:hover,\n",
       ".sk-estimator-doc-link:hover,\n",
       "div.sk-label-container:hover .sk-estimator-doc-link:hover,\n",
       ".sk-estimator-doc-link:hover {\n",
       "  /* unfitted */\n",
       "  background-color: var(--sklearn-color-unfitted-level-3);\n",
       "  color: var(--sklearn-color-background);\n",
       "  text-decoration: none;\n",
       "}\n",
       "\n",
       "div.sk-estimator.fitted:hover .sk-estimator-doc-link.fitted:hover,\n",
       ".sk-estimator-doc-link.fitted:hover,\n",
       "div.sk-label-container:hover .sk-estimator-doc-link.fitted:hover,\n",
       ".sk-estimator-doc-link.fitted:hover {\n",
       "  /* fitted */\n",
       "  background-color: var(--sklearn-color-fitted-level-3);\n",
       "  color: var(--sklearn-color-background);\n",
       "  text-decoration: none;\n",
       "}\n",
       "\n",
       "/* Span, style for the box shown on hovering the info icon */\n",
       ".sk-estimator-doc-link span {\n",
       "  display: none;\n",
       "  z-index: 9999;\n",
       "  position: relative;\n",
       "  font-weight: normal;\n",
       "  right: .2ex;\n",
       "  padding: .5ex;\n",
       "  margin: .5ex;\n",
       "  width: min-content;\n",
       "  min-width: 20ex;\n",
       "  max-width: 50ex;\n",
       "  color: var(--sklearn-color-text);\n",
       "  box-shadow: 2pt 2pt 4pt #999;\n",
       "  /* unfitted */\n",
       "  background: var(--sklearn-color-unfitted-level-0);\n",
       "  border: .5pt solid var(--sklearn-color-unfitted-level-3);\n",
       "}\n",
       "\n",
       ".sk-estimator-doc-link.fitted span {\n",
       "  /* fitted */\n",
       "  background: var(--sklearn-color-fitted-level-0);\n",
       "  border: var(--sklearn-color-fitted-level-3);\n",
       "}\n",
       "\n",
       ".sk-estimator-doc-link:hover span {\n",
       "  display: block;\n",
       "}\n",
       "\n",
       "/* \"?\"-specific style due to the `<a>` HTML tag */\n",
       "\n",
       "#sk-container-id-2 a.estimator_doc_link {\n",
       "  float: right;\n",
       "  font-size: 1rem;\n",
       "  line-height: 1em;\n",
       "  font-family: monospace;\n",
       "  background-color: var(--sklearn-color-background);\n",
       "  border-radius: 1rem;\n",
       "  height: 1rem;\n",
       "  width: 1rem;\n",
       "  text-decoration: none;\n",
       "  /* unfitted */\n",
       "  color: var(--sklearn-color-unfitted-level-1);\n",
       "  border: var(--sklearn-color-unfitted-level-1) 1pt solid;\n",
       "}\n",
       "\n",
       "#sk-container-id-2 a.estimator_doc_link.fitted {\n",
       "  /* fitted */\n",
       "  border: var(--sklearn-color-fitted-level-1) 1pt solid;\n",
       "  color: var(--sklearn-color-fitted-level-1);\n",
       "}\n",
       "\n",
       "/* On hover */\n",
       "#sk-container-id-2 a.estimator_doc_link:hover {\n",
       "  /* unfitted */\n",
       "  background-color: var(--sklearn-color-unfitted-level-3);\n",
       "  color: var(--sklearn-color-background);\n",
       "  text-decoration: none;\n",
       "}\n",
       "\n",
       "#sk-container-id-2 a.estimator_doc_link.fitted:hover {\n",
       "  /* fitted */\n",
       "  background-color: var(--sklearn-color-fitted-level-3);\n",
       "}\n",
       "</style><div id=\"sk-container-id-2\" class=\"sk-top-container\"><div class=\"sk-text-repr-fallback\"><pre>Pipeline(steps=[(&#x27;molfromsmilestransformer&#x27;, MolFromSmilesTransformer()),\n",
       "                (&#x27;featureunion&#x27;,\n",
       "                 FeatureUnion(transformer_list=[(&#x27;ecfpfingerprint&#x27;,\n",
       "                                                 ECFPFingerprint(count=True)),\n",
       "                                                (&#x27;maccsfingerprint&#x27;,\n",
       "                                                 MACCSFingerprint()),\n",
       "                                                (&#x27;rdkitfingerprint&#x27;,\n",
       "                                                 RDKitFingerprint())])),\n",
       "                (&#x27;randomforestclassifier&#x27;,\n",
       "                 RandomForestClassifier(class_weight=&#x27;balanced&#x27;,\n",
       "                                        random_state=0))])</pre><b>In a Jupyter environment, please rerun this cell to show the HTML representation or trust the notebook. <br />On GitHub, the HTML representation is unable to render, please try loading this page with nbviewer.org.</b></div><div class=\"sk-container\" hidden><div class=\"sk-item sk-dashed-wrapped\"><div class=\"sk-label-container\"><div class=\"sk-label fitted sk-toggleable\"><input class=\"sk-toggleable__control sk-hidden--visually\" id=\"sk-estimator-id-8\" type=\"checkbox\" ><label for=\"sk-estimator-id-8\" class=\"sk-toggleable__label fitted sk-toggleable__label-arrow fitted\">&nbsp;&nbsp;Pipeline<a class=\"sk-estimator-doc-link fitted\" rel=\"noreferrer\" target=\"_blank\" href=\"https://scikit-learn.org/1.5/modules/generated/sklearn.pipeline.Pipeline.html\">?<span>Documentation for Pipeline</span></a><span class=\"sk-estimator-doc-link fitted\">i<span>Fitted</span></span></label><div class=\"sk-toggleable__content fitted\"><pre>Pipeline(steps=[(&#x27;molfromsmilestransformer&#x27;, MolFromSmilesTransformer()),\n",
       "                (&#x27;featureunion&#x27;,\n",
       "                 FeatureUnion(transformer_list=[(&#x27;ecfpfingerprint&#x27;,\n",
       "                                                 ECFPFingerprint(count=True)),\n",
       "                                                (&#x27;maccsfingerprint&#x27;,\n",
       "                                                 MACCSFingerprint()),\n",
       "                                                (&#x27;rdkitfingerprint&#x27;,\n",
       "                                                 RDKitFingerprint())])),\n",
       "                (&#x27;randomforestclassifier&#x27;,\n",
       "                 RandomForestClassifier(class_weight=&#x27;balanced&#x27;,\n",
       "                                        random_state=0))])</pre></div> </div></div><div class=\"sk-serial\"><div class=\"sk-item\"><div class=\"sk-estimator fitted sk-toggleable\"><input class=\"sk-toggleable__control sk-hidden--visually\" id=\"sk-estimator-id-9\" type=\"checkbox\" ><label for=\"sk-estimator-id-9\" class=\"sk-toggleable__label fitted sk-toggleable__label-arrow fitted\">MolFromSmilesTransformer</label><div class=\"sk-toggleable__content fitted\"><pre>MolFromSmilesTransformer()</pre></div> </div></div><div class=\"sk-item sk-dashed-wrapped\"><div class=\"sk-label-container\"><div class=\"sk-label fitted sk-toggleable\"><input class=\"sk-toggleable__control sk-hidden--visually\" id=\"sk-estimator-id-10\" type=\"checkbox\" ><label for=\"sk-estimator-id-10\" class=\"sk-toggleable__label fitted sk-toggleable__label-arrow fitted\">&nbsp;featureunion: FeatureUnion<a class=\"sk-estimator-doc-link fitted\" rel=\"noreferrer\" target=\"_blank\" href=\"https://scikit-learn.org/1.5/modules/generated/sklearn.pipeline.FeatureUnion.html\">?<span>Documentation for featureunion: FeatureUnion</span></a></label><div class=\"sk-toggleable__content fitted\"><pre>FeatureUnion(transformer_list=[(&#x27;ecfpfingerprint&#x27;, ECFPFingerprint(count=True)),\n",
       "                               (&#x27;maccsfingerprint&#x27;, MACCSFingerprint()),\n",
       "                               (&#x27;rdkitfingerprint&#x27;, RDKitFingerprint())])</pre></div> </div></div><div class=\"sk-parallel\"><div class=\"sk-parallel-item\"><div class=\"sk-item\"><div class=\"sk-label-container\"><div class=\"sk-label fitted sk-toggleable\"><label>ecfpfingerprint</label></div></div><div class=\"sk-serial\"><div class=\"sk-item\"><div class=\"sk-estimator fitted sk-toggleable\"><input class=\"sk-toggleable__control sk-hidden--visually\" id=\"sk-estimator-id-11\" type=\"checkbox\" ><label for=\"sk-estimator-id-11\" class=\"sk-toggleable__label fitted sk-toggleable__label-arrow fitted\">ECFPFingerprint</label><div class=\"sk-toggleable__content fitted\"><pre>ECFPFingerprint(count=True)</pre></div> </div></div></div></div></div><div class=\"sk-parallel-item\"><div class=\"sk-item\"><div class=\"sk-label-container\"><div class=\"sk-label fitted sk-toggleable\"><label>maccsfingerprint</label></div></div><div class=\"sk-serial\"><div class=\"sk-item\"><div class=\"sk-estimator fitted sk-toggleable\"><input class=\"sk-toggleable__control sk-hidden--visually\" id=\"sk-estimator-id-12\" type=\"checkbox\" ><label for=\"sk-estimator-id-12\" class=\"sk-toggleable__label fitted sk-toggleable__label-arrow fitted\">MACCSFingerprint</label><div class=\"sk-toggleable__content fitted\"><pre>MACCSFingerprint()</pre></div> </div></div></div></div></div><div class=\"sk-parallel-item\"><div class=\"sk-item\"><div class=\"sk-label-container\"><div class=\"sk-label fitted sk-toggleable\"><label>rdkitfingerprint</label></div></div><div class=\"sk-serial\"><div class=\"sk-item\"><div class=\"sk-estimator fitted sk-toggleable\"><input class=\"sk-toggleable__control sk-hidden--visually\" id=\"sk-estimator-id-13\" type=\"checkbox\" ><label for=\"sk-estimator-id-13\" class=\"sk-toggleable__label fitted sk-toggleable__label-arrow fitted\">RDKitFingerprint</label><div class=\"sk-toggleable__content fitted\"><pre>RDKitFingerprint()</pre></div> </div></div></div></div></div></div></div><div class=\"sk-item\"><div class=\"sk-estimator fitted sk-toggleable\"><input class=\"sk-toggleable__control sk-hidden--visually\" id=\"sk-estimator-id-14\" type=\"checkbox\" ><label for=\"sk-estimator-id-14\" class=\"sk-toggleable__label fitted sk-toggleable__label-arrow fitted\">&nbsp;RandomForestClassifier<a class=\"sk-estimator-doc-link fitted\" rel=\"noreferrer\" target=\"_blank\" href=\"https://scikit-learn.org/1.5/modules/generated/sklearn.ensemble.RandomForestClassifier.html\">?<span>Documentation for RandomForestClassifier</span></a></label><div class=\"sk-toggleable__content fitted\"><pre>RandomForestClassifier(class_weight=&#x27;balanced&#x27;, random_state=0)</pre></div> </div></div></div></div></div></div>"
      ],
      "text/plain": [
       "Pipeline(steps=[('molfromsmilestransformer', MolFromSmilesTransformer()),\n",
       "                ('featureunion',\n",
       "                 FeatureUnion(transformer_list=[('ecfpfingerprint',\n",
       "                                                 ECFPFingerprint(count=True)),\n",
       "                                                ('maccsfingerprint',\n",
       "                                                 MACCSFingerprint()),\n",
       "                                                ('rdkitfingerprint',\n",
       "                                                 RDKitFingerprint())])),\n",
       "                ('randomforestclassifier',\n",
       "                 RandomForestClassifier(class_weight='balanced',\n",
       "                                        random_state=0))])"
      ]
     },
     "execution_count": 48,
     "metadata": {},
     "output_type": "execute_result"
    }
   ],
   "source": [
    "pipelines['rf_pipeline'].fit(filtered_smiles, filtered_labels)"
   ]
  },
  {
   "cell_type": "code",
   "execution_count": null,
   "id": "9ba4e5f2-9561-4495-84fa-a11a2bbfb92a",
   "metadata": {},
   "outputs": [],
   "source": [
    "y_pred = pipelines['rf_pipeline'].predict(smiles_test)\n",
    "y_proba = pipelines['rf_pipeline'].predict_proba(smiles_test)"
   ]
  },
  {
   "cell_type": "code",
   "execution_count": null,
   "id": "8a44db5f-fd49-4540-955f-05da04e130a2",
   "metadata": {},
   "outputs": [
    {
     "name": "stdout",
     "output_type": "stream",
     "text": [
      "R2 score for RF classifier: -0.4234\n",
      "Accuracy for RF classifier: 0.6535\n",
      "ROC-AUC score for RF classifier: 0.7345\n"
     ]
    }
   ],
   "source": [
    "calculate_scores(y_test, y_pred, y_proba)"
   ]
  },
  {
   "cell_type": "markdown",
   "id": "f05daf98",
   "metadata": {},
   "source": [
    "## CLINTOX"
   ]
  },
  {
   "cell_type": "code",
   "execution_count": 78,
   "id": "53c8f531",
   "metadata": {},
   "outputs": [],
   "source": [
    "smiles, labels = load_clintox()"
   ]
  },
  {
   "cell_type": "code",
   "execution_count": 79,
   "id": "a107d076",
   "metadata": {},
   "outputs": [
    {
     "name": "stdout",
     "output_type": "stream",
     "text": [
      "1477\n",
      "[C@@H]1([C@@H]([C@@H]([C@H]([C@@H]([C@@H]1Cl)Cl)Cl)Cl)Cl)Cl [1 0]\n",
      "[C@H]([C@@H]([C@@H](C(=O)[O-])O)O)([C@H](C(=O)[O-])O)O [1 0]\n"
     ]
    }
   ],
   "source": [
    "print(len(smiles))\n",
    "print(smiles[0], labels[0])\n",
    "print(smiles[1], labels[1])"
   ]
  },
  {
   "cell_type": "code",
   "execution_count": null,
   "id": "0c6f9788",
   "metadata": {},
   "outputs": [],
   "source": []
  },
  {
   "cell_type": "code",
   "execution_count": null,
   "id": "74e49c30",
   "metadata": {},
   "outputs": [],
   "source": [
    "pipelines['baseline_pipeline'].fit(smiles_train, y_train)\n",
    "y_pred = pipelines['baseline_pipeline'].predict(smiles_test)\n",
    "y_proba = pipelines['baseline_pipeline'].predict_proba(smiles_test) "
   ]
  },
  {
   "cell_type": "code",
   "execution_count": null,
   "id": "7b5d7293",
   "metadata": {},
   "outputs": [],
   "source": []
  },
  {
   "cell_type": "markdown",
   "id": "c4029bce",
   "metadata": {},
   "source": [
    "## BBBP"
   ]
  },
  {
   "cell_type": "code",
   "execution_count": 28,
   "id": "26b25dbb",
   "metadata": {},
   "outputs": [],
   "source": [
    "smiles_bbbp, labels_bbbp = load_bbbp()"
   ]
  },
  {
   "cell_type": "code",
   "execution_count": 29,
   "id": "93cb7c5b",
   "metadata": {},
   "outputs": [
    {
     "name": "stdout",
     "output_type": "stream",
     "text": [
      "2039\n",
      "[Cl].CC(C)NCC(O)COc1cccc2ccccc12 1\n",
      "C(=O)(OC(C)(C)C)CCCc1ccc(cc1)N(CCCl)CCCl 1\n"
     ]
    }
   ],
   "source": [
    "print(len(smiles_bbbp))\n",
    "print(smiles_bbbp[0], labels_bbbp[0])\n",
    "print(smiles_bbbp[1], labels_bbbp[1])"
   ]
  },
  {
   "cell_type": "code",
   "execution_count": 30,
   "id": "3a6f5f1f",
   "metadata": {},
   "outputs": [
    {
     "name": "stderr",
     "output_type": "stream",
     "text": [
      "[02:46:37] WARNING: not removing hydrogen atom without neighbors\n",
      "[02:46:37] WARNING: not removing hydrogen atom without neighbors\n",
      "[02:46:37] WARNING: not removing hydrogen atom without neighbors\n",
      "[02:46:37] WARNING: not removing hydrogen atom without neighbors\n",
      "[02:46:37] WARNING: not removing hydrogen atom without neighbors\n",
      "[02:46:37] WARNING: not removing hydrogen atom without neighbors\n",
      "[02:46:37] WARNING: not removing hydrogen atom without neighbors\n",
      "[02:46:37] WARNING: not removing hydrogen atom without neighbors\n",
      "[02:46:37] WARNING: not removing hydrogen atom without neighbors\n",
      "[02:46:37] WARNING: not removing hydrogen atom without neighbors\n",
      "[02:46:37] WARNING: not removing hydrogen atom without neighbors\n",
      "[02:46:37] WARNING: not removing hydrogen atom without neighbors\n",
      "[02:46:37] WARNING: not removing hydrogen atom without neighbors\n",
      "[02:46:37] WARNING: not removing hydrogen atom without neighbors\n",
      "[02:46:37] WARNING: not removing hydrogen atom without neighbors\n",
      "[02:46:37] WARNING: not removing hydrogen atom without neighbors\n",
      "[02:46:37] WARNING: not removing hydrogen atom without neighbors\n",
      "[02:46:37] WARNING: not removing hydrogen atom without neighbors\n",
      "[02:46:37] WARNING: not removing hydrogen atom without neighbors\n",
      "[02:46:37] WARNING: not removing hydrogen atom without neighbors\n",
      "[02:46:37] WARNING: not removing hydrogen atom without neighbors\n",
      "[02:46:37] WARNING: not removing hydrogen atom without neighbors\n",
      "[02:46:37] WARNING: not removing hydrogen atom without neighbors\n",
      "[02:46:37] WARNING: not removing hydrogen atom without neighbors\n",
      "[02:46:37] WARNING: not removing hydrogen atom without neighbors\n",
      "[02:46:37] WARNING: not removing hydrogen atom without neighbors\n",
      "[02:46:37] WARNING: not removing hydrogen atom without neighbors\n",
      "[02:46:37] WARNING: not removing hydrogen atom without neighbors\n",
      "[02:46:37] WARNING: not removing hydrogen atom without neighbors\n",
      "[02:46:37] WARNING: not removing hydrogen atom without neighbors\n",
      "[02:46:37] WARNING: not removing hydrogen atom without neighbors\n",
      "[02:46:37] WARNING: not removing hydrogen atom without neighbors\n",
      "[02:46:37] WARNING: not removing hydrogen atom without neighbors\n",
      "[02:46:37] WARNING: not removing hydrogen atom without neighbors\n",
      "[02:46:37] WARNING: not removing hydrogen atom without neighbors\n",
      "[02:46:37] WARNING: not removing hydrogen atom without neighbors\n",
      "[02:46:37] WARNING: not removing hydrogen atom without neighbors\n",
      "[02:46:37] WARNING: not removing hydrogen atom without neighbors\n",
      "[02:46:37] WARNING: not removing hydrogen atom without neighbors\n",
      "[02:46:37] WARNING: not removing hydrogen atom without neighbors\n"
     ]
    }
   ],
   "source": [
    "smiles_bbbp_train, smiles_bbbp_test, y_train, y_test = scaffold_train_test_split(\n",
    "    smiles_bbbp, labels_bbbp, test_size=0.2\n",
    ")"
   ]
  },
  {
   "cell_type": "code",
   "execution_count": 31,
   "id": "4b158a24",
   "metadata": {},
   "outputs": [
    {
     "name": "stdout",
     "output_type": "stream",
     "text": [
      "Class distribution: [ 479 1560]\n"
     ]
    }
   ],
   "source": [
    "print(f\"Class distribution: {np.bincount(labels_bbbp)}\")"
   ]
  },
  {
   "cell_type": "code",
   "execution_count": 32,
   "id": "a3dbb54b",
   "metadata": {},
   "outputs": [
    {
     "name": "stderr",
     "output_type": "stream",
     "text": [
      "[02:47:07] WARNING: not removing hydrogen atom without neighbors\n",
      "[02:47:07] WARNING: not removing hydrogen atom without neighbors\n",
      "[02:47:07] WARNING: not removing hydrogen atom without neighbors\n",
      "[02:47:07] WARNING: not removing hydrogen atom without neighbors\n",
      "[02:47:07] WARNING: not removing hydrogen atom without neighbors\n",
      "[02:47:07] WARNING: not removing hydrogen atom without neighbors\n",
      "[02:47:07] WARNING: not removing hydrogen atom without neighbors\n",
      "[02:47:07] WARNING: not removing hydrogen atom without neighbors\n",
      "[02:47:07] WARNING: not removing hydrogen atom without neighbors\n",
      "[02:47:07] WARNING: not removing hydrogen atom without neighbors\n",
      "[02:47:07] WARNING: not removing hydrogen atom without neighbors\n",
      "[02:47:07] WARNING: not removing hydrogen atom without neighbors\n",
      "[02:47:07] WARNING: not removing hydrogen atom without neighbors\n",
      "[02:47:07] WARNING: not removing hydrogen atom without neighbors\n",
      "[02:47:07] WARNING: not removing hydrogen atom without neighbors\n",
      "[02:47:07] WARNING: not removing hydrogen atom without neighbors\n",
      "[02:47:07] WARNING: not removing hydrogen atom without neighbors\n",
      "[02:47:07] WARNING: not removing hydrogen atom without neighbors\n",
      "[02:47:07] WARNING: not removing hydrogen atom without neighbors\n",
      "[02:47:07] WARNING: not removing hydrogen atom without neighbors\n",
      "[02:47:07] WARNING: not removing hydrogen atom without neighbors\n",
      "[02:47:07] WARNING: not removing hydrogen atom without neighbors\n",
      "[02:47:07] WARNING: not removing hydrogen atom without neighbors\n",
      "[02:47:07] WARNING: not removing hydrogen atom without neighbors\n",
      "[02:47:07] WARNING: not removing hydrogen atom without neighbors\n",
      "[02:47:07] WARNING: not removing hydrogen atom without neighbors\n",
      "[02:47:07] WARNING: not removing hydrogen atom without neighbors\n",
      "[02:47:07] WARNING: not removing hydrogen atom without neighbors\n",
      "[02:47:07] WARNING: not removing hydrogen atom without neighbors\n",
      "[02:47:07] WARNING: not removing hydrogen atom without neighbors\n",
      "[02:47:07] WARNING: not removing hydrogen atom without neighbors\n",
      "[02:47:07] WARNING: not removing hydrogen atom without neighbors\n",
      "[02:47:07] WARNING: not removing hydrogen atom without neighbors\n",
      "[02:47:07] WARNING: not removing hydrogen atom without neighbors\n",
      "[02:47:07] WARNING: not removing hydrogen atom without neighbors\n",
      "[02:47:12] WARNING: not removing hydrogen atom without neighbors\n",
      "[02:47:12] WARNING: not removing hydrogen atom without neighbors\n",
      "[02:47:12] WARNING: not removing hydrogen atom without neighbors\n",
      "[02:47:12] WARNING: not removing hydrogen atom without neighbors\n",
      "[02:47:12] WARNING: not removing hydrogen atom without neighbors\n",
      "[02:47:13] WARNING: not removing hydrogen atom without neighbors\n",
      "[02:47:13] WARNING: not removing hydrogen atom without neighbors\n",
      "[02:47:13] WARNING: not removing hydrogen atom without neighbors\n",
      "[02:47:13] WARNING: not removing hydrogen atom without neighbors\n",
      "[02:47:13] WARNING: not removing hydrogen atom without neighbors\n"
     ]
    }
   ],
   "source": [
    "pipelines['baseline_pipeline'].fit(smiles_bbbp_train, y_train)\n",
    "y_pred = pipelines['baseline_pipeline'].predict(smiles_bbbp_test)\n",
    "y_proba = pipelines['baseline_pipeline'].predict_proba(smiles_bbbp_test) "
   ]
  },
  {
   "cell_type": "code",
   "execution_count": null,
   "id": "68ca9d09",
   "metadata": {},
   "outputs": [
    {
     "name": "stdout",
     "output_type": "stream",
     "text": [
      "R2 score for Linear regression model: -0.9813\n",
      "Accuracy for Linear regression model: 0.5074\n",
      "ROC-AUC score for Linear regression model: 0.3868\n"
     ]
    }
   ],
   "source": [
    "calculate_scores(y_test, y_pred, y_proba)"
   ]
  },
  {
   "cell_type": "code",
   "execution_count": 36,
   "id": "5269ae73",
   "metadata": {},
   "outputs": [
    {
     "name": "stderr",
     "output_type": "stream",
     "text": [
      "[02:48:50] WARNING: not removing hydrogen atom without neighbors\n",
      "[02:48:50] WARNING: not removing hydrogen atom without neighbors\n",
      "[02:48:50] WARNING: not removing hydrogen atom without neighbors\n",
      "[02:48:50] WARNING: not removing hydrogen atom without neighbors\n",
      "[02:48:50] WARNING: not removing hydrogen atom without neighbors\n",
      "[02:48:50] WARNING: not removing hydrogen atom without neighbors\n",
      "[02:48:50] WARNING: not removing hydrogen atom without neighbors\n",
      "[02:48:50] WARNING: not removing hydrogen atom without neighbors\n",
      "[02:48:50] WARNING: not removing hydrogen atom without neighbors\n",
      "[02:48:50] WARNING: not removing hydrogen atom without neighbors\n",
      "[02:48:50] WARNING: not removing hydrogen atom without neighbors\n",
      "[02:48:50] WARNING: not removing hydrogen atom without neighbors\n",
      "[02:48:50] WARNING: not removing hydrogen atom without neighbors\n",
      "[02:48:50] WARNING: not removing hydrogen atom without neighbors\n",
      "[02:48:50] WARNING: not removing hydrogen atom without neighbors\n",
      "[02:48:50] WARNING: not removing hydrogen atom without neighbors\n",
      "[02:48:50] WARNING: not removing hydrogen atom without neighbors\n",
      "[02:48:50] WARNING: not removing hydrogen atom without neighbors\n",
      "[02:48:50] WARNING: not removing hydrogen atom without neighbors\n",
      "[02:48:50] WARNING: not removing hydrogen atom without neighbors\n",
      "[02:48:50] WARNING: not removing hydrogen atom without neighbors\n",
      "[02:48:50] WARNING: not removing hydrogen atom without neighbors\n",
      "[02:48:50] WARNING: not removing hydrogen atom without neighbors\n",
      "[02:48:50] WARNING: not removing hydrogen atom without neighbors\n",
      "[02:48:50] WARNING: not removing hydrogen atom without neighbors\n",
      "[02:48:50] WARNING: not removing hydrogen atom without neighbors\n",
      "[02:48:50] WARNING: not removing hydrogen atom without neighbors\n",
      "[02:48:50] WARNING: not removing hydrogen atom without neighbors\n",
      "[02:48:50] WARNING: not removing hydrogen atom without neighbors\n",
      "[02:48:50] WARNING: not removing hydrogen atom without neighbors\n",
      "[02:48:50] WARNING: not removing hydrogen atom without neighbors\n",
      "[02:48:50] WARNING: not removing hydrogen atom without neighbors\n",
      "[02:48:50] WARNING: not removing hydrogen atom without neighbors\n",
      "[02:48:50] WARNING: not removing hydrogen atom without neighbors\n",
      "[02:48:50] WARNING: not removing hydrogen atom without neighbors\n",
      "[02:48:58] WARNING: not removing hydrogen atom without neighbors\n",
      "[02:48:58] WARNING: not removing hydrogen atom without neighbors\n",
      "[02:48:58] WARNING: not removing hydrogen atom without neighbors\n",
      "[02:48:58] WARNING: not removing hydrogen atom without neighbors\n",
      "[02:48:58] WARNING: not removing hydrogen atom without neighbors\n",
      "[02:49:00] WARNING: not removing hydrogen atom without neighbors\n",
      "[02:49:00] WARNING: not removing hydrogen atom without neighbors\n",
      "[02:49:00] WARNING: not removing hydrogen atom without neighbors\n",
      "[02:49:00] WARNING: not removing hydrogen atom without neighbors\n",
      "[02:49:00] WARNING: not removing hydrogen atom without neighbors\n"
     ]
    }
   ],
   "source": [
    "pipelines['rf_pipeline'].fit(smiles_bbbp_train, y_train)\n",
    "y_pred = pipelines['rf_pipeline'].predict(smiles_bbbp_test)\n",
    "y_proba = pipelines['rf_pipeline'].predict_proba(smiles_bbbp_test) "
   ]
  },
  {
   "cell_type": "code",
   "execution_count": 37,
   "id": "187b7094",
   "metadata": {},
   "outputs": [
    {
     "name": "stdout",
     "output_type": "stream",
     "text": [
      "R2 score for Linear regression model: -0.8630\n",
      "Accuracy for Linear regression model: 0.5368\n",
      "ROC-AUC score for Linear regression model: 0.4356\n"
     ]
    }
   ],
   "source": [
    "calculate_scores(y_test, y_pred, y_proba)"
   ]
  },
  {
   "cell_type": "code",
   "execution_count": 38,
   "id": "1893e960",
   "metadata": {},
   "outputs": [
    {
     "name": "stderr",
     "output_type": "stream",
     "text": [
      "[02:49:27] WARNING: not removing hydrogen atom without neighbors\n",
      "[02:49:27] WARNING: not removing hydrogen atom without neighbors\n",
      "[02:49:27] WARNING: not removing hydrogen atom without neighbors\n",
      "[02:49:27] WARNING: not removing hydrogen atom without neighbors\n",
      "[02:49:27] WARNING: not removing hydrogen atom without neighbors\n",
      "[02:49:27] WARNING: not removing hydrogen atom without neighbors\n",
      "[02:49:27] WARNING: not removing hydrogen atom without neighbors\n",
      "[02:49:27] WARNING: not removing hydrogen atom without neighbors\n",
      "[02:49:27] WARNING: not removing hydrogen atom without neighbors\n",
      "[02:49:27] WARNING: not removing hydrogen atom without neighbors\n",
      "[02:49:27] WARNING: not removing hydrogen atom without neighbors\n",
      "[02:49:27] WARNING: not removing hydrogen atom without neighbors\n",
      "[02:49:27] WARNING: not removing hydrogen atom without neighbors\n",
      "[02:49:27] WARNING: not removing hydrogen atom without neighbors\n",
      "[02:49:27] WARNING: not removing hydrogen atom without neighbors\n",
      "[02:49:27] WARNING: not removing hydrogen atom without neighbors\n",
      "[02:49:27] WARNING: not removing hydrogen atom without neighbors\n",
      "[02:49:27] WARNING: not removing hydrogen atom without neighbors\n",
      "[02:49:27] WARNING: not removing hydrogen atom without neighbors\n",
      "[02:49:27] WARNING: not removing hydrogen atom without neighbors\n",
      "[02:49:27] WARNING: not removing hydrogen atom without neighbors\n",
      "[02:49:27] WARNING: not removing hydrogen atom without neighbors\n",
      "[02:49:27] WARNING: not removing hydrogen atom without neighbors\n",
      "[02:49:27] WARNING: not removing hydrogen atom without neighbors\n",
      "[02:49:27] WARNING: not removing hydrogen atom without neighbors\n",
      "[02:49:27] WARNING: not removing hydrogen atom without neighbors\n",
      "[02:49:27] WARNING: not removing hydrogen atom without neighbors\n",
      "[02:49:27] WARNING: not removing hydrogen atom without neighbors\n",
      "[02:49:27] WARNING: not removing hydrogen atom without neighbors\n",
      "[02:49:27] WARNING: not removing hydrogen atom without neighbors\n",
      "[02:49:27] WARNING: not removing hydrogen atom without neighbors\n",
      "[02:49:27] WARNING: not removing hydrogen atom without neighbors\n",
      "[02:49:27] WARNING: not removing hydrogen atom without neighbors\n",
      "[02:49:27] WARNING: not removing hydrogen atom without neighbors\n",
      "[02:49:27] WARNING: not removing hydrogen atom without neighbors\n",
      "[02:50:09] WARNING: not removing hydrogen atom without neighbors\n",
      "[02:50:09] WARNING: not removing hydrogen atom without neighbors\n",
      "[02:50:09] WARNING: not removing hydrogen atom without neighbors\n",
      "[02:50:09] WARNING: not removing hydrogen atom without neighbors\n",
      "[02:50:09] WARNING: not removing hydrogen atom without neighbors\n",
      "[02:50:10] WARNING: not removing hydrogen atom without neighbors\n",
      "[02:50:10] WARNING: not removing hydrogen atom without neighbors\n",
      "[02:50:10] WARNING: not removing hydrogen atom without neighbors\n",
      "[02:50:10] WARNING: not removing hydrogen atom without neighbors\n",
      "[02:50:10] WARNING: not removing hydrogen atom without neighbors\n"
     ]
    }
   ],
   "source": [
    "pipelines['gb_pipeline'].fit(smiles_bbbp_train, y_train)\n",
    "y_pred = pipelines['gb_pipeline'].predict(smiles_bbbp_test)\n",
    "y_proba = pipelines['gb_pipeline'].predict_proba(smiles_bbbp_test) "
   ]
  },
  {
   "cell_type": "code",
   "execution_count": 39,
   "id": "7a8d33c1",
   "metadata": {},
   "outputs": [
    {
     "name": "stdout",
     "output_type": "stream",
     "text": [
      "R2 score for Linear regression model: -0.8630\n",
      "Accuracy for Linear regression model: 0.5368\n",
      "ROC-AUC score for Linear regression model: 0.3970\n"
     ]
    }
   ],
   "source": [
    "calculate_scores(y_test, y_pred, y_proba)"
   ]
  },
  {
   "cell_type": "code",
   "execution_count": 43,
   "id": "62adf1c1",
   "metadata": {},
   "outputs": [
    {
     "name": "stderr",
     "output_type": "stream",
     "text": [
      "[02:53:35] WARNING: not removing hydrogen atom without neighbors\n",
      "[02:53:35] WARNING: not removing hydrogen atom without neighbors\n",
      "[02:53:35] WARNING: not removing hydrogen atom without neighbors\n",
      "[02:53:35] WARNING: not removing hydrogen atom without neighbors\n",
      "[02:53:35] WARNING: not removing hydrogen atom without neighbors\n",
      "[02:53:35] WARNING: not removing hydrogen atom without neighbors\n",
      "[02:53:35] WARNING: not removing hydrogen atom without neighbors\n",
      "[02:53:35] WARNING: not removing hydrogen atom without neighbors\n",
      "[02:53:35] WARNING: not removing hydrogen atom without neighbors\n",
      "[02:53:35] WARNING: not removing hydrogen atom without neighbors\n",
      "[02:53:35] WARNING: not removing hydrogen atom without neighbors\n",
      "[02:53:35] WARNING: not removing hydrogen atom without neighbors\n",
      "[02:53:35] WARNING: not removing hydrogen atom without neighbors\n",
      "[02:53:35] WARNING: not removing hydrogen atom without neighbors\n",
      "[02:53:35] WARNING: not removing hydrogen atom without neighbors\n",
      "[02:53:35] WARNING: not removing hydrogen atom without neighbors\n",
      "[02:53:35] WARNING: not removing hydrogen atom without neighbors\n",
      "[02:53:35] WARNING: not removing hydrogen atom without neighbors\n",
      "[02:53:35] WARNING: not removing hydrogen atom without neighbors\n",
      "[02:53:35] WARNING: not removing hydrogen atom without neighbors\n",
      "[02:53:35] WARNING: not removing hydrogen atom without neighbors\n",
      "[02:53:35] WARNING: not removing hydrogen atom without neighbors\n",
      "[02:53:35] WARNING: not removing hydrogen atom without neighbors\n",
      "[02:53:35] WARNING: not removing hydrogen atom without neighbors\n",
      "[02:53:35] WARNING: not removing hydrogen atom without neighbors\n",
      "[02:53:35] WARNING: not removing hydrogen atom without neighbors\n",
      "[02:53:35] WARNING: not removing hydrogen atom without neighbors\n",
      "[02:53:35] WARNING: not removing hydrogen atom without neighbors\n",
      "[02:53:35] WARNING: not removing hydrogen atom without neighbors\n",
      "[02:53:35] WARNING: not removing hydrogen atom without neighbors\n",
      "[02:53:35] WARNING: not removing hydrogen atom without neighbors\n",
      "[02:53:35] WARNING: not removing hydrogen atom without neighbors\n",
      "[02:53:35] WARNING: not removing hydrogen atom without neighbors\n",
      "[02:53:35] WARNING: not removing hydrogen atom without neighbors\n",
      "[02:53:35] WARNING: not removing hydrogen atom without neighbors\n",
      "[02:53:41] WARNING: not removing hydrogen atom without neighbors\n",
      "[02:53:41] WARNING: not removing hydrogen atom without neighbors\n",
      "[02:53:41] WARNING: not removing hydrogen atom without neighbors\n",
      "[02:53:41] WARNING: not removing hydrogen atom without neighbors\n",
      "[02:53:41] WARNING: not removing hydrogen atom without neighbors\n",
      "[02:53:43] WARNING: not removing hydrogen atom without neighbors\n",
      "[02:53:43] WARNING: not removing hydrogen atom without neighbors\n",
      "[02:53:43] WARNING: not removing hydrogen atom without neighbors\n",
      "[02:53:43] WARNING: not removing hydrogen atom without neighbors\n",
      "[02:53:43] WARNING: not removing hydrogen atom without neighbors\n"
     ]
    }
   ],
   "source": [
    "pipelines['knc_pipeline'].fit(smiles_bbbp_train, y_train)\n",
    "y_pred = pipelines['knc_pipeline'].predict(smiles_bbbp_test)\n",
    "y_proba = pipelines['knc_pipeline'].predict_proba(smiles_bbbp_test) "
   ]
  },
  {
   "cell_type": "code",
   "execution_count": 44,
   "id": "717ca0d5",
   "metadata": {},
   "outputs": [
    {
     "name": "stdout",
     "output_type": "stream",
     "text": [
      "R2 score for Linear regression model: -0.8433\n",
      "Accuracy for Linear regression model: 0.5417\n",
      "ROC-AUC score for Linear regression model: 0.4331\n"
     ]
    }
   ],
   "source": [
    "calculate_scores(y_test, y_pred, y_proba)"
   ]
  },
  {
   "cell_type": "code",
   "execution_count": 61,
   "id": "18aedde8",
   "metadata": {},
   "outputs": [
    {
     "name": "stderr",
     "output_type": "stream",
     "text": [
      "[03:03:48] WARNING: not removing hydrogen atom without neighbors\n",
      "[03:03:48] WARNING: not removing hydrogen atom without neighbors\n",
      "[03:03:48] WARNING: not removing hydrogen atom without neighbors\n",
      "[03:03:49] WARNING: not removing hydrogen atom without neighbors\n",
      "[03:03:49] WARNING: not removing hydrogen atom without neighbors\n",
      "[03:03:49] WARNING: not removing hydrogen atom without neighbors\n",
      "[03:03:49] WARNING: not removing hydrogen atom without neighbors\n",
      "[03:03:49] WARNING: not removing hydrogen atom without neighbors\n",
      "[03:03:49] WARNING: not removing hydrogen atom without neighbors\n",
      "[03:03:49] WARNING: not removing hydrogen atom without neighbors\n",
      "[03:03:49] WARNING: not removing hydrogen atom without neighbors\n",
      "[03:03:49] WARNING: not removing hydrogen atom without neighbors\n",
      "[03:03:49] WARNING: not removing hydrogen atom without neighbors\n",
      "[03:03:49] WARNING: not removing hydrogen atom without neighbors\n",
      "[03:03:49] WARNING: not removing hydrogen atom without neighbors\n",
      "[03:03:49] WARNING: not removing hydrogen atom without neighbors\n",
      "[03:03:49] WARNING: not removing hydrogen atom without neighbors\n",
      "[03:03:49] WARNING: not removing hydrogen atom without neighbors\n",
      "[03:03:49] WARNING: not removing hydrogen atom without neighbors\n",
      "[03:03:49] WARNING: not removing hydrogen atom without neighbors\n",
      "[03:03:49] WARNING: not removing hydrogen atom without neighbors\n",
      "[03:03:49] WARNING: not removing hydrogen atom without neighbors\n",
      "[03:03:49] WARNING: not removing hydrogen atom without neighbors\n",
      "[03:03:49] WARNING: not removing hydrogen atom without neighbors\n",
      "[03:03:49] WARNING: not removing hydrogen atom without neighbors\n",
      "[03:03:49] WARNING: not removing hydrogen atom without neighbors\n",
      "[03:03:49] WARNING: not removing hydrogen atom without neighbors\n",
      "[03:03:49] WARNING: not removing hydrogen atom without neighbors\n",
      "[03:03:49] WARNING: not removing hydrogen atom without neighbors\n",
      "[03:03:49] WARNING: not removing hydrogen atom without neighbors\n",
      "[03:03:49] WARNING: not removing hydrogen atom without neighbors\n",
      "[03:03:49] WARNING: not removing hydrogen atom without neighbors\n",
      "[03:03:49] WARNING: not removing hydrogen atom without neighbors\n",
      "[03:03:49] WARNING: not removing hydrogen atom without neighbors\n",
      "[03:03:49] WARNING: not removing hydrogen atom without neighbors\n",
      "[03:04:36] WARNING: not removing hydrogen atom without neighbors\n",
      "[03:04:36] WARNING: not removing hydrogen atom without neighbors\n",
      "[03:04:36] WARNING: not removing hydrogen atom without neighbors\n",
      "[03:04:36] WARNING: not removing hydrogen atom without neighbors\n",
      "[03:04:36] WARNING: not removing hydrogen atom without neighbors\n",
      "[03:04:40] WARNING: not removing hydrogen atom without neighbors\n",
      "[03:04:40] WARNING: not removing hydrogen atom without neighbors\n",
      "[03:04:40] WARNING: not removing hydrogen atom without neighbors\n",
      "[03:04:40] WARNING: not removing hydrogen atom without neighbors\n",
      "[03:04:40] WARNING: not removing hydrogen atom without neighbors\n"
     ]
    }
   ],
   "source": [
    "pipelines['svm_pipeline'].fit(smiles_bbbp_train, y_train)\n",
    "y_pred = pipelines['svm_pipeline'].predict(smiles_bbbp_test)\n",
    "y_proba = pipelines['svm_pipeline'].predict_proba(smiles_bbbp_test) "
   ]
  },
  {
   "cell_type": "code",
   "execution_count": 62,
   "id": "b8930fee",
   "metadata": {},
   "outputs": [
    {
     "name": "stdout",
     "output_type": "stream",
     "text": [
      "R2 score for Linear regression model: -0.8630\n",
      "Accuracy for Linear regression model: 0.5368\n",
      "ROC-AUC score for Linear regression model: 0.4393\n"
     ]
    }
   ],
   "source": [
    "calculate_scores(y_test, y_pred, y_proba)"
   ]
  },
  {
   "cell_type": "code",
   "execution_count": 52,
   "id": "3e1622cf",
   "metadata": {},
   "outputs": [
    {
     "name": "stderr",
     "output_type": "stream",
     "text": [
      "[02:57:13] WARNING: not removing hydrogen atom without neighbors\n",
      "[02:57:13] WARNING: not removing hydrogen atom without neighbors\n",
      "[02:57:13] WARNING: not removing hydrogen atom without neighbors\n",
      "[02:57:13] WARNING: not removing hydrogen atom without neighbors\n",
      "[02:57:13] WARNING: not removing hydrogen atom without neighbors\n",
      "[02:57:13] WARNING: not removing hydrogen atom without neighbors\n",
      "[02:57:13] WARNING: not removing hydrogen atom without neighbors\n",
      "[02:57:13] WARNING: not removing hydrogen atom without neighbors\n",
      "[02:57:13] WARNING: not removing hydrogen atom without neighbors\n",
      "[02:57:13] WARNING: not removing hydrogen atom without neighbors\n",
      "[02:57:13] WARNING: not removing hydrogen atom without neighbors\n",
      "[02:57:13] WARNING: not removing hydrogen atom without neighbors\n",
      "[02:57:13] WARNING: not removing hydrogen atom without neighbors\n",
      "[02:57:13] WARNING: not removing hydrogen atom without neighbors\n",
      "[02:57:13] WARNING: not removing hydrogen atom without neighbors\n",
      "[02:57:13] WARNING: not removing hydrogen atom without neighbors\n",
      "[02:57:13] WARNING: not removing hydrogen atom without neighbors\n",
      "[02:57:13] WARNING: not removing hydrogen atom without neighbors\n",
      "[02:57:13] WARNING: not removing hydrogen atom without neighbors\n",
      "[02:57:13] WARNING: not removing hydrogen atom without neighbors\n",
      "[02:57:13] WARNING: not removing hydrogen atom without neighbors\n",
      "[02:57:13] WARNING: not removing hydrogen atom without neighbors\n",
      "[02:57:13] WARNING: not removing hydrogen atom without neighbors\n",
      "[02:57:13] WARNING: not removing hydrogen atom without neighbors\n",
      "[02:57:13] WARNING: not removing hydrogen atom without neighbors\n",
      "[02:57:13] WARNING: not removing hydrogen atom without neighbors\n",
      "[02:57:13] WARNING: not removing hydrogen atom without neighbors\n",
      "[02:57:13] WARNING: not removing hydrogen atom without neighbors\n",
      "[02:57:13] WARNING: not removing hydrogen atom without neighbors\n",
      "[02:57:13] WARNING: not removing hydrogen atom without neighbors\n",
      "[02:57:13] WARNING: not removing hydrogen atom without neighbors\n",
      "[02:57:13] WARNING: not removing hydrogen atom without neighbors\n",
      "[02:57:13] WARNING: not removing hydrogen atom without neighbors\n",
      "[02:57:13] WARNING: not removing hydrogen atom without neighbors\n",
      "[02:57:13] WARNING: not removing hydrogen atom without neighbors\n",
      "[02:57:19] WARNING: not removing hydrogen atom without neighbors\n",
      "[02:57:19] WARNING: not removing hydrogen atom without neighbors\n",
      "[02:57:19] WARNING: not removing hydrogen atom without neighbors\n",
      "[02:57:19] WARNING: not removing hydrogen atom without neighbors\n",
      "[02:57:19] WARNING: not removing hydrogen atom without neighbors\n",
      "[02:57:21] WARNING: not removing hydrogen atom without neighbors\n",
      "[02:57:21] WARNING: not removing hydrogen atom without neighbors\n",
      "[02:57:21] WARNING: not removing hydrogen atom without neighbors\n",
      "[02:57:21] WARNING: not removing hydrogen atom without neighbors\n",
      "[02:57:21] WARNING: not removing hydrogen atom without neighbors\n"
     ]
    }
   ],
   "source": [
    "pipelines['GNB_pipeline'].fit(smiles_bbbp_train, y_train)\n",
    "y_pred = pipelines['GNB_pipeline'].predict(smiles_bbbp_test)\n",
    "y_proba = pipelines['GNB_pipeline'].predict_proba(smiles_bbbp_test) "
   ]
  },
  {
   "cell_type": "code",
   "execution_count": 53,
   "id": "020d225e",
   "metadata": {},
   "outputs": [
    {
     "name": "stdout",
     "output_type": "stream",
     "text": [
      "R2 score for Linear regression model: -1.0799\n",
      "Accuracy for Linear regression model: 0.4828\n",
      "ROC-AUC score for Linear regression model: 0.4579\n"
     ]
    }
   ],
   "source": [
    "calculate_scores(y_test, y_pred, y_proba)"
   ]
  },
  {
   "cell_type": "code",
   "execution_count": 56,
   "id": "2f5c86c3",
   "metadata": {},
   "outputs": [
    {
     "name": "stderr",
     "output_type": "stream",
     "text": [
      "[02:59:03] WARNING: not removing hydrogen atom without neighbors\n",
      "[02:59:03] WARNING: not removing hydrogen atom without neighbors\n",
      "[02:59:03] WARNING: not removing hydrogen atom without neighbors\n",
      "[02:59:03] WARNING: not removing hydrogen atom without neighbors\n",
      "[02:59:03] WARNING: not removing hydrogen atom without neighbors\n",
      "[02:59:03] WARNING: not removing hydrogen atom without neighbors\n",
      "[02:59:03] WARNING: not removing hydrogen atom without neighbors\n",
      "[02:59:03] WARNING: not removing hydrogen atom without neighbors\n",
      "[02:59:03] WARNING: not removing hydrogen atom without neighbors\n",
      "[02:59:03] WARNING: not removing hydrogen atom without neighbors\n",
      "[02:59:03] WARNING: not removing hydrogen atom without neighbors\n",
      "[02:59:03] WARNING: not removing hydrogen atom without neighbors\n",
      "[02:59:03] WARNING: not removing hydrogen atom without neighbors\n",
      "[02:59:03] WARNING: not removing hydrogen atom without neighbors\n",
      "[02:59:03] WARNING: not removing hydrogen atom without neighbors\n",
      "[02:59:03] WARNING: not removing hydrogen atom without neighbors\n",
      "[02:59:03] WARNING: not removing hydrogen atom without neighbors\n",
      "[02:59:03] WARNING: not removing hydrogen atom without neighbors\n",
      "[02:59:03] WARNING: not removing hydrogen atom without neighbors\n",
      "[02:59:03] WARNING: not removing hydrogen atom without neighbors\n",
      "[02:59:03] WARNING: not removing hydrogen atom without neighbors\n",
      "[02:59:03] WARNING: not removing hydrogen atom without neighbors\n",
      "[02:59:03] WARNING: not removing hydrogen atom without neighbors\n",
      "[02:59:03] WARNING: not removing hydrogen atom without neighbors\n",
      "[02:59:03] WARNING: not removing hydrogen atom without neighbors\n",
      "[02:59:03] WARNING: not removing hydrogen atom without neighbors\n",
      "[02:59:03] WARNING: not removing hydrogen atom without neighbors\n",
      "[02:59:03] WARNING: not removing hydrogen atom without neighbors\n",
      "[02:59:03] WARNING: not removing hydrogen atom without neighbors\n",
      "[02:59:03] WARNING: not removing hydrogen atom without neighbors\n",
      "[02:59:03] WARNING: not removing hydrogen atom without neighbors\n",
      "[02:59:03] WARNING: not removing hydrogen atom without neighbors\n",
      "[02:59:03] WARNING: not removing hydrogen atom without neighbors\n",
      "[02:59:03] WARNING: not removing hydrogen atom without neighbors\n",
      "[02:59:03] WARNING: not removing hydrogen atom without neighbors\n",
      "/home/adrian/anaconda3/envs/um-labs/lib/python3.12/site-packages/sklearn/neural_network/_multilayer_perceptron.py:545: ConvergenceWarning: lbfgs failed to converge (status=1):\n",
      "STOP: TOTAL NO. of ITERATIONS REACHED LIMIT.\n",
      "\n",
      "Increase the number of iterations (max_iter) or scale the data as shown in:\n",
      "    https://scikit-learn.org/stable/modules/preprocessing.html\n",
      "  self.n_iter_ = _check_optimize_result(\"lbfgs\", opt_res, self.max_iter)\n",
      "[02:59:43] WARNING: not removing hydrogen atom without neighbors\n",
      "[02:59:43] WARNING: not removing hydrogen atom without neighbors\n",
      "[02:59:43] WARNING: not removing hydrogen atom without neighbors\n",
      "[02:59:43] WARNING: not removing hydrogen atom without neighbors\n",
      "[02:59:43] WARNING: not removing hydrogen atom without neighbors\n",
      "[02:59:45] WARNING: not removing hydrogen atom without neighbors\n",
      "[02:59:45] WARNING: not removing hydrogen atom without neighbors\n",
      "[02:59:45] WARNING: not removing hydrogen atom without neighbors\n",
      "[02:59:45] WARNING: not removing hydrogen atom without neighbors\n",
      "[02:59:45] WARNING: not removing hydrogen atom without neighbors\n"
     ]
    }
   ],
   "source": [
    "pipelines['mlp_pipeline'].fit(smiles_bbbp_train, y_train)\n",
    "y_pred = pipelines['mlp_pipeline'].predict(smiles_bbbp_test)\n",
    "y_proba = pipelines['mlp_pipeline'].predict_proba(smiles_bbbp_test) "
   ]
  },
  {
   "cell_type": "code",
   "execution_count": 57,
   "id": "c8679d0e",
   "metadata": {},
   "outputs": [
    {
     "name": "stdout",
     "output_type": "stream",
     "text": [
      "R2 score for Linear regression model: -1.0306\n",
      "Accuracy for Linear regression model: 0.4951\n",
      "ROC-AUC score for Linear regression model: 0.4528\n"
     ]
    }
   ],
   "source": [
    "calculate_scores(y_test, y_pred, y_proba)"
   ]
  },
  {
   "cell_type": "markdown",
   "id": "68983643",
   "metadata": {},
   "source": [
    "## ESOL"
   ]
  },
  {
   "cell_type": "code",
   "execution_count": 66,
   "id": "7f157638",
   "metadata": {},
   "outputs": [],
   "source": [
    "smiles, labels = load_esol()"
   ]
  },
  {
   "cell_type": "code",
   "execution_count": 67,
   "id": "e4ee90a3",
   "metadata": {},
   "outputs": [
    {
     "name": "stdout",
     "output_type": "stream",
     "text": [
      "1128\n",
      "OCC3OC(OCC2OC(OC(C#N)c1ccccc1)C(O)C(O)C2O)C(O)C(O)C3O  -0.77\n",
      "Cc1occc1C(=O)Nc2ccccc2 -3.3\n"
     ]
    }
   ],
   "source": [
    "print(len(smiles))\n",
    "print(smiles[0], labels[0])\n",
    "print(smiles[1], labels[1])"
   ]
  },
  {
   "cell_type": "markdown",
   "id": "13848d56",
   "metadata": {},
   "source": [
    "## LIPOP"
   ]
  },
  {
   "cell_type": "code",
   "execution_count": 68,
   "id": "ee660e97",
   "metadata": {},
   "outputs": [],
   "source": [
    "smiles, labels = load_lipophilicity()"
   ]
  },
  {
   "cell_type": "code",
   "execution_count": 69,
   "id": "d373037f",
   "metadata": {},
   "outputs": [
    {
     "name": "stdout",
     "output_type": "stream",
     "text": [
      "4200\n",
      "Cn1c(CN2CCN(CC2)c3ccc(Cl)cc3)nc4ccccc14 3.54\n",
      "COc1cc(OC)c(cc1NC(=O)CSCC(=O)O)S(=O)(=O)N2C(C)CCc3ccccc23 -1.18\n"
     ]
    }
   ],
   "source": [
    "print(len(smiles))\n",
    "print(smiles[0], labels[0])\n",
    "print(smiles[1], labels[1])"
   ]
  },
  {
   "cell_type": "markdown",
   "id": "2846b357",
   "metadata": {},
   "source": [
    "## MUV"
   ]
  },
  {
   "cell_type": "code",
   "execution_count": 70,
   "id": "1be24ed3",
   "metadata": {},
   "outputs": [],
   "source": [
    "smiles, labels = load_muv()"
   ]
  },
  {
   "cell_type": "code",
   "execution_count": 71,
   "id": "04fa9c71",
   "metadata": {},
   "outputs": [
    {
     "name": "stdout",
     "output_type": "stream",
     "text": [
      "93087\n",
      "Cc1cccc(N2CCN(C(=O)C34CC5CC(CC(C5)C3)C4)CC2)c1C [nan nan nan nan nan nan nan  0. nan nan nan  0. nan nan nan nan nan]\n",
      "Cn1ccnc1SCC(=O)Nc1ccc(Oc2ccccc2)cc1 [ 0.  0. nan nan  0.  0.  0. nan nan nan  0. nan  0. nan nan  0.  0.]\n"
     ]
    }
   ],
   "source": [
    "print(len(smiles))\n",
    "print(smiles[0], labels[0])\n",
    "print(smiles[1], labels[1])"
   ]
  },
  {
   "cell_type": "markdown",
   "id": "14687f5a",
   "metadata": {},
   "source": [
    "## PCBA"
   ]
  },
  {
   "cell_type": "code",
   "execution_count": 72,
   "id": "43aee310",
   "metadata": {},
   "outputs": [],
   "source": [
    "smiles, labels = load_pcba()"
   ]
  },
  {
   "cell_type": "code",
   "execution_count": 73,
   "id": "6f2e0255",
   "metadata": {},
   "outputs": [
    {
     "name": "stdout",
     "output_type": "stream",
     "text": [
      "437929\n",
      "CC(=O)N1CCC2(CC1)NC(=O)N(c1ccccc1)N2 [ 0.  0. nan  0.  0.  0.  0.  0.  0.  0.  0.  0.  0.  0.  0.  0. nan  0.\n",
      "  0.  0. nan  0.  0.  0.  0.  0.  0.  0.  0.  0. nan  0.  0.  0.  0.  0.\n",
      "  0.  0.  0.  0.  0. nan  0.  0.  0. nan  0. nan  0.  0. nan  0.  0.  0.\n",
      "  0.  0.  0.  0. nan  0.  0.  0.  0.  0.  0.  0.  0.  0.  0.  0.  0.  0.\n",
      "  0.  0.  0.  0.  0.  0.  0.  0.  0.  0.  0. nan  0.  0.  0. nan  0.  0.\n",
      "  0.  0.  1. nan  0.  0. nan  0.  0.  0.  0.  0.  0.  0.  0.  0.  0.  0.\n",
      " nan nan nan nan nan nan nan nan nan nan nan nan nan nan nan nan nan nan\n",
      " nan nan]\n",
      "N#Cc1nnn(-c2ccc(Cl)cc2)c1N [ 0.  0. nan  0.  0. nan  0.  0.  0.  0.  0.  0.  0.  0.  0.  0.  0.  0.\n",
      "  0.  0.  0.  0.  0.  0.  0.  0.  0.  0.  0.  0. nan  0.  0.  0.  0.  0.\n",
      "  0.  0.  0.  0.  0.  0.  0.  0.  0. nan  0.  0.  0.  0.  0.  0.  0.  0.\n",
      "  0.  0.  0.  0. nan  0.  0.  0.  0.  0.  0.  0.  0.  0.  0.  0.  0.  0.\n",
      "  0.  0.  0.  0.  0.  0.  0.  0.  0.  0.  0.  0.  0.  0.  0.  0.  0.  0.\n",
      "  0.  0.  0.  0.  0.  0. nan  0.  0.  0. nan nan  0.  0.  0.  0.  0.  0.\n",
      " nan nan nan nan nan nan nan nan nan nan nan nan nan nan nan nan nan nan\n",
      " nan nan]\n"
     ]
    }
   ],
   "source": [
    "print(len(smiles))\n",
    "print(smiles[0], labels[0])\n",
    "print(smiles[1], labels[1])"
   ]
  },
  {
   "cell_type": "markdown",
   "id": "1b046baf",
   "metadata": {},
   "source": [
    "## TOX21"
   ]
  },
  {
   "cell_type": "code",
   "execution_count": 74,
   "id": "57213c2a",
   "metadata": {},
   "outputs": [],
   "source": [
    "smiles, labels = load_tox21()"
   ]
  },
  {
   "cell_type": "code",
   "execution_count": 75,
   "id": "0c3af677",
   "metadata": {},
   "outputs": [
    {
     "name": "stdout",
     "output_type": "stream",
     "text": [
      "7831\n",
      "CCOc1ccc2nc(S(N)(=O)=O)sc2c1 [ 0.  0.  1. nan nan  0.  0.  1.  0.  0.  0.  0.]\n",
      "CCN1C(=O)NC(c2ccccc2)C1=O [ 0.  0.  0.  0.  0.  0.  0. nan  0. nan  0.  0.]\n"
     ]
    }
   ],
   "source": [
    "print(len(smiles))\n",
    "print(smiles[0], labels[0])\n",
    "print(smiles[1], labels[1])"
   ]
  },
  {
   "cell_type": "markdown",
   "id": "18f3c104",
   "metadata": {},
   "source": [
    "## TOXCAST"
   ]
  },
  {
   "cell_type": "code",
   "execution_count": 76,
   "id": "0dd7d6ed",
   "metadata": {},
   "outputs": [],
   "source": [
    "smiles, labels = load_toxcast()"
   ]
  },
  {
   "cell_type": "code",
   "execution_count": 77,
   "id": "dc95fb03",
   "metadata": {},
   "outputs": [
    {
     "name": "stdout",
     "output_type": "stream",
     "text": [
      "8576\n",
      "[O-][N+](=O)C1=CC=C(Cl)C=C1 [ 0.  0. nan nan nan nan nan nan nan nan nan nan nan nan nan nan nan nan\n",
      " nan nan nan nan nan nan nan nan nan nan nan nan nan nan nan nan nan nan\n",
      " nan nan nan nan nan nan nan nan nan  0.  0.  0.  0.  0.  0.  0.  0.  0.\n",
      "  0.  0.  0.  0.  0.  0.  0.  0.  0.  0.  0.  0.  0.  0.  0.  0.  0.  0.\n",
      "  0.  0.  0.  0.  0.  0.  0.  0.  0.  0.  0.  0.  0.  0.  0.  0.  0.  0.\n",
      "  0.  0.  0.  0.  0.  0.  0.  0.  0.  0.  0.  0.  0.  0.  0.  0.  0.  0.\n",
      "  0.  0.  0.  0.  0.  0.  0.  0.  0.  0.  0.  0.  0.  0.  0.  0.  0.  0.\n",
      "  0.  0.  0.  0.  0.  0.  0.  0.  0.  0.  0.  0.  1.  0.  0.  0.  0.  0.\n",
      "  0.  0.  0.  0.  0.  0.  0.  0.  0.  0.  0.  0.  0.  0.  0.  0.  0.  0.\n",
      "  0.  0.  0.  0.  0.  0.  0.  0.  0.  0.  0.  0.  0.  0.  0.  0.  0.  0.\n",
      "  0.  0.  0.  0.  0.  0.  0.  0.  0.  0.  0.  0.  0.  0.  0.  0.  0.  0.\n",
      "  0.  0.  0.  0.  0.  0.  0.  0.  0.  0.  0.  0.  0.  0.  0.  0.  0.  0.\n",
      "  0.  0.  0.  0.  0.  0.  0.  0.  0.  0.  0.  0.  0.  0.  0.  0.  0.  0.\n",
      "  0.  0.  0.  0.  0.  0.  0.  0.  0.  0.  0.  0.  0.  0.  0.  0.  0.  0.\n",
      "  0.  0.  0.  0.  0.  0.  0.  0.  0.  0.  0.  0.  0.  0.  0.  0.  0.  0.\n",
      "  0.  0.  0.  0.  0.  0.  0.  0.  0.  0.  0.  0.  0.  0.  0.  0.  0.  0.\n",
      "  0.  0.  0.  0.  0.  0.  0.  0.  0.  0.  0.  0.  0.  0.  0.  0.  0.  0.\n",
      " nan nan nan nan nan nan nan nan nan nan nan nan nan nan nan nan nan nan\n",
      " nan nan nan nan nan nan nan nan nan nan nan nan nan nan nan nan nan nan\n",
      " nan nan nan nan nan nan nan nan nan nan nan nan nan nan nan  0.  0. nan\n",
      " nan  0. nan nan nan  0. nan nan nan nan nan nan nan  0. nan  1.  0. nan\n",
      "  1. nan  0. nan nan nan nan nan  0. nan  1. nan  0. nan nan nan nan nan\n",
      " nan nan nan nan nan nan nan nan nan nan nan nan nan nan nan nan nan nan\n",
      " nan nan nan nan nan nan nan nan nan nan nan nan nan nan nan nan nan nan\n",
      " nan nan nan nan nan nan nan nan nan nan nan nan nan nan nan nan nan nan\n",
      " nan nan nan nan nan nan nan nan nan  0. nan nan  0. nan nan nan  0. nan\n",
      " nan nan  0. nan nan nan nan nan nan nan nan  0. nan nan nan nan  0.  0.\n",
      "  0.  0.  0.  0.  0.  0.  0.  0.  0.  0.  0.  0.  0.  0.  0.  0.  0.  0.\n",
      "  0.  0.  0.  0.  0.  0.  0.  0.  0.  0.  0.  0.  0.  0.  0.  0.  0.  0.\n",
      "  0.  0.  0.  0.  0.  0.  0.  0.  0.  0.  0.  0.  0.  0.  0.  0.  0.  0.\n",
      "  0.  0.  0.  0.  0.  0.  0.  0.  0.  0.  0.  0.  0.  0.  0.  0.  0.  0.\n",
      "  0.  0.  0.  0.  0.  0.  0.  0.  0.  0.  0.  0.  0.  0.  0.  0.  0.  0.\n",
      "  0.  0.  0.  0.  0.  0.  0.  0.  1.  0.  1.  0.  0.  0.  0.  0.  0.  0.\n",
      "  0.  0.  0.  0.  0.  0.  0.  0.  0.  0.  0.  0.  0.  0.  0.  0.  0.  0.\n",
      "  0.  0.  0.  0.  0.]\n",
      "C[SiH](C)O[Si](C)(C)O[Si](C)(C)O[SiH](C)C [nan nan nan nan nan nan nan nan nan nan nan nan nan nan nan nan nan nan\n",
      " nan nan nan nan nan nan nan nan nan nan nan nan nan nan nan nan nan nan\n",
      " nan nan nan nan nan nan nan nan nan nan nan nan nan nan nan nan nan nan\n",
      " nan nan nan nan nan nan nan nan nan nan nan nan nan nan nan nan nan nan\n",
      " nan nan nan nan nan nan nan nan nan nan nan nan nan nan nan nan nan nan\n",
      " nan nan nan nan nan nan nan nan nan nan nan nan nan nan nan nan nan nan\n",
      " nan nan nan nan nan nan nan nan nan nan nan nan nan nan nan nan nan nan\n",
      " nan nan nan nan nan nan nan nan nan nan nan nan nan nan nan nan nan nan\n",
      " nan nan nan nan nan nan nan nan nan nan nan nan nan nan nan nan nan nan\n",
      " nan nan nan nan nan nan nan nan nan nan nan nan nan nan nan nan nan nan\n",
      " nan nan nan nan nan nan nan nan nan nan nan nan nan nan nan nan nan nan\n",
      " nan nan nan nan nan nan nan nan nan nan nan nan nan nan nan nan nan nan\n",
      " nan nan nan nan nan nan nan nan nan nan nan nan nan nan nan nan nan nan\n",
      " nan nan nan nan nan nan nan nan nan nan nan nan nan nan nan nan nan nan\n",
      " nan nan nan nan nan nan nan nan nan nan nan nan nan nan nan nan nan nan\n",
      " nan nan nan nan nan nan nan nan nan nan nan nan nan nan nan nan nan nan\n",
      " nan nan nan nan nan nan nan nan nan nan nan nan nan nan nan nan nan nan\n",
      " nan nan nan nan nan nan nan nan nan nan nan nan nan nan nan nan nan nan\n",
      " nan nan nan nan nan nan nan nan nan nan nan nan nan nan nan nan nan nan\n",
      " nan nan nan nan nan nan nan nan nan nan nan nan nan nan nan nan nan nan\n",
      " nan nan nan nan nan nan nan nan nan nan nan nan nan nan nan nan nan nan\n",
      " nan nan nan nan nan nan nan nan nan nan nan nan nan nan nan nan nan nan\n",
      " nan nan nan nan nan nan nan nan nan nan nan nan nan nan nan nan nan nan\n",
      " nan nan nan nan nan nan nan nan nan nan nan nan nan nan nan nan nan nan\n",
      " nan nan nan nan nan nan nan nan nan nan nan nan nan nan nan nan nan nan\n",
      " nan nan nan nan nan nan nan nan nan nan nan nan nan nan nan nan nan nan\n",
      " nan nan nan nan nan nan nan nan nan nan nan nan nan nan nan nan nan nan\n",
      " nan nan nan nan nan nan nan nan nan nan nan nan nan  0.  0.  0.  0.  0.\n",
      "  0.  0.  0.  0.  0.  0.  0.  0.  0.  0.  0.  0.  0.  0.  0.  0.  0.  0.\n",
      "  0.  0.  0.  0.  0.  0.  0.  0.  0.  0.  0.  0.  0.  0.  0.  0.  0.  0.\n",
      "  0.  0.  0.  0.  0.  0.  0.  0.  0.  0.  0.  0.  0.  0.  0.  0.  0.  0.\n",
      "  0.  0.  0.  0.  0.  0.  0.  0.  0.  0.  0.  0.  0.  0.  0.  0.  0.  0.\n",
      "  0.  0.  0.  0.  0.  0.  0.  0.  0.  0.  0.  0.  0.  0.  0.  0.  0.  0.\n",
      "  0.  0.  0.  0.  0. nan nan nan nan nan nan nan nan nan nan nan nan nan\n",
      " nan nan nan nan nan]\n"
     ]
    }
   ],
   "source": [
    "print(len(smiles))\n",
    "print(smiles[0], labels[0])\n",
    "print(smiles[1], labels[1])"
   ]
  },
  {
   "cell_type": "code",
   "execution_count": null,
   "id": "ad581e37",
   "metadata": {},
   "outputs": [],
   "source": []
  }
 ],
 "metadata": {
  "kernelspec": {
   "display_name": ".venv",
   "language": "python",
   "name": "python3"
  },
  "language_info": {
   "codemirror_mode": {
    "name": "ipython",
    "version": 3
   },
   "file_extension": ".py",
   "mimetype": "text/x-python",
   "name": "python",
   "nbconvert_exporter": "python",
   "pygments_lexer": "ipython3",
   "version": "3.12.7"
  }
 },
 "nbformat": 4,
 "nbformat_minor": 5
}
