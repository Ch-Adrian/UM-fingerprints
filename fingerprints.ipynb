{
 "cells": [
  {
   "cell_type": "code",
   "execution_count": 1,
   "metadata": {},
   "outputs": [
    {
     "name": "stdout",
     "output_type": "stream",
     "text": [
      "[[0 0 0 ... 0 0 0]\n",
      " [0 0 0 ... 0 0 0]]\n"
     ]
    }
   ],
   "source": [
    "from skfp.fingerprints import AtomPairFingerprint\n",
    "\n",
    "smiles_list = [\"O=S(=O)(O)CCS(=O)(=O)O\", \"O=C(O)c1ccccc1O\"]\n",
    "\n",
    "atom_pair_fingerprint = AtomPairFingerprint()\n",
    "\n",
    "X = atom_pair_fingerprint.transform(smiles_list)\n",
    "print(X)"
   ]
  },
  {
   "cell_type": "code",
   "execution_count": 2,
   "metadata": {},
   "outputs": [
    {
     "name": "stdout",
     "output_type": "stream",
     "text": [
      "True\n",
      "[[4.3190e+00 1.1930e+00 6.3200e-01 7.0300e-01 1.9400e-01 2.0000e-01\n",
      "  2.0000e-01 2.0000e-01 5.8300e-01 5.5600e-01 3.3000e-01 5.2330e+00\n",
      "  6.6900e-01 5.3100e-01 8.1300e-01 1.0400e-01 2.0000e-01 2.0000e-01\n",
      "  2.0000e-01 9.2700e-01 1.2300e-01 2.2800e-01 4.4720e+00 8.5600e-01\n",
      "  5.4000e-01 7.6200e-01 1.4600e-01 2.0000e-01 2.0000e-01 2.0000e-01\n",
      "  6.5800e-01 2.3500e-01 2.5100e-01 4.6300e+00 1.1790e+00 6.7000e-01\n",
      "  7.1500e-01 1.8200e-01 2.0000e-01 2.0000e-01 2.0500e-01 6.7900e-01\n",
      "  5.3900e-01 3.7800e-01 3.9780e+00 8.2700e-01 4.2700e-01 7.6000e-01\n",
      "  1.5800e-01 2.0000e-01 2.0000e-01 2.0000e-01 5.1100e-01 2.4600e-01\n",
      "  1.5800e-01 4.4130e+00 1.2420e+00 6.6500e-01 6.9800e-01 1.9700e-01\n",
      "  2.0000e-01 2.0000e-01 2.0000e-01 6.0700e-01 6.0000e-01 3.6400e-01\n",
      "  6.0720e+00 1.1170e+00 8.9100e-01 7.5200e-01 1.3800e-01 2.0000e-01\n",
      "  2.0000e-01 2.0000e-01 1.2410e+00 3.4500e-01 6.7200e-01 6.1450e+00\n",
      "  6.4330e+00 5.8680e+00 6.4790e+00 5.2320e+00 6.3210e+00 8.0790e+00\n",
      "  8.6400e+00 6.6380e+00 6.7050e+00 9.3490e+00 5.3420e+00 9.2430e+00\n",
      "  1.3184e+01 2.0000e-01 2.0000e-01 5.5400e-01 7.2000e-01 6.4300e-01\n",
      "  5.7200e-01 6.4000e-01 5.4700e-01 6.2700e-01 4.9000e-01 4.2600e-01\n",
      "  3.8100e-01 5.3200e-01 3.0500e-01 5.2400e-01 7.5300e-01 1.8044e+01\n",
      "  1.4932e+01 1.4640e+01 1.9485e+01 1.1979e+01 1.9210e+01 2.7304e+01]\n",
      " [4.0400e+00 2.1240e+00 3.6000e-02 6.5200e-01 3.4300e-01 2.0000e-01\n",
      "  2.0000e-01 2.0000e-01 5.0100e-01 5.1700e-01 1.1200e-01 3.1600e+00\n",
      "  1.5100e+00 7.0000e-03 6.7600e-01 3.2300e-01 2.0000e-01 2.0000e-01\n",
      "  2.0000e-01 3.1600e-01 2.4400e-01 2.0000e-03 3.1560e+00 1.5700e+00\n",
      "  1.6000e-02 6.6500e-01 3.3100e-01 2.0000e-01 2.0000e-01 2.0500e-01\n",
      "  3.0800e-01 2.7400e-01 1.7000e-02 4.0310e+00 2.1200e+00 3.3000e-02\n",
      "  6.5200e-01 3.4300e-01 2.0500e-01 2.0000e-01 2.0000e-01 4.9900e-01\n",
      "  5.1300e-01 8.9000e-02 3.2310e+00 1.6330e+00 2.2000e-02 6.6100e-01\n",
      "  3.3400e-01 2.0000e-01 2.0000e-01 2.0000e-01 3.2100e-01 3.0200e-01\n",
      "  3.6000e-02 4.2050e+00 2.2230e+00 3.8000e-02 6.5000e-01 3.4400e-01\n",
      "  2.0000e-01 2.0000e-01 2.0500e-01 5.4300e-01 5.6700e-01 1.3100e-01\n",
      "  4.0670e+00 2.0660e+00 1.8000e-02 6.6100e-01 3.3600e-01 2.0000e-01\n",
      "  2.0000e-01 2.0000e-01 5.2400e-01 4.5300e-01 1.7000e-02 6.2000e+00\n",
      "  4.6770e+00 4.7430e+00 6.1840e+00 4.8860e+00 6.4660e+00 6.1520e+00\n",
      "  8.8010e+00 4.8040e+00 5.0330e+00 8.7490e+00 5.3820e+00 9.5920e+00\n",
      "  8.5150e+00 2.0000e-01 2.0000e-01 4.9100e-01 5.1300e-01 4.9800e-01\n",
      "  4.9200e-01 4.9300e-01 4.9100e-01 4.9600e-01 3.7700e-01 1.8700e-01\n",
      "  2.0000e-01 3.6700e-01 2.2000e-01 4.1400e-01 3.3100e-01 1.5305e+01\n",
      "  9.5130e+00 9.8570e+00 1.5216e+01 1.0383e+01 1.6414e+01 1.4818e+01]]\n"
     ]
    },
    {
     "name": "stderr",
     "output_type": "stream",
     "text": [
      "<frozen importlib._bootstrap>:488: RuntimeWarning: to-Python converter for boost::shared_ptr<RDKit::FilterMatcherBase> already registered; second conversion method ignored.\n"
     ]
    }
   ],
   "source": [
    "from skfp.preprocessing import ConformerGenerator, MolFromSmilesTransformer\n",
    "from skfp.fingerprints import WHIMFingerprint\n",
    "\n",
    "smiles_list = [\"O=S(=O)(O)CCS(=O)(=O)O\", \"O=C(O)c1ccccc1O\"]\n",
    "\n",
    "mol_from_smiles = MolFromSmilesTransformer()\n",
    "conf_gen = ConformerGenerator()\n",
    "fp = WHIMFingerprint()\n",
    "print(fp.requires_conformers)  # True\n",
    "\n",
    "mols_list = mol_from_smiles.transform(smiles_list)\n",
    "mols_list = conf_gen.transform(mols_list)\n",
    "\n",
    "X = fp.transform(mols_list)\n",
    "print(X)\n"
   ]
  },
  {
   "cell_type": "code",
   "execution_count": 5,
   "metadata": {},
   "outputs": [
    {
     "name": "stdout",
     "output_type": "stream",
     "text": [
      "AUROC: 49.03%\n"
     ]
    }
   ],
   "source": [
    "from skfp.datasets.moleculenet import load_clintox\n",
    "from skfp.metrics import multioutput_auroc_score\n",
    "from skfp.model_selection import scaffold_train_test_split\n",
    "from skfp.fingerprints import ECFPFingerprint, MACCSFingerprint\n",
    "from skfp.preprocessing import MolFromSmilesTransformer\n",
    "\n",
    "from sklearn.ensemble import RandomForestClassifier\n",
    "from sklearn.pipeline import make_pipeline, make_union\n",
    "\n",
    "smiles, y = load_clintox()\n",
    "smiles_train, smiles_test, y_train, y_test = scaffold_train_test_split(\n",
    "    smiles, y, test_size=0.2\n",
    ")\n",
    "\n",
    "pipeline = make_pipeline(\n",
    "    MolFromSmilesTransformer(),\n",
    "    make_union(ECFPFingerprint(count=True), MACCSFingerprint()),\n",
    "    RandomForestClassifier(random_state=0),\n",
    ")\n",
    "pipeline.fit(smiles_train, y_train)\n",
    "\n",
    "y_pred_proba = pipeline.predict_proba(smiles_test)\n",
    "auroc = multioutput_auroc_score(y_test, y_pred_proba)\n",
    "print(f\"AUROC: {auroc:.2%}\")"
   ]
  }
 ],
 "metadata": {
  "kernelspec": {
   "display_name": "um-labs",
   "language": "python",
   "name": "python3"
  },
  "language_info": {
   "codemirror_mode": {
    "name": "ipython",
    "version": 3
   },
   "file_extension": ".py",
   "mimetype": "text/x-python",
   "name": "python",
   "nbconvert_exporter": "python",
   "pygments_lexer": "ipython3",
   "version": "3.12.5"
  }
 },
 "nbformat": 4,
 "nbformat_minor": 2
}
